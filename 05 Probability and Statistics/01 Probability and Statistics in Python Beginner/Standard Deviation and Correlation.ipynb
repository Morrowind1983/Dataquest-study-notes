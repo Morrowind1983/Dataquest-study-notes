{
 "cells": [
  {
   "cell_type": "markdown",
   "metadata": {},
   "source": [
    "In this mission, we'll be calculating statistics using data from the National Basketball Association (NBA)."
   ]
  },
  {
   "cell_type": "code",
   "execution_count": 1,
   "metadata": {
    "collapsed": true
   },
   "outputs": [],
   "source": [
    "import numpy as np\n",
    "import pandas as pd\n",
    "import matplotlib.pyplot as plt"
   ]
  },
  {
   "cell_type": "code",
   "execution_count": 2,
   "metadata": {
    "collapsed": true
   },
   "outputs": [],
   "source": [
    "nba_stats = pd.read_csv(\"nba_2013.csv\")"
   ]
  },
  {
   "cell_type": "code",
   "execution_count": 3,
   "metadata": {},
   "outputs": [
    {
     "data": {
      "text/html": [
       "<div>\n",
       "<style>\n",
       "    .dataframe thead tr:only-child th {\n",
       "        text-align: right;\n",
       "    }\n",
       "\n",
       "    .dataframe thead th {\n",
       "        text-align: left;\n",
       "    }\n",
       "\n",
       "    .dataframe tbody tr th {\n",
       "        vertical-align: top;\n",
       "    }\n",
       "</style>\n",
       "<table border=\"1\" class=\"dataframe\">\n",
       "  <thead>\n",
       "    <tr style=\"text-align: right;\">\n",
       "      <th></th>\n",
       "      <th>player</th>\n",
       "      <th>pos</th>\n",
       "      <th>age</th>\n",
       "      <th>bref_team_id</th>\n",
       "      <th>g</th>\n",
       "      <th>gs</th>\n",
       "      <th>mp</th>\n",
       "      <th>fg</th>\n",
       "      <th>fga</th>\n",
       "      <th>fg.</th>\n",
       "      <th>...</th>\n",
       "      <th>drb</th>\n",
       "      <th>trb</th>\n",
       "      <th>ast</th>\n",
       "      <th>stl</th>\n",
       "      <th>blk</th>\n",
       "      <th>tov</th>\n",
       "      <th>pf</th>\n",
       "      <th>pts</th>\n",
       "      <th>season</th>\n",
       "      <th>season_end</th>\n",
       "    </tr>\n",
       "  </thead>\n",
       "  <tbody>\n",
       "    <tr>\n",
       "      <th>0</th>\n",
       "      <td>Quincy Acy</td>\n",
       "      <td>SF</td>\n",
       "      <td>23</td>\n",
       "      <td>TOT</td>\n",
       "      <td>63</td>\n",
       "      <td>0</td>\n",
       "      <td>847</td>\n",
       "      <td>66</td>\n",
       "      <td>141</td>\n",
       "      <td>0.468</td>\n",
       "      <td>...</td>\n",
       "      <td>144</td>\n",
       "      <td>216</td>\n",
       "      <td>28</td>\n",
       "      <td>23</td>\n",
       "      <td>26</td>\n",
       "      <td>30</td>\n",
       "      <td>122</td>\n",
       "      <td>171</td>\n",
       "      <td>2013-2014</td>\n",
       "      <td>2013</td>\n",
       "    </tr>\n",
       "    <tr>\n",
       "      <th>1</th>\n",
       "      <td>Steven Adams</td>\n",
       "      <td>C</td>\n",
       "      <td>20</td>\n",
       "      <td>OKC</td>\n",
       "      <td>81</td>\n",
       "      <td>20</td>\n",
       "      <td>1197</td>\n",
       "      <td>93</td>\n",
       "      <td>185</td>\n",
       "      <td>0.503</td>\n",
       "      <td>...</td>\n",
       "      <td>190</td>\n",
       "      <td>332</td>\n",
       "      <td>43</td>\n",
       "      <td>40</td>\n",
       "      <td>57</td>\n",
       "      <td>71</td>\n",
       "      <td>203</td>\n",
       "      <td>265</td>\n",
       "      <td>2013-2014</td>\n",
       "      <td>2013</td>\n",
       "    </tr>\n",
       "    <tr>\n",
       "      <th>2</th>\n",
       "      <td>Jeff Adrien</td>\n",
       "      <td>PF</td>\n",
       "      <td>27</td>\n",
       "      <td>TOT</td>\n",
       "      <td>53</td>\n",
       "      <td>12</td>\n",
       "      <td>961</td>\n",
       "      <td>143</td>\n",
       "      <td>275</td>\n",
       "      <td>0.520</td>\n",
       "      <td>...</td>\n",
       "      <td>204</td>\n",
       "      <td>306</td>\n",
       "      <td>38</td>\n",
       "      <td>24</td>\n",
       "      <td>36</td>\n",
       "      <td>39</td>\n",
       "      <td>108</td>\n",
       "      <td>362</td>\n",
       "      <td>2013-2014</td>\n",
       "      <td>2013</td>\n",
       "    </tr>\n",
       "    <tr>\n",
       "      <th>3</th>\n",
       "      <td>Arron Afflalo</td>\n",
       "      <td>SG</td>\n",
       "      <td>28</td>\n",
       "      <td>ORL</td>\n",
       "      <td>73</td>\n",
       "      <td>73</td>\n",
       "      <td>2552</td>\n",
       "      <td>464</td>\n",
       "      <td>1011</td>\n",
       "      <td>0.459</td>\n",
       "      <td>...</td>\n",
       "      <td>230</td>\n",
       "      <td>262</td>\n",
       "      <td>248</td>\n",
       "      <td>35</td>\n",
       "      <td>3</td>\n",
       "      <td>146</td>\n",
       "      <td>136</td>\n",
       "      <td>1330</td>\n",
       "      <td>2013-2014</td>\n",
       "      <td>2013</td>\n",
       "    </tr>\n",
       "    <tr>\n",
       "      <th>4</th>\n",
       "      <td>Alexis Ajinca</td>\n",
       "      <td>C</td>\n",
       "      <td>25</td>\n",
       "      <td>NOP</td>\n",
       "      <td>56</td>\n",
       "      <td>30</td>\n",
       "      <td>951</td>\n",
       "      <td>136</td>\n",
       "      <td>249</td>\n",
       "      <td>0.546</td>\n",
       "      <td>...</td>\n",
       "      <td>183</td>\n",
       "      <td>277</td>\n",
       "      <td>40</td>\n",
       "      <td>23</td>\n",
       "      <td>46</td>\n",
       "      <td>63</td>\n",
       "      <td>187</td>\n",
       "      <td>328</td>\n",
       "      <td>2013-2014</td>\n",
       "      <td>2013</td>\n",
       "    </tr>\n",
       "  </tbody>\n",
       "</table>\n",
       "<p>5 rows × 31 columns</p>\n",
       "</div>"
      ],
      "text/plain": [
       "          player pos  age bref_team_id   g  gs    mp   fg   fga    fg.  \\\n",
       "0     Quincy Acy  SF   23          TOT  63   0   847   66   141  0.468   \n",
       "1   Steven Adams   C   20          OKC  81  20  1197   93   185  0.503   \n",
       "2    Jeff Adrien  PF   27          TOT  53  12   961  143   275  0.520   \n",
       "3  Arron Afflalo  SG   28          ORL  73  73  2552  464  1011  0.459   \n",
       "4  Alexis Ajinca   C   25          NOP  56  30   951  136   249  0.546   \n",
       "\n",
       "      ...      drb  trb  ast  stl  blk  tov   pf   pts     season  season_end  \n",
       "0     ...      144  216   28   23   26   30  122   171  2013-2014        2013  \n",
       "1     ...      190  332   43   40   57   71  203   265  2013-2014        2013  \n",
       "2     ...      204  306   38   24   36   39  108   362  2013-2014        2013  \n",
       "3     ...      230  262  248   35    3  146  136  1330  2013-2014        2013  \n",
       "4     ...      183  277   40   23   46   63  187   328  2013-2014        2013  \n",
       "\n",
       "[5 rows x 31 columns]"
      ]
     },
     "execution_count": 3,
     "metadata": {},
     "output_type": "execute_result"
    }
   ],
   "source": [
    "nba_stats.head()"
   ]
  },
  {
   "cell_type": "code",
   "execution_count": 4,
   "metadata": {},
   "outputs": [
    {
     "data": {
      "text/plain": [
       "Index(['player', 'pos', 'age', 'bref_team_id', 'g', 'gs', 'mp', 'fg', 'fga',\n",
       "       'fg.', 'x3p', 'x3pa', 'x3p.', 'x2p', 'x2pa', 'x2p.', 'efg.', 'ft',\n",
       "       'fta', 'ft.', 'orb', 'drb', 'trb', 'ast', 'stl', 'blk', 'tov', 'pf',\n",
       "       'pts', 'season', 'season_end'],\n",
       "      dtype='object')"
      ]
     },
     "execution_count": 4,
     "metadata": {},
     "output_type": "execute_result"
    }
   ],
   "source": [
    "nba_stats.columns"
   ]
  },
  {
   "cell_type": "code",
   "execution_count": 5,
   "metadata": {},
   "outputs": [
    {
     "data": {
      "text/html": [
       "<div>\n",
       "<style>\n",
       "    .dataframe thead tr:only-child th {\n",
       "        text-align: right;\n",
       "    }\n",
       "\n",
       "    .dataframe thead th {\n",
       "        text-align: left;\n",
       "    }\n",
       "\n",
       "    .dataframe tbody tr th {\n",
       "        vertical-align: top;\n",
       "    }\n",
       "</style>\n",
       "<table border=\"1\" class=\"dataframe\">\n",
       "  <thead>\n",
       "    <tr style=\"text-align: right;\">\n",
       "      <th></th>\n",
       "      <th>age</th>\n",
       "      <th>pts</th>\n",
       "      <th>ast</th>\n",
       "      <th>fg.</th>\n",
       "      <th>pf</th>\n",
       "      <th>mp</th>\n",
       "    </tr>\n",
       "  </thead>\n",
       "  <tbody>\n",
       "    <tr>\n",
       "      <th>count</th>\n",
       "      <td>481.000000</td>\n",
       "      <td>481.000000</td>\n",
       "      <td>481.000000</td>\n",
       "      <td>479.000000</td>\n",
       "      <td>481.000000</td>\n",
       "      <td>481.000000</td>\n",
       "    </tr>\n",
       "    <tr>\n",
       "      <th>mean</th>\n",
       "      <td>26.509356</td>\n",
       "      <td>516.582121</td>\n",
       "      <td>112.536383</td>\n",
       "      <td>0.436436</td>\n",
       "      <td>105.869023</td>\n",
       "      <td>1237.386694</td>\n",
       "    </tr>\n",
       "    <tr>\n",
       "      <th>std</th>\n",
       "      <td>4.198265</td>\n",
       "      <td>470.422228</td>\n",
       "      <td>131.019557</td>\n",
       "      <td>0.098672</td>\n",
       "      <td>71.213627</td>\n",
       "      <td>897.258840</td>\n",
       "    </tr>\n",
       "    <tr>\n",
       "      <th>min</th>\n",
       "      <td>19.000000</td>\n",
       "      <td>0.000000</td>\n",
       "      <td>0.000000</td>\n",
       "      <td>0.000000</td>\n",
       "      <td>0.000000</td>\n",
       "      <td>1.000000</td>\n",
       "    </tr>\n",
       "    <tr>\n",
       "      <th>25%</th>\n",
       "      <td>23.000000</td>\n",
       "      <td>115.000000</td>\n",
       "      <td>20.000000</td>\n",
       "      <td>0.400500</td>\n",
       "      <td>44.000000</td>\n",
       "      <td>388.000000</td>\n",
       "    </tr>\n",
       "    <tr>\n",
       "      <th>50%</th>\n",
       "      <td>26.000000</td>\n",
       "      <td>401.000000</td>\n",
       "      <td>65.000000</td>\n",
       "      <td>0.438000</td>\n",
       "      <td>104.000000</td>\n",
       "      <td>1141.000000</td>\n",
       "    </tr>\n",
       "    <tr>\n",
       "      <th>75%</th>\n",
       "      <td>29.000000</td>\n",
       "      <td>821.000000</td>\n",
       "      <td>152.000000</td>\n",
       "      <td>0.479500</td>\n",
       "      <td>158.000000</td>\n",
       "      <td>2016.000000</td>\n",
       "    </tr>\n",
       "    <tr>\n",
       "      <th>max</th>\n",
       "      <td>39.000000</td>\n",
       "      <td>2593.000000</td>\n",
       "      <td>721.000000</td>\n",
       "      <td>1.000000</td>\n",
       "      <td>273.000000</td>\n",
       "      <td>3122.000000</td>\n",
       "    </tr>\n",
       "  </tbody>\n",
       "</table>\n",
       "</div>"
      ],
      "text/plain": [
       "              age          pts         ast         fg.          pf  \\\n",
       "count  481.000000   481.000000  481.000000  479.000000  481.000000   \n",
       "mean    26.509356   516.582121  112.536383    0.436436  105.869023   \n",
       "std      4.198265   470.422228  131.019557    0.098672   71.213627   \n",
       "min     19.000000     0.000000    0.000000    0.000000    0.000000   \n",
       "25%     23.000000   115.000000   20.000000    0.400500   44.000000   \n",
       "50%     26.000000   401.000000   65.000000    0.438000  104.000000   \n",
       "75%     29.000000   821.000000  152.000000    0.479500  158.000000   \n",
       "max     39.000000  2593.000000  721.000000    1.000000  273.000000   \n",
       "\n",
       "                mp  \n",
       "count   481.000000  \n",
       "mean   1237.386694  \n",
       "std     897.258840  \n",
       "min       1.000000  \n",
       "25%     388.000000  \n",
       "50%    1141.000000  \n",
       "75%    2016.000000  \n",
       "max    3122.000000  "
      ]
     },
     "execution_count": 5,
     "metadata": {},
     "output_type": "execute_result"
    }
   ],
   "source": [
    "nba_stats[[\"age\",\"pts\",\"ast\",\"fg.\",\"pf\",\"mp\"]].describe()"
   ]
  },
  {
   "cell_type": "markdown",
   "metadata": {},
   "source": [
    "While we've looked at the mean briefly before, it has an interesting property we'd like to point out here.\n",
    "\n",
    "If we subtract the mean of a set of numbers from each of the numbers within that set, the overall total of all of the differences will always add up to zero.\n",
    "\n",
    "That's because the mean is the \"center\" of the data. All of the differences that are negative will always cancel out all of the differences that are positive. Let's look at some examples to verify this."
   ]
  },
  {
   "cell_type": "markdown",
   "metadata": {},
   "source": [
    "Let's also become familiar with the mathematical symbol for the mean:"
   ]
  },
  {
   "cell_type": "markdown",
   "metadata": {},
   "source": [
    "$ \\Huge\\mu_\\boldsymbol{x}$"
   ]
  },
  {
   "cell_type": "markdown",
   "metadata": {},
   "source": [
    "This symbol means \"the average of all of the values in x.\" The fact that x is lowercase and in bold indicates that it's a vector."
   ]
  },
  {
   "cell_type": "markdown",
   "metadata": {},
   "source": [
    "$\\Huge\\overline{\\boldsymbol{x}}$"
   ]
  },
  {
   "cell_type": "markdown",
   "metadata": {},
   "source": [
    "The bar over the top indicates \"the average of\"."
   ]
  },
  {
   "cell_type": "code",
   "execution_count": 6,
   "metadata": {},
   "outputs": [
    {
     "name": "stdout",
     "output_type": "stream",
     "text": [
      "4.625\n",
      "[-2.625, -0.625, 0.375, -5.625, -4.625, 5.375, 3.375, 4.375]\n",
      "0.0\n"
     ]
    }
   ],
   "source": [
    "# Make a list of values\n",
    "values = [2, 4, 5, -1, 0, 10, 8, 9]\n",
    "\n",
    "# Compute the mean of the values\n",
    "values_mean = sum(values) / len(values)\n",
    "print(values_mean)\n",
    "\n",
    "# Find the difference between each of the values and the mean by subtracting the mean from each value.\n",
    "differences = [i - values_mean for i in values]\n",
    "print(differences)\n",
    "\n",
    "# This equals 0.  If you'd like, try changing the values around to verify that it still equals 0.\n",
    "print(sum(differences))"
   ]
  },
  {
   "cell_type": "code",
   "execution_count": 7,
   "metadata": {},
   "outputs": [
    {
     "name": "stdout",
     "output_type": "stream",
     "text": [
      "4.5\n",
      "[-2.5, -0.5, 0.5, -5.5, -4.5, 5.5, 3.5, 4.5]\n",
      "1.0\n"
     ]
    }
   ],
   "source": [
    "# Find the median of the values list. Assign the result to values_median.\n",
    "values_median = np.median(values)\n",
    "print(values_median)\n",
    "\n",
    "# Subtract the median from each element in values.\n",
    "differences = [i - values_median for i in values]\n",
    "print(differences)\n",
    "\n",
    "# Sum up all of the differences, and assign the result to median_difference_sum.\n",
    "median_difference_sum = sum(differences)\n",
    "print(median_difference_sum)"
   ]
  },
  {
   "cell_type": "markdown",
   "metadata": {},
   "source": [
    "Let's look at **variance** in the data. Variance tells us how concentrated or \"spread out\" the data is around the mean."
   ]
  },
  {
   "cell_type": "markdown",
   "metadata": {},
   "source": [
    "We looked at kurtosis earlier, which measures the shape of a distribution. Variance directly measures how far the average data point is from the mean."
   ]
  },
  {
   "cell_type": "markdown",
   "metadata": {},
   "source": [
    "We calculate variance by subtracting every value from the mean, squaring the results, and then averaging them. Mathemically, this looks like this:"
   ]
  },
  {
   "cell_type": "markdown",
   "metadata": {},
   "source": [
    "$\\sigma^2 = \\frac{\\displaystyle\\sum_{i=1}^{n}(x_i - \\mu _x)^2} {n}$"
   ]
  },
  {
   "cell_type": "markdown",
   "metadata": {},
   "source": [
    "$\\sigma^2$ is variance, and $\\sum_{i=1}^{n}$ means \"the sum from 1 to n\", where n is the number of elements in a vector.\n",
    "\n",
    "This formula goes through the exact same process we just described, and is the most common way to represent it."
   ]
  },
  {
   "cell_type": "code",
   "execution_count": 8,
   "metadata": {},
   "outputs": [
    {
     "name": "stdout",
     "output_type": "stream",
     "text": [
      "5060.83731485\n"
     ]
    }
   ],
   "source": [
    "# We've already loaded the NBA data into the nba_stats variable.\n",
    "# Find the mean value of the column.\n",
    "pf_mean = nba_stats[\"pf\"].mean()\n",
    "\n",
    "# Initialize variance at zero.\n",
    "variance = 0\n",
    "\n",
    "# Loop through each item in the \"pf\" column.\n",
    "for p in nba_stats[\"pf\"]:\n",
    "    # Calculate the difference between the mean and the value.\n",
    "    difference = p - pf_mean\n",
    "    # Square the difference. This ensures that the result isn't negative.\n",
    "    # If we didn't square the difference, the total variance would be zero.\n",
    "    # ** in python means \"raise whatever comes before this to the power of whatever number is after this.\"\n",
    "    square_difference = difference ** 2\n",
    "    # Add the difference to the total.\n",
    "    variance += square_difference\n",
    "    \n",
    "# Average the total to find the final variance.\n",
    "variance = variance / len(nba_stats[\"pf\"])\n",
    "\n",
    "print(variance)"
   ]
  },
  {
   "cell_type": "code",
   "execution_count": 9,
   "metadata": {},
   "outputs": [
    {
     "name": "stdout",
     "output_type": "stream",
     "text": [
      "220836.99585496247\n"
     ]
    }
   ],
   "source": [
    "# Compute the variance of the data set's \"pts\" column, which holds the total number of points each player scored.\n",
    "# Assign the result to point_variance.\n",
    "point_variance = np.var(nba_stats[\"pts\"])\n",
    "\n",
    "print(point_variance)"
   ]
  },
  {
   "cell_type": "markdown",
   "metadata": {},
   "source": [
    "We've been multiplying and dividing values, but we haven't really discussed the order of operations yet."
   ]
  },
  {
   "cell_type": "markdown",
   "metadata": {},
   "source": [
    "The order of operations defines the sequence in which mathematical operations occur. "
   ]
  },
  {
   "cell_type": "markdown",
   "metadata": {},
   "source": [
    "Exponents occur first. That means if we raise something to a power (x \\*\\* y), that operation will execute before anything else.\n",
    "\n",
    "Multiplication (x * y) and division (x / y) occur next. They are equal to each other in priority.\n",
    "\n",
    "Addition (x + y) and subtraction (x - y) will occur last. They are also equal to each other in priority."
   ]
  },
  {
   "cell_type": "markdown",
   "metadata": {},
   "source": [
    "So raising something to a power will always happen first, then any multiplication/division, and finally any addition/subtraction."
   ]
  },
  {
   "cell_type": "code",
   "execution_count": 10,
   "metadata": {},
   "outputs": [
    {
     "name": "stdout",
     "output_type": "stream",
     "text": [
      "True\n",
      "True\n"
     ]
    }
   ],
   "source": [
    "# You may be wondering why multiplication and division are on the same level.\n",
    "# It doesn't matter whether we do the multiplication or division first; the answer here will always be the same.\n",
    "# In this case, we need to think of division as multiplication by a fraction.\n",
    "# Otherwise, we'll be dividing more than we want to.\n",
    "# Create a formula\n",
    "a = 5 * 5 / 2\n",
    "# Multiply by 1/2 instead of dividing by 2. The result is the same (2/2 == 2 * 1/2).\n",
    "a_subbed = 5 * 5 * 1/2\n",
    "a_mul_first = 25 * 1/2\n",
    "a_div_first = 5 * 2.5\n",
    "print(a_mul_first == a_div_first)\n",
    "\n",
    "# The same is true for subtraction and addition.\n",
    "# In this case, we need to convert subtraction into adding a negative number.\n",
    "# If we don't we'll end up subtracting more than we expect.\n",
    "b = 10 - 8 + 5\n",
    "# Add -8 instead of subtracting 8.\n",
    "b_subbed = 10 + -8 + 5\n",
    "b_sub_first = 2 + 5\n",
    "b_add_first = 10 + -3\n",
    "print(b_sub_first == b_add_first)"
   ]
  },
  {
   "cell_type": "code",
   "execution_count": 11,
   "metadata": {},
   "outputs": [
    {
     "name": "stdout",
     "output_type": "stream",
     "text": [
      "25\n",
      "0.5\n"
     ]
    }
   ],
   "source": [
    "c = 10 / 2 + 5\n",
    "d = 3 - 1 / 2 * 2\n",
    "\n",
    "# Change the mathematical operations around so that c equals 25 and d equals .5.\n",
    "c = 10 * 2 + 5\n",
    "d = 3 - 1 / 2 - 2\n",
    "\n",
    "print(c)\n",
    "print(d)"
   ]
  },
  {
   "cell_type": "markdown",
   "metadata": {},
   "source": [
    "We can use parentheses to override the order of operations and make something happen first."
   ]
  },
  {
   "cell_type": "code",
   "execution_count": 12,
   "metadata": {},
   "outputs": [
    {
     "name": "stdout",
     "output_type": "stream",
     "text": [
      "400.0\n",
      "2400.0\n"
     ]
    }
   ],
   "source": [
    "a = 50 * 50 - 10 / 5\n",
    "a_paren = 50 * (50 - 10) / 5\n",
    "print(a_paren)\n",
    "\n",
    "# If we put multiple operations inside parentheses,\n",
    "# the interpreter will use the order of operations to determine the sequence in which it should execute them.\n",
    "a_paren = 50 * (50 - 10 / 5)\n",
    "print(a_paren)"
   ]
  },
  {
   "cell_type": "code",
   "execution_count": 13,
   "metadata": {},
   "outputs": [
    {
     "name": "stdout",
     "output_type": "stream",
     "text": [
      "1100\n",
      "200\n"
     ]
    }
   ],
   "source": [
    "b = 10 * 10 + 100\n",
    "c = 8 - 6 * 100\n",
    "\n",
    "# Use parentheses to make b equal 1100.\n",
    "b = 10 * (10 + 100)\n",
    "print(b)\n",
    "\n",
    "# Use parentheses to make c equal 200.\n",
    "c = (8 - 6) * 100\n",
    "print(c)"
   ]
  },
  {
   "cell_type": "markdown",
   "metadata": {},
   "source": [
    "Before we explore variance in greater depth, let's take a quick look at exponents."
   ]
  },
  {
   "cell_type": "code",
   "execution_count": 14,
   "metadata": {},
   "outputs": [
    {
     "name": "stdout",
     "output_type": "stream",
     "text": [
      "25\n",
      "10000\n",
      "3.0\n",
      "3.9999999999999996\n"
     ]
    }
   ],
   "source": [
    "a = 5 ** 2\n",
    "print(a)\n",
    "\n",
    "# Raise to the fourth power\n",
    "b = 10 ** 4\n",
    "print(b)\n",
    "\n",
    "# Take the square root ( 3 * 3 == 9, so the answer is 3)\n",
    "c = 9 ** (1/2)\n",
    "print(c)\n",
    "\n",
    "# Take the cube root (4 * 4 * 4 == 64, so 4 is the cube root)\n",
    "d = 64 ** (1/3)\n",
    "print(d)"
   ]
  },
  {
   "cell_type": "code",
   "execution_count": 15,
   "metadata": {},
   "outputs": [
    {
     "name": "stdout",
     "output_type": "stream",
     "text": [
      "161051\n",
      "10.0\n"
     ]
    }
   ],
   "source": [
    "# Raise 11 to the fifth power. Assign the result to e.\n",
    "e = 11 ** 5\n",
    "print(e)\n",
    "\n",
    "# Take the fourth root of 10000. Assign the result to f.\n",
    "f = 10000 ** (1/4)\n",
    "print(f)"
   ]
  },
  {
   "cell_type": "markdown",
   "metadata": {},
   "source": [
    "**Standard deviation** is the most common way to refer to the distance between data points and the mean. It's a very useful concept and a great way to measure the density of a data set."
   ]
  },
  {
   "cell_type": "markdown",
   "metadata": {},
   "source": [
    "While it may sound complicated, standard deviation is fairly straightforward; it's the square root of the variance."
   ]
  },
  {
   "cell_type": "markdown",
   "metadata": {},
   "source": [
    "Here's the mathematical formula for standard deviation:"
   ]
  },
  {
   "cell_type": "markdown",
   "metadata": {},
   "source": [
    "$\\sigma = \\sqrt{\\frac{\\displaystyle\\sum_{i=1}^{n}(x_i - \\mu _x)^2} {n}}$"
   ]
  },
  {
   "cell_type": "markdown",
   "metadata": {},
   "source": [
    "Statisticians and data scientists typically measure the percentage of data that falls within one or two standard deviations of the mean."
   ]
  },
  {
   "cell_type": "code",
   "execution_count": 16,
   "metadata": {},
   "outputs": [
    {
     "name": "stdout",
     "output_type": "stream",
     "text": [
      "896.32565278\n",
      "130.883290708\n"
     ]
    }
   ],
   "source": [
    "# Write a function that calculates the standard deviation of a given column in the nba_stats data.\n",
    "def calc_column_deviation(column):\n",
    "    mean = column.mean()\n",
    "    variance = 0\n",
    "    for p in column:\n",
    "        difference = p - mean\n",
    "        square_difference = difference ** 2\n",
    "        variance += square_difference\n",
    "    variance = variance / len(column)\n",
    "    return variance ** (1/2)\n",
    "\n",
    "# Use the new function to calculate the standard deviation of the minutes played column (\"mp\").\n",
    "# Assign the results to mp_dev.\n",
    "mp_dev = calc_column_deviation(nba_stats[\"mp\"])\n",
    "print(mp_dev)\n",
    "\n",
    "# Use the function to calculate the standard deviation of the assists column (\"ast\").\n",
    "# Assign the results to ast_dev.\n",
    "ast_dev = calc_column_deviation(nba_stats[\"ast\"])\n",
    "print(ast_dev)"
   ]
  },
  {
   "cell_type": "markdown",
   "metadata": {},
   "source": [
    "The standard deviation is very useful because it lets us compare the points in a distribution to the mean."
   ]
  },
  {
   "cell_type": "markdown",
   "metadata": {},
   "source": [
    "We can say that a certain point is \"two standard deviations away from the mean,\" for example. This gives us a way to compare data density across different charts."
   ]
  },
  {
   "cell_type": "code",
   "execution_count": 17,
   "metadata": {},
   "outputs": [
    {
     "data": {
      "image/png": "[encoded data removed]",
      "text/plain": [
       "<matplotlib.figure.Figure at 0x1132974e0>"
      ]
     },
     "metadata": {},
     "output_type": "display_data"
    },
    {
     "name": "stdout",
     "output_type": "stream",
     "text": [
      "mean = 105.869023\n",
      "std_dev = 71.213627\n",
      "point_0 = 122.000000\n",
      "standard_deviation_distance_0 = 0.226515\n"
     ]
    }
   ],
   "source": [
    "plt.hist(nba_stats[\"pf\"])\n",
    "\n",
    "mean = nba_stats[\"pf\"].mean()\n",
    "plt.axvline(mean, color=\"r\")\n",
    "\n",
    "# We can calculate standard deviation by using the std() method on a pandas series.\n",
    "std_dev = nba_stats[\"pf\"].std()\n",
    "\n",
    "# Plot a line one standard deviation below the mean.\n",
    "plt.axvline(mean - std_dev, color=\"g\")\n",
    "\n",
    "# Plot a line one standard deviation above the mean.\n",
    "plt.axvline(mean + std_dev, color=\"g\")\n",
    "\n",
    "# We can see how many of the data points fall within one standard deviation of the mean.\n",
    "# The more that fall into this range, the more dense the data is.\n",
    "plt.show()\n",
    "\n",
    "# We can calculate how many standard deviations a data point is from the mean by doing some subtraction and division.\n",
    "# First, we find the total distance by subtracting the mean.\n",
    "total_distance = nba_stats[\"pf\"][0] - mean\n",
    "\n",
    "# Then we divide by standard deviation to find how many standard deviations away the point is.\n",
    "standard_deviation_distance = total_distance / std_dev\n",
    "\n",
    "print(\"mean = %f\"%mean)\n",
    "print(\"std_dev = %f\"%std_dev)\n",
    "print(\"point_0 = %f\"%nba_stats[\"pf\"][0])\n",
    "print(\"standard_deviation_distance_0 = %f\"%standard_deviation_distance)"
   ]
  },
  {
   "cell_type": "code",
   "execution_count": 18,
   "metadata": {},
   "outputs": [
    {
     "name": "stdout",
     "output_type": "stream",
     "text": [
      "mean = 105.869023\n",
      "std_dev = 71.213627\n",
      "point_10 = 121.000000\n",
      "point_10_std = 0.212473\n",
      "point_100 = 141.000000\n",
      "point_100_std = 0.493318\n"
     ]
    }
   ],
   "source": [
    "point_10 = nba_stats[\"pf\"][9]\n",
    "point_100 = nba_stats[\"pf\"][99]\n",
    "\n",
    "# Find how many standard deviations away from the mean point_10 is. Assign the result to point_10_std.\n",
    "point_10_std = (point_10-mean)/std_dev\n",
    "\n",
    "# Find how many standard deviations away from the mean point_100 is. Assign the result to point_100_std.\n",
    "point_100_std = (point_100-mean)/std_dev\n",
    "\n",
    "print(\"mean = %f\"%mean)\n",
    "print(\"std_dev = %f\"%std_dev)\n",
    "print(\"point_10 = %f\"%point_10)\n",
    "print(\"point_10_std = %f\"%point_10_std)\n",
    "print(\"point_100 = %f\"%point_100)\n",
    "print(\"point_100_std = %f\"%point_100_std)"
   ]
  },
  {
   "cell_type": "markdown",
   "metadata": {},
   "source": [
    "The **normal distribution** is a special kind of distribution. You might recognize it more commonly as a bell curve."
   ]
  },
  {
   "cell_type": "markdown",
   "metadata": {},
   "source": [
    "The normal distribution is found in a variety of natural phenomena. If we made a histogram of the heights of everyone on the planet, for example, it would be more or less a normal distribution."
   ]
  },
  {
   "cell_type": "markdown",
   "metadata": {},
   "source": [
    "We can generate a normal distribution by using a **probability density function**."
   ]
  },
  {
   "cell_type": "code",
   "execution_count": 19,
   "metadata": {
    "collapsed": true
   },
   "outputs": [],
   "source": [
    "from scipy.stats import norm"
   ]
  },
  {
   "cell_type": "code",
   "execution_count": 20,
   "metadata": {},
   "outputs": [
    {
     "data": {
      "image/png": "[encoded data removed]",
      "text/plain": [
       "<matplotlib.figure.Figure at 0x11707d198>"
      ]
     },
     "metadata": {},
     "output_type": "display_data"
    }
   ],
   "source": [
    "# The arange function generates a numpy vector\n",
    "# The vector below will start at -1, and go up to, but not including 1\n",
    "# It will proceed in \"steps\" of .01.\n",
    "# So the first element will be -1, the second -.99, the third -.98, all the way up to .99.\n",
    "points = np.arange(-1, 1, 0.01)\n",
    "\n",
    "# The norm.pdf function will take the points vector and convert it into a probability vector\n",
    "# Each element in the vector will correspond to the normal distribution\n",
    "# (earlier elements and later element smaller, peak in the center)\n",
    "# The distribution will be centered on 0, and will have a standard devation of .3\n",
    "probabilities = norm.pdf(points, 0, .3)\n",
    "\n",
    "# Plot the points values on the x-axis and the corresponding probabilities on the y-axis\n",
    "# See the bell curve?\n",
    "plt.plot(points, probabilities)\n",
    "plt.show()"
   ]
  },
  {
   "cell_type": "code",
   "execution_count": 21,
   "metadata": {},
   "outputs": [
    {
     "data": {
      "image/png": "[encoded data removed]",
      "text/plain": [
       "<matplotlib.figure.Figure at 0x117235b38>"
      ]
     },
     "metadata": {},
     "output_type": "display_data"
    }
   ],
   "source": [
    "# Make a normal distribution across the range that starts at -10, ends at 10, and has the step .1.\n",
    "points = np.arange(-10, 10, 0.1)\n",
    "\n",
    "# The distribution should have a mean of 0 and standard deviation of 2.\n",
    "probabilities = norm.pdf(points, 0, 2)\n",
    "\n",
    "plt.plot(points, probabilities)\n",
    "plt.show()"
   ]
  },
  {
   "cell_type": "markdown",
   "metadata": {},
   "source": [
    "One cool thing about normal distributions is that for every single one, the same percentage of the data is within one standard deviation of the mean, the same percentage is within two standard deviations of the mean, and so on."
   ]
  },
  {
   "cell_type": "markdown",
   "metadata": {},
   "source": [
    "About 68% of the data is within one standard deviation, roughly 95% is within two standard deviations, and about 99% is within three standard deviations."
   ]
  },
  {
   "cell_type": "markdown",
   "metadata": {},
   "source": [
    "This helps us quickly understand where values fall within the data set, as well as how typical or unusual they are."
   ]
  },
  {
   "cell_type": "code",
   "execution_count": 22,
   "metadata": {
    "collapsed": true
   },
   "outputs": [],
   "source": [
    "# Housefly wing lengths in millimeters\n",
    "wing_lengths = [36, 37, 38, 38, 39, 39, 40, 40, 40, 40, 41, 41, 41, 41, 41, 41, 42, 42, 42, 42, 42, 42, 42, 43, 43, 43, 43, 43, 43, 43, 43, 44, 44, 44, 44, 44, 44, 44, 44, 44, 45, 45, 45, 45, 45, 45, 45, 45, 45, 45, 46, 46, 46, 46, 46, 46, 46, 46, 46, 46, 47, 47, 47, 47, 47, 47, 47, 47, 47, 48, 48, 48, 48, 48, 48, 48, 48, 49, 49, 49, 49, 49, 49, 49, 50, 50, 50, 50, 50, 50, 51, 51, 51, 51, 52, 52, 53, 53, 54, 55]"
   ]
  },
  {
   "cell_type": "code",
   "execution_count": 23,
   "metadata": {},
   "outputs": [
    {
     "name": "stdout",
     "output_type": "stream",
     "text": [
      "0.68\n",
      "0.96\n",
      "1.0\n"
     ]
    }
   ],
   "source": [
    "# For each point in wing_lengths, calculate the distance from the mean in number of standard deviations.\n",
    "mean = np.mean(wing_lengths)\n",
    "std_dev = np.std(wing_lengths)\n",
    "std_devs = [(i-mean)/std_dev for i in wing_lengths]\n",
    "\n",
    "def within_percentage(devs, count):\n",
    "    return len([i for i in devs if i<=count and i>=-count])/len(devs)\n",
    "\n",
    "# Calculate the percentage of the data that's within one standard deviation of the mean.\n",
    "# Assign the result to within_one_percentage.\n",
    "within_one_percentage = within_percentage(std_devs,1)\n",
    "print(within_one_percentage)\n",
    "\n",
    "# Calculate the percentage of the data that's within two standard deviations of the mean.\n",
    "# Assign the result to within_two_percentage.\n",
    "within_two_percentage = within_percentage(std_devs,2)\n",
    "print(within_two_percentage)\n",
    "\n",
    "# Calculate the percentage of the data that's within three standard deviations of the mean.\n",
    "# Assign the result to within_three_percentage.\n",
    "within_three_percentage = within_percentage(std_devs,3)\n",
    "print(within_three_percentage)"
   ]
  },
  {
   "cell_type": "markdown",
   "metadata": {},
   "source": [
    "We've spent a lot of time looking at single variables and how their distributions look. While distributions are interesting on their own, it can also be revealing to look at how two variables correlate with each other."
   ]
  },
  {
   "cell_type": "markdown",
   "metadata": {},
   "source": [
    "Much of statistics deals with analyzing how variables impact each other, and the first step is to graph them out with a scatterplot."
   ]
  },
  {
   "cell_type": "markdown",
   "metadata": {},
   "source": [
    "While graphing them out, we can look at correlation. If two variables change together (ie, when one goes up, the other goes up), we know that they are correlated."
   ]
  },
  {
   "cell_type": "code",
   "execution_count": 24,
   "metadata": {},
   "outputs": [
    {
     "data": {
      "image/png": "[encoded data removed]",
      "text/plain": [
       "<matplotlib.figure.Figure at 0x117273400>"
      ]
     },
     "metadata": {},
     "output_type": "display_data"
    },
    {
     "data": {
      "image/png": "[encoded data removed]",
      "text/plain": [
       "<matplotlib.figure.Figure at 0x1131c6160>"
      ]
     },
     "metadata": {},
     "output_type": "display_data"
    },
    {
     "data": {
      "image/png": "[encoded data removed]",
      "text/plain": [
       "<matplotlib.figure.Figure at 0x113247ef0>"
      ]
     },
     "metadata": {},
     "output_type": "display_data"
    }
   ],
   "source": [
    "# Plot field goals attempted (number of shots someone takes in a season) vs. point scored in a season.\n",
    "# Field goals attempted is on the x-axis, and points is on the y-axis.\n",
    "# As you can tell, they are very strongly correlated. The plot is close to a straight line.\n",
    "# The plot also slopes upward, which means that as field goal attempts go up, so do points.\n",
    "# That means that the plot is positively correlated.\n",
    "plt.scatter(nba_stats[\"fga\"], nba_stats[\"pts\"])\n",
    "plt.show()\n",
    "\n",
    "# If we make points negative (so the people who scored the most points now score the least,\n",
    "# because 3000 becomes -3000), we can change the direction of the correlation.\n",
    "# Field goals are negatively correlated with our new \"negative\" points column -- the more free throws you attempt,\n",
    "# the less negative points you score.\n",
    "# We can see this because the correlation line slopes downward.\n",
    "plt.scatter(nba_stats[\"fga\"], -nba_stats[\"pts\"])\n",
    "plt.show()\n",
    "\n",
    "# Now, we can plot total rebounds (number of times someone got the ball back for their team after someone shot)\n",
    "# vs total assists (number of times someone helped another person score).\n",
    "# These are uncorrelated, so you don't see the same nice line as you see with the plot above.\n",
    "plt.scatter(nba_stats[\"trb\"], nba_stats[\"ast\"])\n",
    "plt.show()"
   ]
  },
  {
   "cell_type": "code",
   "execution_count": 25,
   "metadata": {},
   "outputs": [
    {
     "data": {
      "image/png": "[encoded data removed]",
      "text/plain": [
       "<matplotlib.figure.Figure at 0x117067e10>"
      ]
     },
     "metadata": {},
     "output_type": "display_data"
    }
   ],
   "source": [
    "# Make a scatterplot of the \"fta\" (free throws attempted) column against the \"pts\" column.\n",
    "plt.scatter(nba_stats[\"fta\"], nba_stats[\"pts\"])\n",
    "plt.show()"
   ]
  },
  {
   "cell_type": "code",
   "execution_count": 26,
   "metadata": {},
   "outputs": [
    {
     "data": {
      "image/png": "[encoded data removed]",
      "text/plain": [
       "<matplotlib.figure.Figure at 0x117914390>"
      ]
     },
     "metadata": {},
     "output_type": "display_data"
    }
   ],
   "source": [
    "# Make a scatterplot of the \"stl\" (steals) column against the \"pf\" column.\n",
    "plt.scatter(nba_stats[\"stl\"], nba_stats[\"pf\"])\n",
    "plt.show()"
   ]
  },
  {
   "cell_type": "markdown",
   "metadata": {},
   "source": [
    "Measuring correlation can be a big help when we need to analyze a lot of variables. This spares us from having to eyeball everything."
   ]
  },
  {
   "cell_type": "markdown",
   "metadata": {},
   "source": [
    "The most common way to measure correlation is to use **Pearson's r**, which we also call an **r-value**."
   ]
  },
  {
   "cell_type": "markdown",
   "metadata": {},
   "source": [
    "We'll explore how the calculations work later. For now, though, we'll focus on the values."
   ]
  },
  {
   "cell_type": "markdown",
   "metadata": {},
   "source": [
    "An r-value ranges from -1 to 1, and indicates how strongly two variables are correlated.\n",
    "* A 1 indicates a perfect positive correlation. This would appear as a straight, upward-sloping line on our plots.\n",
    "* A 0 indicates no correlation. We'd see a scatterplot with points that appear random.\n",
    "* A -1 indicates a perfect negative correlation. This would appear as a straight, downward-sloping line."
   ]
  },
  {
   "cell_type": "markdown",
   "metadata": {},
   "source": [
    "Any correlation between -1 and 0 will show up as a scattering of points. The same is true of correlations falling between 0 and 1. The closer the value is to 0, the more random the points will appear. The closer it is to -1 or 1, the more \"line-like\" the points will appear."
   ]
  },
  {
   "cell_type": "markdown",
   "metadata": {},
   "source": [
    "We can use a function from scipy to calculate Pearson's r."
   ]
  },
  {
   "cell_type": "code",
   "execution_count": 27,
   "metadata": {
    "collapsed": true
   },
   "outputs": [],
   "source": [
    "from scipy.stats.stats import pearsonr"
   ]
  },
  {
   "cell_type": "code",
   "execution_count": 28,
   "metadata": {},
   "outputs": [
    {
     "name": "stdout",
     "output_type": "stream",
     "text": [
      "0.989211400652\n",
      "0.369861731248\n"
     ]
    }
   ],
   "source": [
    "# The pearsonr function will find the correlation between two columns of data.\n",
    "# It returns the r value and the p value.  We'll learn more about p values later on.\n",
    "r, p_value = pearsonr(nba_stats[\"fga\"], nba_stats[\"pts\"])\n",
    "# As we can see, this is a very high positive r value - it's close to 1.\n",
    "print(r)\n",
    "\n",
    "# These two columns are much less correlated.\n",
    "r, p_value = pearsonr(nba_stats[\"trb\"], nba_stats[\"ast\"])\n",
    "# We get a much lower, but still positive, r value.\n",
    "print(r)"
   ]
  },
  {
   "cell_type": "code",
   "execution_count": 29,
   "metadata": {},
   "outputs": [
    {
     "name": "stdout",
     "output_type": "stream",
     "text": [
      "0.918978538402\n"
     ]
    }
   ],
   "source": [
    "# Find the correlation between the \"fta\" column and the \"pts\" column. Assign the result to r_fta_pts.\n",
    "r_fta_pts, p_value = pearsonr(nba_stats[\"fta\"], nba_stats[\"pts\"])\n",
    "print(r_fta_pts)"
   ]
  },
  {
   "cell_type": "code",
   "execution_count": 30,
   "metadata": {},
   "outputs": [
    {
     "name": "stdout",
     "output_type": "stream",
     "text": [
      "0.737628216749\n"
     ]
    }
   ],
   "source": [
    "# Find the correlation between the \"stl\" column and the \"pf\" column. Assign the result to r_stl_pf.\n",
    "r_stl_pf, p_value = pearsonr(nba_stats[\"stl\"], nba_stats[\"pf\"])\n",
    "print(r_stl_pf)"
   ]
  },
  {
   "cell_type": "markdown",
   "metadata": {},
   "source": [
    "We looked at finding the correlation coefficient with a function. Now, let's take a brief look under the hood to see how we can do it ourselves."
   ]
  },
  {
   "cell_type": "markdown",
   "metadata": {},
   "source": [
    "Another way to think of correlation is in terms of variance."
   ]
  },
  {
   "cell_type": "markdown",
   "metadata": {},
   "source": [
    "Two variables are correlated when they both vary individually, but in similar ways. For example, correlation occurs when if one variable goes up, another variable also goes up."
   ]
  },
  {
   "cell_type": "markdown",
   "metadata": {},
   "source": [
    "This is called **covariance**. Covariance refers to how different numbers vary jointly."
   ]
  },
  {
   "cell_type": "markdown",
   "metadata": {},
   "source": [
    "There's a limit to how much two variables can co-vary. This is because each variable has its own variance. These individual variances set a maximum theoretical limit on the covariance between two variables. In other words, a set of variables can't co-vary more from the mean than the two variables individually vary from the mean."
   ]
  },
  {
   "cell_type": "markdown",
   "metadata": {},
   "source": [
    "Two variables reach the maximum possible covariance when they vary in an identical way (ie, you see a straight line on the plot)."
   ]
  },
  {
   "cell_type": "markdown",
   "metadata": {},
   "source": [
    "The r-value is a ratio between the actual covariance and the maximum possible positive covariance."
   ]
  },
  {
   "cell_type": "markdown",
   "metadata": {},
   "source": [
    "Let's look at actual covariance first. Mathematically speaking, covariance between two variables looks like this:"
   ]
  },
  {
   "cell_type": "markdown",
   "metadata": {},
   "source": [
    "$cov(\\mathbf{x},\\mathbf{y})=\\frac{\\sum_{i=1}^{n}(x_i-\\mu _x)(y_i-\\mu _y)}{n}$"
   ]
  },
  {
   "cell_type": "markdown",
   "metadata": {},
   "source": [
    "For each element in the vectors x and y, we:\n",
    "\n",
    "1. Take the value at each position from 1 to the length of the vectors.\n",
    "2. Subtract the mean of the vector from those values.\n",
    "3. Multiply them together at each position, and all of the resulting values together."
   ]
  },
  {
   "cell_type": "code",
   "execution_count": 31,
   "metadata": {},
   "outputs": [
    {
     "name": "stdout",
     "output_type": "stream",
     "text": [
      "1823.35484805\n",
      "56618.4139807\n"
     ]
    }
   ],
   "source": [
    "# Make a function that calculates covariance.\n",
    "def cov(x, y):\n",
    "    sums = 0\n",
    "    count = len(x)\n",
    "    x_mean = np.mean(x)\n",
    "    y_mean = np.mean(y)\n",
    "    for i in range(0, count):\n",
    "        sums += (x[i]-x_mean)*(y[i]-y_mean)\n",
    "    return sums/count\n",
    "\n",
    "# Use the function to calculate the covariance of the \"stl\" and \"pf\" columns. Assign the result to cov_stl_pf.\n",
    "cov_stl_pf = cov(nba_stats[\"stl\"], nba_stats[\"pf\"])\n",
    "print(cov_stl_pf)\n",
    "\n",
    "# Use the function to calculate the covariance of the \"fta\" and \"pts\" columns. Assign the result to cov_fta_pts.\n",
    "cov_fta_pts = cov(nba_stats[\"fta\"], nba_stats[\"pts\"])\n",
    "print(cov_fta_pts)"
   ]
  },
  {
   "cell_type": "markdown",
   "metadata": {},
   "source": [
    "Now that we know how to calculate covariance, we can get the correlation coefficient using the following formula:"
   ]
  },
  {
   "cell_type": "markdown",
   "metadata": {},
   "source": [
    "$\\frac{cov(\\mathbf{x},\\mathbf{y})}{\\sigma_{x}\\sigma_{y}}$"
   ]
  },
  {
   "cell_type": "markdown",
   "metadata": {},
   "source": [
    "For the denominator, we need to multiply the standard deviations for x and y. This is the maximum possible positive covariance, which is just both of the standard deviation values multiplied. If we divide our actual covariance by this, we get the r-value."
   ]
  },
  {
   "cell_type": "markdown",
   "metadata": {},
   "source": [
    "We can use the **std** method on any pandas DataFrame or Series to calculate the standard deviation. The following code returns the standard deviation for the pf column:\n",
    "\n",
    "**nba_stats[\"pf\"].std()**"
   ]
  },
  {
   "cell_type": "markdown",
   "metadata": {},
   "source": [
    "We can use the **cov** function from NumPy to compute covariance, returning a 2x2 matrix. The following code returns the covariance between the pf and stl columns:\n",
    "\n",
    "**cov(nba_stats[\"pf\"], nba_stats[\"stl\"])[0,1]**"
   ]
  },
  {
   "cell_type": "code",
   "execution_count": 32,
   "metadata": {},
   "outputs": [
    {
     "name": "stdout",
     "output_type": "stream",
     "text": [
      "0.456062822144\n",
      "0.456062822144\n"
     ]
    }
   ],
   "source": [
    "# Compute the correlation coefficient for the fta and blk columns, and assign the result to r_fta_blk.\n",
    "r_fta_blk = np.cov(nba_stats[\"fta\"], nba_stats[\"blk\"])[0,1]/(nba_stats[\"fta\"].std()*nba_stats[\"blk\"].std())\n",
    "print(r_fta_blk)\n",
    "print(pearsonr(nba_stats[\"fta\"], nba_stats[\"blk\"])[0])"
   ]
  },
  {
   "cell_type": "code",
   "execution_count": 33,
   "metadata": {},
   "outputs": [
    {
     "name": "stdout",
     "output_type": "stream",
     "text": [
      "0.770427979468\n",
      "0.770427979468\n"
     ]
    }
   ],
   "source": [
    "# Compute the correlation coefficient for the ast and stl columns, and assign the result to r_ast_stl.\n",
    "r_ast_stl = np.cov(nba_stats[\"ast\"], nba_stats[\"stl\"])[0,1]/(nba_stats[\"ast\"].std()*nba_stats[\"stl\"].std())\n",
    "print(r_ast_stl)\n",
    "print(pearsonr(nba_stats[\"ast\"], nba_stats[\"stl\"])[0])"
   ]
  },
  {
   "cell_type": "code",
   "execution_count": null,
   "metadata": {
    "collapsed": true
   },
   "outputs": [],
   "source": []
  }
 ],
 "metadata": {
  "kernelspec": {
   "display_name": "Python 3",
   "language": "python",
   "name": "python3"
  },
  "language_info": {
   "codemirror_mode": {
    "name": "ipython",
    "version": 3
   },
   "file_extension": ".py",
   "mimetype": "text/x-python",
   "name": "python",
   "nbconvert_exporter": "python",
   "pygments_lexer": "ipython3",
   "version": "3.6.1"
  }
 },
 "nbformat": 4,
 "nbformat_minor": 2
}
