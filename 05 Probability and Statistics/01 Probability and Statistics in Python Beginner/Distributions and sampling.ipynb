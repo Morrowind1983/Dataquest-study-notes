{
 "cells": [
  {
   "cell_type": "code",
   "execution_count": 1,
   "metadata": {
    "collapsed": true
   },
   "outputs": [],
   "source": [
    "import numpy as np\n",
    "import pandas as pd\n",
    "import matplotlib.pyplot as plt"
   ]
  },
  {
   "cell_type": "code",
   "execution_count": 2,
   "metadata": {
    "collapsed": true
   },
   "outputs": [],
   "source": [
    "income = pd.read_csv(\"us_income.csv\")"
   ]
  },
  {
   "cell_type": "code",
   "execution_count": 3,
   "metadata": {},
   "outputs": [
    {
     "data": {
      "text/html": [
       "<div>\n",
       "<style>\n",
       "    .dataframe thead tr:only-child th {\n",
       "        text-align: right;\n",
       "    }\n",
       "\n",
       "    .dataframe thead th {\n",
       "        text-align: left;\n",
       "    }\n",
       "\n",
       "    .dataframe tbody tr th {\n",
       "        vertical-align: top;\n",
       "    }\n",
       "</style>\n",
       "<table border=\"1\" class=\"dataframe\">\n",
       "  <thead>\n",
       "    <tr style=\"text-align: right;\">\n",
       "      <th></th>\n",
       "      <th>id</th>\n",
       "      <th>county</th>\n",
       "      <th>pop_over_25</th>\n",
       "      <th>median_income</th>\n",
       "      <th>median_income_no_hs</th>\n",
       "      <th>median_income_hs</th>\n",
       "      <th>median_income_some_college</th>\n",
       "      <th>median_income_college</th>\n",
       "      <th>median_income_graduate_degree</th>\n",
       "    </tr>\n",
       "  </thead>\n",
       "  <tbody>\n",
       "    <tr>\n",
       "      <th>0</th>\n",
       "      <td>1001</td>\n",
       "      <td>Autauga County, Alabama</td>\n",
       "      <td>35696</td>\n",
       "      <td>34581</td>\n",
       "      <td>17946</td>\n",
       "      <td>30157</td>\n",
       "      <td>33225</td>\n",
       "      <td>53248</td>\n",
       "      <td>68125</td>\n",
       "    </tr>\n",
       "    <tr>\n",
       "      <th>1</th>\n",
       "      <td>1003</td>\n",
       "      <td>Baldwin County, Alabama</td>\n",
       "      <td>130063</td>\n",
       "      <td>31352</td>\n",
       "      <td>17474</td>\n",
       "      <td>25242</td>\n",
       "      <td>30922</td>\n",
       "      <td>46017</td>\n",
       "      <td>55933</td>\n",
       "    </tr>\n",
       "    <tr>\n",
       "      <th>2</th>\n",
       "      <td>1005</td>\n",
       "      <td>Barbour County, Alabama</td>\n",
       "      <td>18988</td>\n",
       "      <td>25182</td>\n",
       "      <td>20692</td>\n",
       "      <td>21325</td>\n",
       "      <td>24090</td>\n",
       "      <td>41888</td>\n",
       "      <td>50245</td>\n",
       "    </tr>\n",
       "    <tr>\n",
       "      <th>3</th>\n",
       "      <td>1007</td>\n",
       "      <td>Bibb County, Alabama</td>\n",
       "      <td>15340</td>\n",
       "      <td>27638</td>\n",
       "      <td>22274</td>\n",
       "      <td>28980</td>\n",
       "      <td>22387</td>\n",
       "      <td>30284</td>\n",
       "      <td>42236</td>\n",
       "    </tr>\n",
       "    <tr>\n",
       "      <th>4</th>\n",
       "      <td>1009</td>\n",
       "      <td>Blount County, Alabama</td>\n",
       "      <td>38846</td>\n",
       "      <td>32808</td>\n",
       "      <td>24870</td>\n",
       "      <td>27541</td>\n",
       "      <td>34660</td>\n",
       "      <td>48681</td>\n",
       "      <td>53664</td>\n",
       "    </tr>\n",
       "  </tbody>\n",
       "</table>\n",
       "</div>"
      ],
      "text/plain": [
       "     id                   county  pop_over_25  median_income  \\\n",
       "0  1001  Autauga County, Alabama        35696          34581   \n",
       "1  1003  Baldwin County, Alabama       130063          31352   \n",
       "2  1005  Barbour County, Alabama        18988          25182   \n",
       "3  1007     Bibb County, Alabama        15340          27638   \n",
       "4  1009   Blount County, Alabama        38846          32808   \n",
       "\n",
       "   median_income_no_hs  median_income_hs  median_income_some_college  \\\n",
       "0                17946             30157                       33225   \n",
       "1                17474             25242                       30922   \n",
       "2                20692             21325                       24090   \n",
       "3                22274             28980                       22387   \n",
       "4                24870             27541                       34660   \n",
       "\n",
       "   median_income_college  median_income_graduate_degree  \n",
       "0                  53248                          68125  \n",
       "1                  46017                          55933  \n",
       "2                  41888                          50245  \n",
       "3                  30284                          42236  \n",
       "4                  48681                          53664  "
      ]
     },
     "execution_count": 3,
     "metadata": {},
     "output_type": "execute_result"
    }
   ],
   "source": [
    "income.head()"
   ]
  },
  {
   "cell_type": "code",
   "execution_count": 4,
   "metadata": {
    "scrolled": true
   },
   "outputs": [
    {
     "data": {
      "text/plain": [
       "Index(['id', 'county', 'pop_over_25', 'median_income', 'median_income_no_hs',\n",
       "       'median_income_hs', 'median_income_some_college',\n",
       "       'median_income_college', 'median_income_graduate_degree'],\n",
       "      dtype='object')"
      ]
     },
     "execution_count": 4,
     "metadata": {},
     "output_type": "execute_result"
    }
   ],
   "source": [
    "income.columns"
   ]
  },
  {
   "cell_type": "markdown",
   "metadata": {},
   "source": [
    "Each row is a single county in the US. For each county, we have the following columns:\n",
    "\n",
    "* id -- the county id.\n",
    "* county -- the name and state of the county.\n",
    "* pop_over_25 -- the number of adults over age 25.\n",
    "* median_income -- the median income for residents over age 25 in the county.\n",
    "* median_income_no_hs -- median income for residents without a high school education.\n",
    "* median_income_hs -- median income for high school graduates who didn't go to college.\n",
    "* median_income_some_college -- median income for residents who went to college but didn't graduate.\n",
    "* median_income_college -- median income for college graduates.\n",
    "* median_income_graduate_degree -- median income for those with a masters or other graduate degree."
   ]
  },
  {
   "cell_type": "code",
   "execution_count": 5,
   "metadata": {},
   "outputs": [
    {
     "data": {
      "text/html": [
       "<div>\n",
       "<style>\n",
       "    .dataframe thead tr:only-child th {\n",
       "        text-align: right;\n",
       "    }\n",
       "\n",
       "    .dataframe thead th {\n",
       "        text-align: left;\n",
       "    }\n",
       "\n",
       "    .dataframe tbody tr th {\n",
       "        vertical-align: top;\n",
       "    }\n",
       "</style>\n",
       "<table border=\"1\" class=\"dataframe\">\n",
       "  <thead>\n",
       "    <tr style=\"text-align: right;\">\n",
       "      <th></th>\n",
       "      <th>id</th>\n",
       "      <th>pop_over_25</th>\n",
       "      <th>median_income</th>\n",
       "      <th>median_income_no_hs</th>\n",
       "      <th>median_income_hs</th>\n",
       "      <th>median_income_some_college</th>\n",
       "      <th>median_income_college</th>\n",
       "      <th>median_income_graduate_degree</th>\n",
       "    </tr>\n",
       "  </thead>\n",
       "  <tbody>\n",
       "    <tr>\n",
       "      <th>count</th>\n",
       "      <td>3143.000000</td>\n",
       "      <td>3.143000e+03</td>\n",
       "      <td>3143.000000</td>\n",
       "      <td>3143.000000</td>\n",
       "      <td>3143.000000</td>\n",
       "      <td>3143.000000</td>\n",
       "      <td>3143.000000</td>\n",
       "      <td>3143.000000</td>\n",
       "    </tr>\n",
       "    <tr>\n",
       "      <th>mean</th>\n",
       "      <td>30390.411709</td>\n",
       "      <td>6.572951e+04</td>\n",
       "      <td>31063.093859</td>\n",
       "      <td>19630.878142</td>\n",
       "      <td>26758.512568</td>\n",
       "      <td>30876.868279</td>\n",
       "      <td>42329.827871</td>\n",
       "      <td>53968.476933</td>\n",
       "    </tr>\n",
       "    <tr>\n",
       "      <th>std</th>\n",
       "      <td>15164.717720</td>\n",
       "      <td>2.079347e+05</td>\n",
       "      <td>5841.352108</td>\n",
       "      <td>4775.434495</td>\n",
       "      <td>4146.384694</td>\n",
       "      <td>5075.068036</td>\n",
       "      <td>7732.969678</td>\n",
       "      <td>11129.528672</td>\n",
       "    </tr>\n",
       "    <tr>\n",
       "      <th>min</th>\n",
       "      <td>1001.000000</td>\n",
       "      <td>6.500000e+01</td>\n",
       "      <td>17139.000000</td>\n",
       "      <td>2500.000000</td>\n",
       "      <td>6250.000000</td>\n",
       "      <td>12298.000000</td>\n",
       "      <td>11852.000000</td>\n",
       "      <td>2500.000000</td>\n",
       "    </tr>\n",
       "    <tr>\n",
       "      <th>25%</th>\n",
       "      <td>18178.000000</td>\n",
       "      <td>7.537000e+03</td>\n",
       "      <td>27279.500000</td>\n",
       "      <td>16753.000000</td>\n",
       "      <td>24323.000000</td>\n",
       "      <td>27340.500000</td>\n",
       "      <td>37589.500000</td>\n",
       "      <td>47665.500000</td>\n",
       "    </tr>\n",
       "    <tr>\n",
       "      <th>50%</th>\n",
       "      <td>29177.000000</td>\n",
       "      <td>1.747700e+04</td>\n",
       "      <td>30399.000000</td>\n",
       "      <td>19466.000000</td>\n",
       "      <td>26427.000000</td>\n",
       "      <td>30767.000000</td>\n",
       "      <td>41812.000000</td>\n",
       "      <td>53214.000000</td>\n",
       "    </tr>\n",
       "    <tr>\n",
       "      <th>75%</th>\n",
       "      <td>45082.000000</td>\n",
       "      <td>4.475750e+04</td>\n",
       "      <td>33139.500000</td>\n",
       "      <td>21961.500000</td>\n",
       "      <td>29244.000000</td>\n",
       "      <td>33247.000000</td>\n",
       "      <td>46071.000000</td>\n",
       "      <td>59448.500000</td>\n",
       "    </tr>\n",
       "    <tr>\n",
       "      <th>max</th>\n",
       "      <td>56045.000000</td>\n",
       "      <td>6.456772e+06</td>\n",
       "      <td>73822.000000</td>\n",
       "      <td>60728.000000</td>\n",
       "      <td>65833.000000</td>\n",
       "      <td>66035.000000</td>\n",
       "      <td>91364.000000</td>\n",
       "      <td>130250.000000</td>\n",
       "    </tr>\n",
       "  </tbody>\n",
       "</table>\n",
       "</div>"
      ],
      "text/plain": [
       "                 id   pop_over_25  median_income  median_income_no_hs  \\\n",
       "count   3143.000000  3.143000e+03    3143.000000          3143.000000   \n",
       "mean   30390.411709  6.572951e+04   31063.093859         19630.878142   \n",
       "std    15164.717720  2.079347e+05    5841.352108          4775.434495   \n",
       "min     1001.000000  6.500000e+01   17139.000000          2500.000000   \n",
       "25%    18178.000000  7.537000e+03   27279.500000         16753.000000   \n",
       "50%    29177.000000  1.747700e+04   30399.000000         19466.000000   \n",
       "75%    45082.000000  4.475750e+04   33139.500000         21961.500000   \n",
       "max    56045.000000  6.456772e+06   73822.000000         60728.000000   \n",
       "\n",
       "       median_income_hs  median_income_some_college  median_income_college  \\\n",
       "count       3143.000000                 3143.000000            3143.000000   \n",
       "mean       26758.512568                30876.868279           42329.827871   \n",
       "std         4146.384694                 5075.068036            7732.969678   \n",
       "min         6250.000000                12298.000000           11852.000000   \n",
       "25%        24323.000000                27340.500000           37589.500000   \n",
       "50%        26427.000000                30767.000000           41812.000000   \n",
       "75%        29244.000000                33247.000000           46071.000000   \n",
       "max        65833.000000                66035.000000           91364.000000   \n",
       "\n",
       "       median_income_graduate_degree  \n",
       "count                    3143.000000  \n",
       "mean                    53968.476933  \n",
       "std                     11129.528672  \n",
       "min                      2500.000000  \n",
       "25%                     47665.500000  \n",
       "50%                     53214.000000  \n",
       "75%                     59448.500000  \n",
       "max                    130250.000000  "
      ]
     },
     "execution_count": 5,
     "metadata": {},
     "output_type": "execute_result"
    }
   ],
   "source": [
    "income.describe()"
   ]
  },
  {
   "cell_type": "code",
   "execution_count": 6,
   "metadata": {},
   "outputs": [
    {
     "name": "stdout",
     "output_type": "stream",
     "text": [
      "Starr County, Texas\n",
      "Miami-Dade County, Florida\n"
     ]
    }
   ],
   "source": [
    "# Find the county with the lowest median income in the US (median_income).\n",
    "# Assign the name of the county (county) to lowest_income_county.\n",
    "lowest_income_county = income[\"county\"][income[\"median_income\"].idxmin()]\n",
    "print(lowest_income_county)\n",
    "\n",
    "# Find the county that has more than 500000 residents with the lowest median income.\n",
    "# Assign the name of the county to lowest_income_high_pop_county.\n",
    "high_pop = income[income[\"pop_over_25\"] > 500000]\n",
    "lowest_income_high_pop_county = high_pop[\"county\"][high_pop[\"median_income\"].idxmin()]\n",
    "print(lowest_income_high_pop_county)"
   ]
  },
  {
   "cell_type": "markdown",
   "metadata": {},
   "source": [
    "Sometimes, instead of looking at a whole dataset, you just want to take a sample of it. This usually happens when dealing with the whole set of data is impractical. This can be due to processing power and memory constraints -- it is sometimes much faster to analyze 1/10th of a dataset than the whole thing. It can also be due to cost or other complexities."
   ]
  },
  {
   "cell_type": "markdown",
   "metadata": {},
   "source": [
    "The ACS is an example of this. It would be costly and impractical to survey every household in the US every year. Instead, the ACS randomly samples all of the addresses in the US, and picks about 1 in every 40 to participate."
   ]
  },
  {
   "cell_type": "markdown",
   "metadata": {},
   "source": [
    "We'll get into how a sample and a full population compare shortly. For now, let's look at how we can generate a random sample."
   ]
  },
  {
   "cell_type": "markdown",
   "metadata": {},
   "source": [
    "The first step is to generate random numbers. We can use the **random** package in Python to do this for us."
   ]
  },
  {
   "cell_type": "code",
   "execution_count": 7,
   "metadata": {
    "collapsed": true
   },
   "outputs": [],
   "source": [
    "import random"
   ]
  },
  {
   "cell_type": "code",
   "execution_count": 8,
   "metadata": {},
   "outputs": [
    {
     "name": "stdout",
     "output_type": "stream",
     "text": [
      "8\n"
     ]
    }
   ],
   "source": [
    "# Returns a random integer between the numbers 0 and 10, inclusive.\n",
    "num = random.randint(0, 10)\n",
    "print(num)"
   ]
  },
  {
   "cell_type": "code",
   "execution_count": 9,
   "metadata": {},
   "outputs": [
    {
     "name": "stdout",
     "output_type": "stream",
     "text": [
      "[4, 7, 2, 2, 6, 2, 7, 4, 1, 6]\n"
     ]
    }
   ],
   "source": [
    "# Generate a sequence of 10 random numbers between the values of 0 and 10.\n",
    "random_sequence = [random.randint(0, 10) for _ in range(10)]\n",
    "print(random_sequence)"
   ]
  },
  {
   "cell_type": "code",
   "execution_count": 10,
   "metadata": {},
   "outputs": [
    {
     "name": "stdout",
     "output_type": "stream",
     "text": [
      "[9, 0, 6, 7, 9]\n",
      "[9, 0, 6, 7, 9]\n",
      "[7, 8, 7, 7, 8]\n"
     ]
    }
   ],
   "source": [
    "# Sometimes, when we generate a random sequence, we want it to be the same sequence whenever the program is run.\n",
    "# An example is when you use random numbers to select a subset of the data, and you want other people\n",
    "# looking at the same data to get the same subset.\n",
    "# We can ensure this by setting a random seed.\n",
    "# A random seed is an integer that is used to \"seed\" a random number generator.\n",
    "# After a random seed is set, the numbers generated after will follow the same sequence.\n",
    "random.seed(10)\n",
    "print([random.randint(0,10) for _ in range(5)])\n",
    "random.seed(10)\n",
    "# Same sequence as above.\n",
    "print([random.randint(0,10) for _ in range(5)])\n",
    "random.seed(11)\n",
    "# Different seed means different sequence.\n",
    "print([random.randint(0,10) for _ in range(5)])"
   ]
  },
  {
   "cell_type": "code",
   "execution_count": 11,
   "metadata": {},
   "outputs": [
    {
     "name": "stdout",
     "output_type": "stream",
     "text": [
      "[10, 2, 4, 10, 10, 1, 5, 9, 2, 0]\n"
     ]
    }
   ],
   "source": [
    "# Set a random seed of 20 and generate a list of 10 random numbers between the values 0 and 10.\n",
    "# Assign the list to new_sequence.\n",
    "random.seed(20)\n",
    "new_sequence = [random.randint(0,10) for _ in range(10)]\n",
    "print(new_sequence)"
   ]
  },
  {
   "cell_type": "markdown",
   "metadata": {},
   "source": [
    "When we do sampling, we usually want to select a certain number of items from a list. There are a few ways to do this."
   ]
  },
  {
   "cell_type": "markdown",
   "metadata": {},
   "source": [
    "The easiest way is to use the **random.sample** method to select a specified number of items from a list."
   ]
  },
  {
   "cell_type": "code",
   "execution_count": 12,
   "metadata": {},
   "outputs": [
    {
     "name": "stdout",
     "output_type": "stream",
     "text": [
      "[200, 300, 20, 600]\n"
     ]
    }
   ],
   "source": [
    "# Let's say that we have some data on how much shoppers spend in a store.\n",
    "shopping = [300, 200, 100, 600, 20]\n",
    "\n",
    "# We want to sample the data, and only select 4 elements.\n",
    "\n",
    "random.seed(1)\n",
    "shopping_sample = random.sample(shopping, 4)\n",
    "\n",
    "# 4 random items from the shopping list.\n",
    "print(shopping_sample)"
   ]
  },
  {
   "cell_type": "markdown",
   "metadata": {},
   "source": [
    "Let's say that you have a normal, six-sided die. You roll it four times, and you get 1, 1, 3, 4. Based on this, could you conclude that there is a 50% probability of rolling a 1, a 25% probability of rolling a 3, and a 25% probability of rolling a 4?"
   ]
  },
  {
   "cell_type": "markdown",
   "metadata": {},
   "source": [
    "No, as it's pretty easy to see that a die has a 1/6 chance of rolling any single digit. This means that the probabilities we observe are not necessarily the true probabilities of an event occurring."
   ]
  },
  {
   "cell_type": "markdown",
   "metadata": {},
   "source": [
    "As you may be able to guess, the larger the sample size (in this case, the more rolls we perform), the closer to the \"true\" probabilities we get. Let's explore this more."
   ]
  },
  {
   "cell_type": "code",
   "execution_count": 13,
   "metadata": {},
   "outputs": [
    {
     "data": {
      "image/png": "[encoded data removed]",
      "text/plain": [
       "<matplotlib.figure.Figure at 0x113930710>"
      ]
     },
     "metadata": {},
     "output_type": "display_data"
    }
   ],
   "source": [
    "# A function that returns the result of a die roll.\n",
    "def roll():\n",
    "    return random.randint(1, 6)\n",
    "\n",
    "random.seed(1)\n",
    "small_sample = [roll() for _ in range(10)]\n",
    "\n",
    "# Plot a histogram with 6 bins (1 for each possible outcome of the die roll)\n",
    "plt.hist(small_sample, 6)\n",
    "plt.show()"
   ]
  },
  {
   "cell_type": "code",
   "execution_count": 14,
   "metadata": {},
   "outputs": [
    {
     "data": {
      "image/png": "[encoded data removed]",
      "text/plain": [
       "<matplotlib.figure.Figure at 0x113930908>"
      ]
     },
     "metadata": {},
     "output_type": "display_data"
    }
   ],
   "source": [
    "# Set the random seed to 1, then generate a medium sample of 100 die rolls.\n",
    "# Plot the result using a histogram with 6 bins.\n",
    "random.seed(1)\n",
    "small_sample = [roll() for _ in range(100)]\n",
    "plt.hist(small_sample, 6)\n",
    "plt.show()"
   ]
  },
  {
   "cell_type": "code",
   "execution_count": 15,
   "metadata": {},
   "outputs": [
    {
     "data": {
      "image/png": "[encoded data removed]",
      "text/plain": [
       "<matplotlib.figure.Figure at 0x113fc2160>"
      ]
     },
     "metadata": {},
     "output_type": "display_data"
    }
   ],
   "source": [
    "# Set the random seed to 1, then generate a large sample of 10000 die rolls.\n",
    "# Plot the result using a histogram with 6 bins.\n",
    "random.seed(1)\n",
    "small_sample = [roll() for _ in range(10000)]\n",
    "plt.hist(small_sample, 6)\n",
    "plt.show()"
   ]
  },
  {
   "cell_type": "markdown",
   "metadata": {},
   "source": [
    "As you can see from the graphs above, the probability of rolling a 1 should be around .166. However, we only really noticed the probability reaching this value once we got to 10000 dice rolls. Generally, the lower your sample size, the more variability the probability will have around the \"true\" probability."
   ]
  },
  {
   "cell_type": "markdown",
   "metadata": {},
   "source": [
    "We can graph out this variability by repeatedly rolling the die N times. So we could do 20 trials of rolling the die 10 times, and graph out all the resulting probabilities of rolling a 1. This would tell us how much error we could expect by rolling the die 20 times."
   ]
  },
  {
   "cell_type": "code",
   "execution_count": 16,
   "metadata": {},
   "outputs": [
    {
     "data": {
      "image/png": "[encoded data removed]",
      "text/plain": [
       "<matplotlib.figure.Figure at 0x10abedb38>"
      ]
     },
     "metadata": {},
     "output_type": "display_data"
    }
   ],
   "source": [
    "def probability_of_one(num_trials, num_rolls):\n",
    "    \"\"\"\n",
    "    This function will take in the number of trials, and the number of rolls per trial.\n",
    "    Then it will conduct each trial, and record the probability of rolling a one.\n",
    "    \"\"\"\n",
    "    probabilities = []\n",
    "    for i in range(num_trials):\n",
    "        die_rolls = [roll() for _ in range(num_rolls)]\n",
    "        one_prob = len([d for d in die_rolls if d==1]) / num_rolls\n",
    "        probabilities.append(one_prob)\n",
    "    return probabilities\n",
    "\n",
    "random.seed(1)\n",
    "small_sample = probability_of_one(300, 50)\n",
    "plt.hist(small_sample, 20)\n",
    "plt.axvline(1/6, color=\"r\")\n",
    "plt.axvline(np.mean(small_sample), color=\"g\")\n",
    "plt.ylim(0,70)\n",
    "plt.xlim(0,0.4)\n",
    "plt.show()"
   ]
  },
  {
   "cell_type": "code",
   "execution_count": 17,
   "metadata": {},
   "outputs": [
    {
     "data": {
      "image/png": "[encoded data removed]",
      "text/plain": [
       "<matplotlib.figure.Figure at 0x113fc8cc0>"
      ]
     },
     "metadata": {},
     "output_type": "display_data"
    }
   ],
   "source": [
    "# Set the random seed to 1, then generate probabilities for 300 trials of 100 die rolls each.\n",
    "# Make a histogram with 20 bins.\n",
    "random.seed(1)\n",
    "medium_sample = probability_of_one(300, 100)\n",
    "plt.hist(medium_sample, 20)\n",
    "plt.axvline(1/6, color=\"r\")\n",
    "plt.axvline(np.mean(medium_sample), color=\"g\")\n",
    "plt.ylim(0,70)\n",
    "plt.xlim(0,0.4)\n",
    "plt.show()"
   ]
  },
  {
   "cell_type": "code",
   "execution_count": 18,
   "metadata": {},
   "outputs": [
    {
     "data": {
      "image/png": "[encoded data removed]",
      "text/plain": [
       "<matplotlib.figure.Figure at 0x10a685d30>"
      ]
     },
     "metadata": {},
     "output_type": "display_data"
    }
   ],
   "source": [
    "# Set the random seed to 1, then generate probabilities for 300 trials of 1000 die rolls each.\n",
    "# Make a histogram with 20 bins.\n",
    "random.seed(1)\n",
    "large_sample = probability_of_one(300, 1000)\n",
    "plt.hist(large_sample, 20)\n",
    "plt.axvline(1/6, color=\"r\")\n",
    "plt.axvline(np.mean(large_sample), color=\"g\")\n",
    "plt.ylim(0,70)\n",
    "plt.xlim(0,0.4)\n",
    "plt.show()"
   ]
  },
  {
   "cell_type": "markdown",
   "metadata": {},
   "source": [
    "See how the graphs in the last screen got \"steeper\" as we added more rolls? This is because the variability around the mean decreases as we have more samples in each trial."
   ]
  },
  {
   "cell_type": "markdown",
   "metadata": {},
   "source": [
    "One interesting thing that we can do given the distributions above is find the odds of getting a certain probability for rolling a one given the number of rolls we make."
   ]
  },
  {
   "cell_type": "markdown",
   "metadata": {},
   "source": [
    "So, if we do 100 rolls of the die, and get a .25 probability of rolling a 1, we could look up how many trials in our data above got that probability or higher for one."
   ]
  },
  {
   "cell_type": "markdown",
   "metadata": {},
   "source": [
    "This lets us find how likely our result is."
   ]
  },
  {
   "cell_type": "code",
   "execution_count": 19,
   "metadata": {},
   "outputs": [
    {
     "name": "stdout",
     "output_type": "stream",
     "text": [
      "large_sample_std = 0.0116285448598\n",
      ".18 deviations_from_mean = 1.14517051164\n",
      "over_18_count = 38\n",
      "sample_size = 300\n"
     ]
    }
   ],
   "source": [
    "large_sample_std = np.std(large_sample)\n",
    "print(\"large_sample_std =\", large_sample_std)\n",
    "\n",
    "# Find how many standard deviations away from the mean of large_sample .18 is.\n",
    "# Assign the result to deviations_from_mean.\n",
    "mean = np.mean(large_sample)\n",
    "deviations_from_mean = (.18-mean)/large_sample_std\n",
    "print(\".18 deviations_from_mean =\", deviations_from_mean)\n",
    "\n",
    "# Find how many probabilities in large sample are greater than or equal to .18.\n",
    "# Assign the result to over_18_count\n",
    "over_18_count = len([i for i in large_sample if i>=.18])\n",
    "print(\"over_18_count =\", over_18_count)\n",
    "print(\"sample_size =\", len(large_sample))"
   ]
  },
  {
   "cell_type": "markdown",
   "metadata": {},
   "source": [
    "Now, let's look at why random sampling is important instead of just picking any rows we want."
   ]
  },
  {
   "cell_type": "code",
   "execution_count": 20,
   "metadata": {},
   "outputs": [
    {
     "name": "stdout",
     "output_type": "stream",
     "text": [
      "31063.09385937003\n"
     ]
    },
    {
     "data": {
      "image/png": "[encoded data removed]",
      "text/plain": [
       "<matplotlib.figure.Figure at 0x11674ca20>"
      ]
     },
     "metadata": {},
     "output_type": "display_data"
    }
   ],
   "source": [
    "# This is the mean median income in any US county.\n",
    "mean_median_income = income[\"median_income\"].mean()\n",
    "print(mean_median_income)\n",
    "\n",
    "def get_sample_mean(start, end):\n",
    "    return income[\"median_income\"][start:end].mean()\n",
    "\n",
    "def find_mean_incomes(row_step):\n",
    "    mean_median_sample_incomes = []\n",
    "    # Iterate over the indices of the income rows\n",
    "    # Starting at 0, and counting in blocks of row_step (0, row_step, row_step * 2, etc).\n",
    "    for i in range(0, income.shape[0], row_step):\n",
    "        # Find the mean median for the row_step counties from i to i+row_step.\n",
    "        mean_median_sample_incomes.append(get_sample_mean(i, i+row_step))\n",
    "    return mean_median_sample_incomes\n",
    "\n",
    "nonrandom_sample = find_mean_incomes(100)\n",
    "plt.hist(nonrandom_sample, 20)\n",
    "plt.axvline(mean_median_income, color=\"r\")\n",
    "plt.axvline(np.mean(nonrandom_sample), color=\"g\")\n",
    "plt.show()\n",
    "\n",
    "# What you're seeing above is the result of biased sampling.\n",
    "# Instead of selecting randomly, we selected counties that were next to each other in the data.\n",
    "# This picked counties in the same state more often that not,\n",
    "# and created means that didn't represent the whole country.\n",
    "# This is the danger of not using random sampling -- you end up with samples that don't reflect the entire population.\n",
    "# This gives you a distribution that isn't normal."
   ]
  },
  {
   "cell_type": "code",
   "execution_count": 21,
   "metadata": {},
   "outputs": [
    {
     "data": {
      "image/png": "[encoded data removed]",
      "text/plain": [
       "<matplotlib.figure.Figure at 0x11674c780>"
      ]
     },
     "metadata": {},
     "output_type": "display_data"
    }
   ],
   "source": [
    "def select_random_sample(count):\n",
    "    random_indices = random.sample(range(0, income.shape[0]), count)\n",
    "    return income.iloc[random_indices]\n",
    "\n",
    "# Use the select_random_sample function to pick 1000 random samples of 100 counties each from the income data.\n",
    "# Find the mean of the median_income column for each sample.\n",
    "random.seed(1)\n",
    "random_sample = [select_random_sample(100)[\"median_income\"].mean() for _ in range(1000)]\n",
    "\n",
    "# Plot a histogram with 20 bins of all the mean median incomes.\n",
    "plt.hist(random_sample, 20)\n",
    "plt.axvline(mean_median_income, color=\"r\")\n",
    "plt.axvline(np.mean(random_sample), color=\"g\")\n",
    "plt.show()"
   ]
  },
  {
   "cell_type": "markdown",
   "metadata": {},
   "source": [
    "Let's say we're the US government. We want to run an experiment to see whether a certain kind of adult education can help high school graduates earn more relative to college graduates than they could otherwise."
   ]
  },
  {
   "cell_type": "markdown",
   "metadata": {},
   "source": [
    "We decide to trial our program in 100 counties, and measure the median incomes of both groups in 5 years."
   ]
  },
  {
   "cell_type": "markdown",
   "metadata": {},
   "source": [
    "At the end of 5 years, we first need to measure the whole population to determine the typical ratio between high school graduate earnings and college graduate earnings."
   ]
  },
  {
   "cell_type": "code",
   "execution_count": 22,
   "metadata": {},
   "outputs": [
    {
     "data": {
      "image/png": "[encoded data removed]",
      "text/plain": [
       "<matplotlib.figure.Figure at 0x116cf8d68>"
      ]
     },
     "metadata": {},
     "output_type": "display_data"
    }
   ],
   "source": [
    "# Select 1000 random samples of 100 counties each from the income data using the select_random_sample method.\n",
    "# For each sample:\n",
    "# Divide the median_income_hs column by median_income_college to get ratios.\n",
    "# Then, find the mean of all the ratios in the sample.\n",
    "# Add it to the list, mean_ratios.\n",
    "random.seed(1)\n",
    "\n",
    "mean_ratios = []\n",
    "for i in range(1000):\n",
    "    sample = select_random_sample(100)\n",
    "    ratios = sample[\"median_income_hs\"]/sample[\"median_income_college\"]\n",
    "    mean_ratios.append(ratios.mean())\n",
    "\n",
    "# Plot a histogram containing 20 bins of the mean_ratios list.\n",
    "plt.hist(mean_ratios, 20)\n",
    "plt.axvline((income[\"median_income_hs\"]/income[\"median_income_college\"]).mean(), color=\"r\")\n",
    "plt.axvline(np.mean(mean_ratios), color=\"g\")\n",
    "plt.show()"
   ]
  },
  {
   "cell_type": "markdown",
   "metadata": {},
   "source": [
    "After 5 years, we determine that the mean ratio in our random sample of 100 counties is .675 -- that is, high school graduates on average earn 67.5% of what college graduates do."
   ]
  },
  {
   "cell_type": "markdown",
   "metadata": {},
   "source": [
    "Now that we have our result, how do we know if our hypothesis is correct? Remember, our hypothesis was about the whole population, not about the sample."
   ]
  },
  {
   "cell_type": "markdown",
   "metadata": {},
   "source": [
    "Statistical significance is used to determine if a result is valid for a population or not. You usually set a significance level beforehand that will determine if your hypothesis is true or not. After conducting the experiment, you check against the significance level to determine."
   ]
  },
  {
   "cell_type": "markdown",
   "metadata": {},
   "source": [
    "A common significance level is **.05**. This means: \"only 5% or less of the time will the result have been due to chance\"."
   ]
  },
  {
   "cell_type": "markdown",
   "metadata": {},
   "source": [
    "In our case, chance could be that the high school graduates in the county changed income some way other than through our program -- maybe some higher paying factory jobs came to town, or there were some other educational initiatives around."
   ]
  },
  {
   "cell_type": "markdown",
   "metadata": {},
   "source": [
    "In order to test for significance, we compare our result ratio with the mean ratios we found in the last section."
   ]
  },
  {
   "cell_type": "code",
   "execution_count": 23,
   "metadata": {},
   "outputs": [
    {
     "name": "stdout",
     "output_type": "stream",
     "text": [
      "0.014\n"
     ]
    }
   ],
   "source": [
    "# Determine how many values in mean_ratios are greater than or equal to .675.\n",
    "mean_higher = len([i for i in mean_ratios if i>=.675])\n",
    "\n",
    "# Divide by the total number of items in mean_ratios to get the significance level.\n",
    "# Assign the result to significance_value.\n",
    "significance_value = mean_higher/len(mean_ratios)\n",
    "\n",
    "print(significance_value)"
   ]
  },
  {
   "cell_type": "markdown",
   "metadata": {},
   "source": [
    "Our significance value was .014. Based on the entire population, only 1.4% of the time will the wage results we saw have occurred on their own. So our experiment exceeded our significance level (lower means more significant). Thus, our experiment showed that the program did improve the wages of high school graduates relative to college graduates."
   ]
  },
  {
   "cell_type": "markdown",
   "metadata": {},
   "source": [
    "You may have noticed earlier that the more samples in our trials, the \"steeper\" the histograms of outcomes get (look back on the probability of rolling one with the die if you need a refresher). This \"steepness\" arose because the more trials we have, the less likely the value is to vary from the \"true\" value."
   ]
  },
  {
   "cell_type": "markdown",
   "metadata": {},
   "source": [
    "This same principle applies to significance testing. You need a larger deviation from the mean to have something be \"significant\" if your sample size is smaller. The larger the trial, the smaller the deviation needs to be to get a significant result."
   ]
  },
  {
   "cell_type": "markdown",
   "metadata": {},
   "source": [
    "You may be asking at this point how we can determine statistical significance without knowing the population values upfront. In a lot of cases, like drug trials, you don't have the capability to measure everyone in the world to compare against your sample."
   ]
  },
  {
   "cell_type": "markdown",
   "metadata": {},
   "source": [
    "Statistics gives us tools to deal with this, and we'll learn about them in the next missions."
   ]
  },
  {
   "cell_type": "code",
   "execution_count": 24,
   "metadata": {},
   "outputs": [
    {
     "data": {
      "image/png": "[encoded data removed]",
      "text/plain": [
       "<matplotlib.figure.Figure at 0x116d7e278>"
      ]
     },
     "metadata": {},
     "output_type": "display_data"
    }
   ],
   "source": [
    "# This is \"steeper\" than the graph from before, because it has 500 items in each sample.\n",
    "random.seed(1)\n",
    "mean_ratios = []\n",
    "for i in range(1000):\n",
    "    sample = select_random_sample(500)\n",
    "    ratios = sample[\"median_income_hs\"] / sample[\"median_income_college\"]\n",
    "    mean_ratios.append(ratios.mean())\n",
    "    \n",
    "plt.hist(mean_ratios, 20)\n",
    "plt.axvline((income[\"median_income_hs\"]/income[\"median_income_college\"]).mean(), color=\"r\")\n",
    "plt.axvline(np.mean(mean_ratios), color=\"g\")\n",
    "plt.show()"
   ]
  },
  {
   "cell_type": "code",
   "execution_count": null,
   "metadata": {
    "collapsed": true
   },
   "outputs": [],
   "source": []
  }
 ],
 "metadata": {
  "kernelspec": {
   "display_name": "Python 3",
   "language": "python",
   "name": "python3"
  },
  "language_info": {
   "codemirror_mode": {
    "name": "ipython",
    "version": 3
   },
   "file_extension": ".py",
   "mimetype": "text/x-python",
   "name": "python",
   "nbconvert_exporter": "python",
   "pygments_lexer": "ipython3",
   "version": "3.6.1"
  }
 },
 "nbformat": 4,
 "nbformat_minor": 2
}
