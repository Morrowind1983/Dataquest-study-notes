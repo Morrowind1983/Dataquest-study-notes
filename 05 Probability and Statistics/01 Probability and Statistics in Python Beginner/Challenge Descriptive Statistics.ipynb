{
 "cells": [
  {
   "cell_type": "markdown",
   "metadata": {},
   "source": [
    "In this challenge, you'll practice the statistical techniques you learned in the previous missions. These techniques are referred to collectively as **descriptive statistics** since they're used to describe and understand a dataset and not directly for prediction."
   ]
  },
  {
   "cell_type": "code",
   "execution_count": 1,
   "metadata": {
    "collapsed": true
   },
   "outputs": [],
   "source": [
    "import numpy as np\n",
    "import pandas as pd\n",
    "import matplotlib.pyplot as plt"
   ]
  },
  {
   "cell_type": "code",
   "execution_count": 2,
   "metadata": {
    "collapsed": true
   },
   "outputs": [],
   "source": [
    "movie_reviews = pd.read_csv(\"fandango_score_comparison.csv\")"
   ]
  },
  {
   "cell_type": "code",
   "execution_count": 3,
   "metadata": {},
   "outputs": [
    {
     "data": {
      "text/html": [
       "<div>\n",
       "<style>\n",
       "    .dataframe thead tr:only-child th {\n",
       "        text-align: right;\n",
       "    }\n",
       "\n",
       "    .dataframe thead th {\n",
       "        text-align: left;\n",
       "    }\n",
       "\n",
       "    .dataframe tbody tr th {\n",
       "        vertical-align: top;\n",
       "    }\n",
       "</style>\n",
       "<table border=\"1\" class=\"dataframe\">\n",
       "  <thead>\n",
       "    <tr style=\"text-align: right;\">\n",
       "      <th></th>\n",
       "      <th>FILM</th>\n",
       "      <th>RottenTomatoes</th>\n",
       "      <th>RottenTomatoes_User</th>\n",
       "      <th>Metacritic</th>\n",
       "      <th>Metacritic_User</th>\n",
       "      <th>IMDB</th>\n",
       "      <th>Fandango_Stars</th>\n",
       "      <th>Fandango_Ratingvalue</th>\n",
       "      <th>RT_norm</th>\n",
       "      <th>RT_user_norm</th>\n",
       "      <th>...</th>\n",
       "      <th>IMDB_norm</th>\n",
       "      <th>RT_norm_round</th>\n",
       "      <th>RT_user_norm_round</th>\n",
       "      <th>Metacritic_norm_round</th>\n",
       "      <th>Metacritic_user_norm_round</th>\n",
       "      <th>IMDB_norm_round</th>\n",
       "      <th>Metacritic_user_vote_count</th>\n",
       "      <th>IMDB_user_vote_count</th>\n",
       "      <th>Fandango_votes</th>\n",
       "      <th>Fandango_Difference</th>\n",
       "    </tr>\n",
       "  </thead>\n",
       "  <tbody>\n",
       "    <tr>\n",
       "      <th>0</th>\n",
       "      <td>Avengers: Age of Ultron (2015)</td>\n",
       "      <td>74</td>\n",
       "      <td>86</td>\n",
       "      <td>66</td>\n",
       "      <td>7.1</td>\n",
       "      <td>7.8</td>\n",
       "      <td>5.0</td>\n",
       "      <td>4.5</td>\n",
       "      <td>3.70</td>\n",
       "      <td>4.3</td>\n",
       "      <td>...</td>\n",
       "      <td>3.90</td>\n",
       "      <td>3.5</td>\n",
       "      <td>4.5</td>\n",
       "      <td>3.5</td>\n",
       "      <td>3.5</td>\n",
       "      <td>4.0</td>\n",
       "      <td>1330</td>\n",
       "      <td>271107</td>\n",
       "      <td>14846</td>\n",
       "      <td>0.5</td>\n",
       "    </tr>\n",
       "    <tr>\n",
       "      <th>1</th>\n",
       "      <td>Cinderella (2015)</td>\n",
       "      <td>85</td>\n",
       "      <td>80</td>\n",
       "      <td>67</td>\n",
       "      <td>7.5</td>\n",
       "      <td>7.1</td>\n",
       "      <td>5.0</td>\n",
       "      <td>4.5</td>\n",
       "      <td>4.25</td>\n",
       "      <td>4.0</td>\n",
       "      <td>...</td>\n",
       "      <td>3.55</td>\n",
       "      <td>4.5</td>\n",
       "      <td>4.0</td>\n",
       "      <td>3.5</td>\n",
       "      <td>4.0</td>\n",
       "      <td>3.5</td>\n",
       "      <td>249</td>\n",
       "      <td>65709</td>\n",
       "      <td>12640</td>\n",
       "      <td>0.5</td>\n",
       "    </tr>\n",
       "    <tr>\n",
       "      <th>2</th>\n",
       "      <td>Ant-Man (2015)</td>\n",
       "      <td>80</td>\n",
       "      <td>90</td>\n",
       "      <td>64</td>\n",
       "      <td>8.1</td>\n",
       "      <td>7.8</td>\n",
       "      <td>5.0</td>\n",
       "      <td>4.5</td>\n",
       "      <td>4.00</td>\n",
       "      <td>4.5</td>\n",
       "      <td>...</td>\n",
       "      <td>3.90</td>\n",
       "      <td>4.0</td>\n",
       "      <td>4.5</td>\n",
       "      <td>3.0</td>\n",
       "      <td>4.0</td>\n",
       "      <td>4.0</td>\n",
       "      <td>627</td>\n",
       "      <td>103660</td>\n",
       "      <td>12055</td>\n",
       "      <td>0.5</td>\n",
       "    </tr>\n",
       "    <tr>\n",
       "      <th>3</th>\n",
       "      <td>Do You Believe? (2015)</td>\n",
       "      <td>18</td>\n",
       "      <td>84</td>\n",
       "      <td>22</td>\n",
       "      <td>4.7</td>\n",
       "      <td>5.4</td>\n",
       "      <td>5.0</td>\n",
       "      <td>4.5</td>\n",
       "      <td>0.90</td>\n",
       "      <td>4.2</td>\n",
       "      <td>...</td>\n",
       "      <td>2.70</td>\n",
       "      <td>1.0</td>\n",
       "      <td>4.0</td>\n",
       "      <td>1.0</td>\n",
       "      <td>2.5</td>\n",
       "      <td>2.5</td>\n",
       "      <td>31</td>\n",
       "      <td>3136</td>\n",
       "      <td>1793</td>\n",
       "      <td>0.5</td>\n",
       "    </tr>\n",
       "    <tr>\n",
       "      <th>4</th>\n",
       "      <td>Hot Tub Time Machine 2 (2015)</td>\n",
       "      <td>14</td>\n",
       "      <td>28</td>\n",
       "      <td>29</td>\n",
       "      <td>3.4</td>\n",
       "      <td>5.1</td>\n",
       "      <td>3.5</td>\n",
       "      <td>3.0</td>\n",
       "      <td>0.70</td>\n",
       "      <td>1.4</td>\n",
       "      <td>...</td>\n",
       "      <td>2.55</td>\n",
       "      <td>0.5</td>\n",
       "      <td>1.5</td>\n",
       "      <td>1.5</td>\n",
       "      <td>1.5</td>\n",
       "      <td>2.5</td>\n",
       "      <td>88</td>\n",
       "      <td>19560</td>\n",
       "      <td>1021</td>\n",
       "      <td>0.5</td>\n",
       "    </tr>\n",
       "  </tbody>\n",
       "</table>\n",
       "<p>5 rows × 22 columns</p>\n",
       "</div>"
      ],
      "text/plain": [
       "                             FILM  RottenTomatoes  RottenTomatoes_User  \\\n",
       "0  Avengers: Age of Ultron (2015)              74                   86   \n",
       "1               Cinderella (2015)              85                   80   \n",
       "2                  Ant-Man (2015)              80                   90   \n",
       "3          Do You Believe? (2015)              18                   84   \n",
       "4   Hot Tub Time Machine 2 (2015)              14                   28   \n",
       "\n",
       "   Metacritic  Metacritic_User  IMDB  Fandango_Stars  Fandango_Ratingvalue  \\\n",
       "0          66              7.1   7.8             5.0                   4.5   \n",
       "1          67              7.5   7.1             5.0                   4.5   \n",
       "2          64              8.1   7.8             5.0                   4.5   \n",
       "3          22              4.7   5.4             5.0                   4.5   \n",
       "4          29              3.4   5.1             3.5                   3.0   \n",
       "\n",
       "   RT_norm  RT_user_norm         ...           IMDB_norm  RT_norm_round  \\\n",
       "0     3.70           4.3         ...                3.90            3.5   \n",
       "1     4.25           4.0         ...                3.55            4.5   \n",
       "2     4.00           4.5         ...                3.90            4.0   \n",
       "3     0.90           4.2         ...                2.70            1.0   \n",
       "4     0.70           1.4         ...                2.55            0.5   \n",
       "\n",
       "   RT_user_norm_round  Metacritic_norm_round  Metacritic_user_norm_round  \\\n",
       "0                 4.5                    3.5                         3.5   \n",
       "1                 4.0                    3.5                         4.0   \n",
       "2                 4.5                    3.0                         4.0   \n",
       "3                 4.0                    1.0                         2.5   \n",
       "4                 1.5                    1.5                         1.5   \n",
       "\n",
       "   IMDB_norm_round  Metacritic_user_vote_count  IMDB_user_vote_count  \\\n",
       "0              4.0                        1330                271107   \n",
       "1              3.5                         249                 65709   \n",
       "2              4.0                         627                103660   \n",
       "3              2.5                          31                  3136   \n",
       "4              2.5                          88                 19560   \n",
       "\n",
       "   Fandango_votes  Fandango_Difference  \n",
       "0           14846                  0.5  \n",
       "1           12640                  0.5  \n",
       "2           12055                  0.5  \n",
       "3            1793                  0.5  \n",
       "4            1021                  0.5  \n",
       "\n",
       "[5 rows x 22 columns]"
      ]
     },
     "execution_count": 3,
     "metadata": {},
     "output_type": "execute_result"
    }
   ],
   "source": [
    "movie_reviews.head()"
   ]
  },
  {
   "cell_type": "code",
   "execution_count": 4,
   "metadata": {
    "scrolled": true
   },
   "outputs": [
    {
     "data": {
      "text/plain": [
       "Index(['FILM', 'RottenTomatoes', 'RottenTomatoes_User', 'Metacritic',\n",
       "       'Metacritic_User', 'IMDB', 'Fandango_Stars', 'Fandango_Ratingvalue',\n",
       "       'RT_norm', 'RT_user_norm', 'Metacritic_norm', 'Metacritic_user_nom',\n",
       "       'IMDB_norm', 'RT_norm_round', 'RT_user_norm_round',\n",
       "       'Metacritic_norm_round', 'Metacritic_user_norm_round',\n",
       "       'IMDB_norm_round', 'Metacritic_user_vote_count', 'IMDB_user_vote_count',\n",
       "       'Fandango_votes', 'Fandango_Difference'],\n",
       "      dtype='object')"
      ]
     },
     "execution_count": 4,
     "metadata": {},
     "output_type": "execute_result"
    }
   ],
   "source": [
    "movie_reviews.columns"
   ]
  },
  {
   "cell_type": "markdown",
   "metadata": {},
   "source": [
    "Here are some of the columns in the dataset:\n",
    "\n",
    "* FILM - film name.\n",
    "* RottenTomatoes - Rotten Tomatoes critics average score.\n",
    "* RottenTomatoes_User - Rotten Tomatoes user average score.\n",
    "* RT_norm - Rotten Tomatoes critics average score (normalized to a 0 to 5 point scale).\n",
    "* RT_user_norm - Rotten Tomatoes user average score (normalized to a 0 to 5 point scale).\n",
    "* Metacritic - Metacritic critics average score.\n",
    "* Metacritic_user_nom - Metacritic user average score (normalized to a 0 to 5 point scale).\n",
    "* Metacritic_norm - Metacritic critics average score (normalized to a 0 to 5 point scale).\n",
    "* Fandango_Ratingvalue - Fandango user average score (0 to 5 stars).\n",
    "* IMDB_norm - IMDB user average score (normalized to a 0 to 5 point scale)."
   ]
  },
  {
   "cell_type": "code",
   "execution_count": 5,
   "metadata": {},
   "outputs": [
    {
     "data": {
      "text/html": [
       "<div>\n",
       "<style>\n",
       "    .dataframe thead tr:only-child th {\n",
       "        text-align: right;\n",
       "    }\n",
       "\n",
       "    .dataframe thead th {\n",
       "        text-align: left;\n",
       "    }\n",
       "\n",
       "    .dataframe tbody tr th {\n",
       "        vertical-align: top;\n",
       "    }\n",
       "</style>\n",
       "<table border=\"1\" class=\"dataframe\">\n",
       "  <thead>\n",
       "    <tr style=\"text-align: right;\">\n",
       "      <th></th>\n",
       "      <th>RT_user_norm</th>\n",
       "      <th>Metacritic_user_nom</th>\n",
       "      <th>Fandango_Ratingvalue</th>\n",
       "      <th>IMDB_norm</th>\n",
       "    </tr>\n",
       "  </thead>\n",
       "  <tbody>\n",
       "    <tr>\n",
       "      <th>count</th>\n",
       "      <td>146.000000</td>\n",
       "      <td>146.000000</td>\n",
       "      <td>146.000000</td>\n",
       "      <td>146.000000</td>\n",
       "    </tr>\n",
       "    <tr>\n",
       "      <th>mean</th>\n",
       "      <td>3.193836</td>\n",
       "      <td>3.259589</td>\n",
       "      <td>3.845205</td>\n",
       "      <td>3.368493</td>\n",
       "    </tr>\n",
       "    <tr>\n",
       "      <th>std</th>\n",
       "      <td>1.001222</td>\n",
       "      <td>0.755356</td>\n",
       "      <td>0.502831</td>\n",
       "      <td>0.479368</td>\n",
       "    </tr>\n",
       "    <tr>\n",
       "      <th>min</th>\n",
       "      <td>1.000000</td>\n",
       "      <td>1.200000</td>\n",
       "      <td>2.700000</td>\n",
       "      <td>2.000000</td>\n",
       "    </tr>\n",
       "    <tr>\n",
       "      <th>25%</th>\n",
       "      <td>2.500000</td>\n",
       "      <td>2.850000</td>\n",
       "      <td>3.500000</td>\n",
       "      <td>3.150000</td>\n",
       "    </tr>\n",
       "    <tr>\n",
       "      <th>50%</th>\n",
       "      <td>3.325000</td>\n",
       "      <td>3.425000</td>\n",
       "      <td>3.900000</td>\n",
       "      <td>3.450000</td>\n",
       "    </tr>\n",
       "    <tr>\n",
       "      <th>75%</th>\n",
       "      <td>4.050000</td>\n",
       "      <td>3.750000</td>\n",
       "      <td>4.200000</td>\n",
       "      <td>3.700000</td>\n",
       "    </tr>\n",
       "    <tr>\n",
       "      <th>max</th>\n",
       "      <td>4.700000</td>\n",
       "      <td>4.800000</td>\n",
       "      <td>4.800000</td>\n",
       "      <td>4.300000</td>\n",
       "    </tr>\n",
       "  </tbody>\n",
       "</table>\n",
       "</div>"
      ],
      "text/plain": [
       "       RT_user_norm  Metacritic_user_nom  Fandango_Ratingvalue   IMDB_norm\n",
       "count    146.000000           146.000000            146.000000  146.000000\n",
       "mean       3.193836             3.259589              3.845205    3.368493\n",
       "std        1.001222             0.755356              0.502831    0.479368\n",
       "min        1.000000             1.200000              2.700000    2.000000\n",
       "25%        2.500000             2.850000              3.500000    3.150000\n",
       "50%        3.325000             3.425000              3.900000    3.450000\n",
       "75%        4.050000             3.750000              4.200000    3.700000\n",
       "max        4.700000             4.800000              4.800000    4.300000"
      ]
     },
     "execution_count": 5,
     "metadata": {},
     "output_type": "execute_result"
    }
   ],
   "source": [
    "movie_reviews[[\"RT_user_norm\",\"Metacritic_user_nom\",\"Fandango_Ratingvalue\",\"IMDB_norm\"]].describe()"
   ]
  },
  {
   "cell_type": "code",
   "execution_count": 6,
   "metadata": {},
   "outputs": [
    {
     "data": {
      "image/png": "[encoded data removed]",
      "text/plain": [
       "<matplotlib.figure.Figure at 0x10d82f5c0>"
      ]
     },
     "metadata": {},
     "output_type": "display_data"
    }
   ],
   "source": [
    "# Create a matplotlib subplot grid with the following properties:\n",
    "# 4 rows by 1 column,\n",
    "# figsize of 5 (width) by 12 (height).\n",
    "# each Axes instance should have an x-value range of 0.0 to 5.0.\n",
    "fig = plt.figure(figsize=(5, 12))\n",
    "\n",
    "ax1 = fig.add_subplot(4,1,1)\n",
    "ax2 = fig.add_subplot(4,1,2)\n",
    "ax3 = fig.add_subplot(4,1,3)\n",
    "ax4 = fig.add_subplot(4,1,4)\n",
    "\n",
    "ax1.set_xlim(0.0,5.0)\n",
    "ax2.set_xlim(0.0,5.0)\n",
    "ax3.set_xlim(0.0,5.0)\n",
    "ax4.set_xlim(0.0,5.0)\n",
    "\n",
    "# Generate the following histograms:\n",
    "# First plot (top most): Histogram of normalized Rotten Tomatoes scores by users.\n",
    "# Second plot: Histogram of normalized Metacritic scores by users.\n",
    "# Third plot: Histogram of Fandango scores by users.\n",
    "# Fourth plot (bottom most): Histogram of IMDB scores by users.\n",
    "movie_reviews[\"RT_user_norm\"].hist(ax=ax1)\n",
    "movie_reviews[\"Metacritic_user_nom\"].hist(ax=ax2)\n",
    "movie_reviews[\"Fandango_Ratingvalue\"].hist(ax=ax3)\n",
    "movie_reviews[\"IMDB_norm\"].hist(ax=ax4)\n",
    "\n",
    "plt.show()"
   ]
  },
  {
   "cell_type": "markdown",
   "metadata": {},
   "source": [
    "The most obvious things that stick out is that essentially all of the Fandango average user reviews are greater than 3 on a 5 point scale. The distributions of the Rotten Tomatoes and Metacritic scores, on the other hand, more closely resemble a normal distribution, which is generally what you'd expect if you knew nothing else. This is because the normal distribution is the most common distribution in nature and is used to approximate many phenomenon. Starting with the assumption that a phenomenon is normal is incredibly common, especially when you don't have a clear generative model to understand how the data was generated."
   ]
  },
  {
   "cell_type": "markdown",
   "metadata": {},
   "source": [
    "Now that you hopefully have some visual understanding of these scores, let's calculate some statistical measures to see how the properties the histograms suggested are reflected in numerical values. Let's focus on just the normalized user reviews in this mission."
   ]
  },
  {
   "cell_type": "code",
   "execution_count": 7,
   "metadata": {},
   "outputs": [
    {
     "name": "stdout",
     "output_type": "stream",
     "text": [
      "RT_user_norm            3.193836\n",
      "Metacritic_user_nom     3.259589\n",
      "Fandango_Ratingvalue    3.845205\n",
      "IMDB_norm               3.368493\n",
      "dtype: float64\n",
      "Rotten Tomatoes (mean): 3.19383561644\n",
      "Metacritic (mean): 3.2595890411\n",
      "Fandango (mean): 3.84520547945\n",
      "IMDB (mean): 3.36849315068\n"
     ]
    }
   ],
   "source": [
    "# Write a function, named calc_mean, that returns the mean for the values in a Series object.\n",
    "def calc_mean(series):\n",
    "    vals = series.values\n",
    "    mean = sum(vals) / len(vals)\n",
    "    return mean\n",
    "\n",
    "# Select just the columns containing normalized user reviews and assign to a separate Dataframe named user_reviews.\n",
    "# Those columns are: RT_user_norm, Metacritic_user_nom, Fandango_Ratingvalue, IMDB_norm.\n",
    "user_reviews = movie_reviews[[\"RT_user_norm\",\"Metacritic_user_nom\",\"Fandango_Ratingvalue\",\"IMDB_norm\"]]\n",
    "\n",
    "# Use the Dataframe method apply to apply the calc_mean function over the filtered Dataframe user_reviews.\n",
    "# user_reviews_mean = user_reviews.apply(lambda series:series.mean())\n",
    "user_reviews_mean = user_reviews.apply(calc_mean)\n",
    "rt_mean = user_reviews_mean[\"RT_user_norm\"]\n",
    "mc_mean = user_reviews_mean[\"Metacritic_user_nom\"]\n",
    "fg_mean = user_reviews_mean[\"Fandango_Ratingvalue\"]\n",
    "id_mean = user_reviews_mean[\"IMDB_norm\"]\n",
    "\n",
    "print(user_reviews_mean)\n",
    "\n",
    "print(\"Rotten Tomatoes (mean):\", rt_mean)\n",
    "print(\"Metacritic (mean):\", mc_mean)\n",
    "print(\"Fandango (mean):\",fg_mean)\n",
    "print(\"IMDB (mean):\",id_mean)"
   ]
  },
  {
   "cell_type": "markdown",
   "metadata": {},
   "source": [
    "It seems like the Fandango user reviews have the highest mean and skew the most towards to the higher end compared to the other review sites. Let's now calculate variance and standard deviation to better understand the spreads."
   ]
  },
  {
   "cell_type": "code",
   "execution_count": 8,
   "metadata": {},
   "outputs": [
    {
     "name": "stdout",
     "output_type": "stream",
     "text": [
      "rt_var: 0.995578438731\n",
      "rt_stdev: 0.997786770173\n",
      "mc_var: 0.566654625633\n",
      "mc_stdev: 0.752764654878\n",
      "fg_var: 0.251107149559\n",
      "fg_stdev: 0.501105926486\n",
      "id_var: 0.228219647213\n",
      "id_stdev: 0.47772340032\n"
     ]
    }
   ],
   "source": [
    "# To calculate the variance:\n",
    "# write a function, named calc_variance, that returns the variance for the values in a Series object.\n",
    "def calc_variance(series):\n",
    "    mean = calc_mean(series)\n",
    "    squared_deviations = (series - mean)**2\n",
    "    mean_squared_deviations = calc_mean(squared_deviations)\n",
    "    return mean_squared_deviations\n",
    "\n",
    "# To calculate the standard deviation:\n",
    "# use the output of the calc_variance function since standard deviation is a simple calculation away from variance.\n",
    "\n",
    "# Calculate the variance and standard deviation for the RT_user_norm column\n",
    "# and assign to rt_var and rt_stdev respectively.\n",
    "rt_var = calc_variance(user_reviews[\"RT_user_norm\"])\n",
    "rt_stdev = rt_var**0.5\n",
    "print(\"rt_var:\", rt_var)\n",
    "print(\"rt_stdev:\", rt_stdev)\n",
    "\n",
    "# Calculate the variance and standard deviation for the Metacritic_user_nom column\n",
    "# and assign to mc_var and mc_stdev respectively.\n",
    "mc_var = calc_variance(user_reviews[\"Metacritic_user_nom\"])\n",
    "mc_stdev = mc_var**0.5\n",
    "print(\"mc_var:\", mc_var)\n",
    "print(\"mc_stdev:\", mc_stdev)\n",
    "\n",
    "# Calculate the variance and standard deviation for the Fandango_Ratingvalue column\n",
    "# and assign to fg_var and fg_stdev respectively.\n",
    "fg_var = calc_variance(user_reviews[\"Fandango_Ratingvalue\"])\n",
    "fg_stdev = fg_var**0.5\n",
    "print(\"fg_var:\", fg_var)\n",
    "print(\"fg_stdev:\", fg_stdev)\n",
    "\n",
    "# Calculate the variance and standard deviation for the IMDB_norm column\n",
    "# and assign to id_var and id_stdev respectively.\n",
    "id_var = calc_variance(user_reviews[\"IMDB_norm\"])\n",
    "id_stdev = id_var**0.5\n",
    "print(\"id_var:\", id_var)\n",
    "print(\"id_stdev:\", id_stdev)"
   ]
  },
  {
   "cell_type": "markdown",
   "metadata": {},
   "source": [
    "The mean and variance values you calculated in the last screens should match the visual intuition the histograms gave you.\n",
    "\n",
    "Rotten Tomatoes and Metacritic have more spread out scores (high variance) and the mean is around 3.\n",
    "\n",
    "Fandango, on the other hand, has low spread (low variance) and a much higher mean, which could imply that the site has a strong bias towards higher reviews.\n",
    "\n",
    "IMDB is somewhere in the middle, with a low variance, like Fandango's user reviews, but a much more moderate mean value."
   ]
  },
  {
   "cell_type": "markdown",
   "metadata": {},
   "source": [
    "So it seems like something is especially fishy about Fandango's ratings, which was the inspiration behind [the FiveThirtyEight post](http://fivethirtyeight.com/features/fandango-movies-ratings/) to begin with. Since Fandango's main business is selling movie tickets, it's possible their primary incentive may differ from pure review sites like Rotten Tomatoes or Metacritic."
   ]
  },
  {
   "cell_type": "markdown",
   "metadata": {},
   "source": [
    "Let's now explore if Fandango's user ratings are at least relatively correct. More precisely, are movies that are highly rated on Rotten Tomatoes, IMDB, and Metacritic also highly rated on Fandango?"
   ]
  },
  {
   "cell_type": "markdown",
   "metadata": {},
   "source": [
    "We can accomplish that by understanding how Fandango's scores and related to scores from Rotten Tomatoes and Metacritic. First things first, let's get a visual sense by generating scatter plots."
   ]
  },
  {
   "cell_type": "code",
   "execution_count": 9,
   "metadata": {},
   "outputs": [
    {
     "data": {
      "image/png": "[encoded data removed]",
      "text/plain": [
       "<matplotlib.figure.Figure at 0x110098ba8>"
      ]
     },
     "metadata": {},
     "output_type": "display_data"
    }
   ],
   "source": [
    "# Create a matplotlib subplot grid with the following properties:\n",
    "# 3 rows by 1 column,\n",
    "# figsize of 4 (width) by 8 (height),\n",
    "# each Axes instance should have an x-value range of 0.0 to 5.0.\n",
    "fig = plt.figure(figsize=(4, 8))\n",
    "\n",
    "ax1 = fig.add_subplot(3,1,1)\n",
    "ax2 = fig.add_subplot(3,1,2)\n",
    "ax3 = fig.add_subplot(3,1,3)\n",
    "\n",
    "ax1.set_xlim(0.0,5.0)\n",
    "ax2.set_xlim(0.0,5.0)\n",
    "ax3.set_xlim(0.0,5.0)\n",
    "\n",
    "# Generate the following scatter plot (y-axis vs x-axis):\n",
    "# First plot (top most): Fandango user reviews vs. Rotten Tomatoes user reviews.\n",
    "# Second plot: Fandango user reviews vs. Metacritic user reviews.\n",
    "# Third plot (bottom most): Fandango user reviews vs. IMDB user reviews.\n",
    "ax1.scatter(user_reviews[\"RT_user_norm\"], user_reviews[\"Fandango_Ratingvalue\"])\n",
    "ax2.scatter(user_reviews[\"Metacritic_user_nom\"], user_reviews[\"Fandango_Ratingvalue\"])\n",
    "ax3.scatter(user_reviews[\"IMDB_norm\"], user_reviews[\"Fandango_Ratingvalue\"])\n",
    "\n",
    "plt.show()"
   ]
  },
  {
   "cell_type": "markdown",
   "metadata": {},
   "source": [
    "It seems like Rotten Tomatoes and IMDB user reviews correlate the most with Fandango user reviews while Metacritic only weakly correlates. Let's write a function that to calculates the covariance values in this screen and a function to calculate the correlation values in the next screen."
   ]
  },
  {
   "cell_type": "markdown",
   "metadata": {},
   "source": [
    "Here's the formula for computing the covariance between 2 variables:"
   ]
  },
  {
   "cell_type": "markdown",
   "metadata": {},
   "source": [
    "$\\large cov(\\mathbf{x},\\mathbf{y})=\\frac{\\sum_{i=1}^{n}(x_i-\\bar{x})(y_i-\\bar{y})}{n}$"
   ]
  },
  {
   "cell_type": "code",
   "execution_count": 10,
   "metadata": {},
   "outputs": [
    {
     "name": "stdout",
     "output_type": "stream",
     "text": [
      "Covariance between Rotten Tomatoes and Fandango: 0.362162225558\n",
      "Covariance between Metacritic and Fandango 0.127100769375\n",
      "Covariance between IMDB and Fandango 0.143718802777\n"
     ]
    }
   ],
   "source": [
    "# Write a function, named calc_covariance, that computes the covariance between the values of 2 Series objects.\n",
    "def calc_covariance(series_one, series_two):\n",
    "    x = series_one.values\n",
    "    y = series_two.values\n",
    "    x_mean = calc_mean(series_one)\n",
    "    y_mean = calc_mean(series_two)\n",
    "    x_diffs = [i - x_mean for i in x]\n",
    "    y_diffs = [i - y_mean for i in y]\n",
    "    codeviates = [x_diffs[i] * y_diffs[i] for i in range(len(x))]\n",
    "    return sum(codeviates) / len(codeviates)\n",
    "\n",
    "# Compute the covariance between the RT_user_norm and Fandango_Ratingvalue columns.\n",
    "# Assign the result to rt_fg_covar.\n",
    "rt_fg_covar = calc_covariance(user_reviews[\"RT_user_norm\"], user_reviews[\"Fandango_Ratingvalue\"])\n",
    "\n",
    "# Compute the covariance between the Metacritic_user_nom and Fandango_Ratingvalue columns.\n",
    "# Assign the result to mc_fg_covar.\n",
    "mc_fg_covar = calc_covariance(user_reviews[\"Metacritic_user_nom\"], user_reviews[\"Fandango_Ratingvalue\"])\n",
    "\n",
    "# Compute the covariance between the IMDB_norm and Fandango_Ratingvalue columns.\n",
    "# Assign the result to id_fg_covar.\n",
    "id_fg_covar = calc_covariance(user_reviews[\"IMDB_norm\"], user_reviews[\"Fandango_Ratingvalue\"])\n",
    "\n",
    "# Use the variables display below the code output window or print statements to observe each value.\n",
    "print(\"Covariance between Rotten Tomatoes and Fandango:\", rt_fg_covar)\n",
    "print(\"Covariance between Metacritic and Fandango\", mc_fg_covar)\n",
    "print(\"Covariance between IMDB and Fandango\", id_fg_covar)"
   ]
  },
  {
   "cell_type": "markdown",
   "metadata": {},
   "source": [
    "Interestingly, Rotten Tomatoes covaries strongly with Fandango (0.36) compared to Metacritic (0.13) and IMDB (0.14). Finally, let's calculate the correlation values by using the calc_covariance a function from the previous step."
   ]
  },
  {
   "cell_type": "markdown",
   "metadata": {},
   "source": [
    "Here's the full formula for correlation:"
   ]
  },
  {
   "cell_type": "markdown",
   "metadata": {},
   "source": [
    "$\\Large\\frac{cov(\\mathbf{x},\\mathbf{y})}{\\sigma_{x}\\sigma_{y}}$"
   ]
  },
  {
   "cell_type": "markdown",
   "metadata": {},
   "source": [
    "where **cov** is shorthand for the covariance function, and **σ** represents the standard deviation."
   ]
  },
  {
   "cell_type": "code",
   "execution_count": 11,
   "metadata": {},
   "outputs": [
    {
     "name": "stdout",
     "output_type": "stream",
     "text": [
      "Correlation between Rotten Tomatoes and Fandango 0.724328994249\n",
      "Correlation between Metacritic and Fandango 0.336945314265\n",
      "Correlation between IMDB and Fandango 0.600354177263\n"
     ]
    }
   ],
   "source": [
    "# Write a function, named calc_correlation,\n",
    "# that uses the calc_covariance and calc_variance functions to calculate the correlation for 2 Series objects.\n",
    "# The function should have 2 parameters, one for each Series object.\n",
    "def calc_correlation(series_one, series_two):\n",
    "    return calc_covariance(series_one, series_two)/(calc_variance(series_one)*calc_variance(series_two))**0.5\n",
    "\n",
    "# Compute the correlation between the RT_user_norm and Fandango_Ratingvalue columns\n",
    "# and assign the result to rt_fg_corr.\n",
    "rt_fg_corr = calc_correlation(user_reviews[\"RT_user_norm\"], user_reviews[\"Fandango_Ratingvalue\"])\n",
    "\n",
    "# Compute the correlation between the Metacritic_user_nom and Fandango_Ratingvalue columns\n",
    "# and assign the result to mc_fg_corr.\n",
    "mc_fg_corr = calc_correlation(user_reviews[\"Metacritic_user_nom\"], user_reviews[\"Fandango_Ratingvalue\"])\n",
    "\n",
    "# Compute the correlation between the IMDB_norm and Fandango_Ratingvalue columns\n",
    "# and assign the result to id_fg_corr.\n",
    "id_fg_corr = calc_correlation(user_reviews[\"IMDB_norm\"], user_reviews[\"Fandango_Ratingvalue\"])\n",
    "\n",
    "# Use the variables display below the code output window or print statements to observe each value.\n",
    "print(\"Correlation between Rotten Tomatoes and Fandango\", rt_fg_corr)\n",
    "print(\"Correlation between Metacritic and Fandango\", mc_fg_corr)\n",
    "print(\"Correlation between IMDB and Fandango\", id_fg_corr)"
   ]
  },
  {
   "cell_type": "code",
   "execution_count": 12,
   "metadata": {
    "collapsed": true
   },
   "outputs": [],
   "source": [
    "from scipy.stats.stats import pearsonr"
   ]
  },
  {
   "cell_type": "code",
   "execution_count": 13,
   "metadata": {},
   "outputs": [
    {
     "name": "stdout",
     "output_type": "stream",
     "text": [
      "Correlation between Rotten Tomatoes and Fandango 0.724328994249\n",
      "Correlation between Metacritic and Fandango 0.336945314265\n",
      "Correlation between IMDB and Fandango 0.600354177263\n"
     ]
    }
   ],
   "source": [
    "rt_fg_corr = pearsonr(user_reviews[\"RT_user_norm\"], user_reviews[\"Fandango_Ratingvalue\"])[0]\n",
    "mc_fg_corr = pearsonr(user_reviews[\"Metacritic_user_nom\"], user_reviews[\"Fandango_Ratingvalue\"])[0]\n",
    "id_fg_corr = pearsonr(user_reviews[\"IMDB_norm\"], user_reviews[\"Fandango_Ratingvalue\"])[0]\n",
    "\n",
    "print(\"Correlation between Rotten Tomatoes and Fandango\", rt_fg_corr)\n",
    "print(\"Correlation between Metacritic and Fandango\", mc_fg_corr)\n",
    "print(\"Correlation between IMDB and Fandango\", id_fg_corr)"
   ]
  },
  {
   "cell_type": "markdown",
   "metadata": {},
   "source": [
    "As the scatter plots suggested, Rotten Tomatoes and IMDB correlate the strongest with Fandango, with correlation values of 0.72 and 0.60 respectively.\n",
    "\n",
    "Metacritic, on the other hand, only has a correlation value of 0.34 with Fandango.\n",
    "\n",
    "While covariance and correlation values may seem complicated to compute and hard to reason with, their best use case is in comparing relationships like we did in this challenge."
   ]
  },
  {
   "cell_type": "code",
   "execution_count": null,
   "metadata": {
    "collapsed": true
   },
   "outputs": [],
   "source": []
  }
 ],
 "metadata": {
  "kernelspec": {
   "display_name": "Python 3",
   "language": "python",
   "name": "python3"
  },
  "language_info": {
   "codemirror_mode": {
    "name": "ipython",
    "version": 3
   },
   "file_extension": ".py",
   "mimetype": "text/x-python",
   "name": "python",
   "nbconvert_exporter": "python",
   "pygments_lexer": "ipython3",
   "version": "3.6.1"
  }
 },
 "nbformat": 4,
 "nbformat_minor": 2
}
