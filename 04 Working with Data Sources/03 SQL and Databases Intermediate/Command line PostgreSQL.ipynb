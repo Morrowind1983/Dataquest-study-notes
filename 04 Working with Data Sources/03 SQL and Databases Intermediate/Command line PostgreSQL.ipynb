{
 "cells": [
  {
   "cell_type": "markdown",
   "metadata": {},
   "source": [
    "**[psql](http://www.postgresql.org/docs/9.4/static/app-psql.html)** is similar to the **sqlite3** command line tool in that it allows you to connect to and manage databases. **psql** connects to a running PostgreSQL server process, then enables you to:\n",
    "* Run queries.\n",
    "* Manage users and permissions.\n",
    "* Manage databases.\n",
    "* See PostgreSQL system information."
   ]
  },
  {
   "cell_type": "markdown",
   "metadata": {},
   "source": [
    "By default, psql will connect to a PostgreSQL server running on the current computer, using port **5432**. If you don't specify a user and database to connect to, it will use the defaults. By default, the name of the currently logged in system user will be used as both the PostgreSQL user name and database name."
   ]
  },
  {
   "cell_type": "markdown",
   "metadata": {},
   "source": [
    "After you're finished working with **psql**, you can exit using the **\\q** command."
   ]
  },
  {
   "cell_type": "markdown",
   "metadata": {},
   "source": [
    "*<font color=\"#666666\">Start the PostgreSQL command line tool by typing psql.</font>*  \n",
    "$ **psql**  \n",
    "psql (9.6.5)  \n",
    "Type \"help\" for help."
   ]
  },
  {
   "cell_type": "markdown",
   "metadata": {},
   "source": [
    "*<font color=\"#666666\">Create a database called bank_accounts.</font>*  \n",
    "lijia=# **CREATE DATABASE bank_accounts;**  \n",
    "CREATE DATABASE"
   ]
  },
  {
   "cell_type": "markdown",
   "metadata": {},
   "source": [
    "*<font color=\"#666666\">Exit psql by typing \\q.</font>*  \n",
    "lijia=# **\\q**"
   ]
  },
  {
   "cell_type": "markdown",
   "metadata": {},
   "source": [
    "We can run several special commands using psql. These commands start with a backslash **(\\\\)**, and can perform a variety of functions, including:\n",
    "* Listing databases\n",
    "* Listing tables\n",
    "* Managing users"
   ]
  },
  {
   "cell_type": "markdown",
   "metadata": {},
   "source": [
    "You can see a full list of all of the special functions by running **\\?** after starting psql. You'll need to type **q** to exit the resulting help interface. You can also find the full list [here](http://www.postgresql.org/docs/9.4/static/app-psql.html)."
   ]
  },
  {
   "cell_type": "markdown",
   "metadata": {},
   "source": [
    "Two common functions to run are:\n",
    "* **\\l** -- list all available databases.\n",
    "* **\\dt** -- list all tables in the current database.\n",
    "* **\\du** -- list users."
   ]
  },
  {
   "cell_type": "markdown",
   "metadata": {},
   "source": [
    "*<font color=\"#666666\">List all available databases.</font>*  \n",
    "lijia=# **\\l**\n",
    "    \n",
    "                                        List of databases\n",
    "         Name      |  Owner   | Encoding |   Collate   |    Ctype    |   Access privileges   \n",
    "    ---------------+----------+----------+-------------+-------------+-----------------------\n",
    "     bank_accounts | lijia    | UTF8     | en_US.UTF-8 | en_US.UTF-8 | \n",
    "     lijia         | lijia    | UTF8     | en_US.UTF-8 | en_US.UTF-8 | \n",
    "     postgres      | postgres | UTF8     | en_US.UTF-8 | en_US.UTF-8 | \n",
    "     template0     | postgres | UTF8     | en_US.UTF-8 | en_US.UTF-8 | =c/postgres          +\n",
    "                   |          |          |             |             | postgres=CTc/postgres\n",
    "     template1     | postgres | UTF8     | en_US.UTF-8 | en_US.UTF-8 | =c/postgres          +\n",
    "                   |          |          |             |             | postgres=CTc/postgres\n",
    "    (5 rows)"
   ]
  },
  {
   "cell_type": "markdown",
   "metadata": {},
   "source": [
    "When we're connected to a specific SQL database, we can only create tables within that database, and run queries on tables in that database. "
   ]
  },
  {
   "cell_type": "markdown",
   "metadata": {},
   "source": [
    "You can connect to a different database using the **-d** option of psql."
   ]
  },
  {
   "cell_type": "markdown",
   "metadata": {},
   "source": [
    "*<font color=\"#666666\">Start psql and connect to the bank_accounts database.</font>*  \n",
    "$ **psql -d bank_accounts**  \n",
    "psql (9.6.5)  \n",
    "Type \"help\" for help."
   ]
  },
  {
   "cell_type": "markdown",
   "metadata": {},
   "source": [
    "*<font color=\"#666666\">Create a table called deposits in bank_accounts.</font>*  \n",
    "bank_accounts=# **CREATE TABLE deposits(**  \n",
    "bank_accounts(# **id integer PRIMARY KEY,**  \n",
    "bank_accounts(# **name text,**  \n",
    "bank_accounts(# **mount float);**  \n",
    "CREATE TABLE"
   ]
  },
  {
   "cell_type": "markdown",
   "metadata": {},
   "source": [
    "*<font color=\"#666666\">Use the \\dt command to list all of the tables in bank_accounts.</font>*  \n",
    "bank_accounts=# **\\dt**  \n",
    "    \n",
    "             List of relations\n",
    "     Schema |   Name   | Type  | Owner \n",
    "    --------+----------+-------+-------\n",
    "     public | deposits | table | lijia\n",
    "    (1 row)"
   ]
  },
  {
   "cell_type": "markdown",
   "metadata": {},
   "source": [
    "*<font color=\"#666666\">Exit psql.</font>*  \n",
    "bank_accounts=# **\\q**"
   ]
  },
  {
   "cell_type": "markdown",
   "metadata": {},
   "source": [
    "In order to manage access to different databases, you can also create users. Users will be able to log into a PostgreSQL database and run queries. You can create a user with the **[CREATE ROLE](http://www.postgresql.org/docs/9.4/static/sql-createrole.html)** statement. Here's how the statement looks:  \n",
    "**CREATE ROLE userName;**"
   ]
  },
  {
   "cell_type": "markdown",
   "metadata": {},
   "source": [
    "By default, the user isn't allowed to login to PostgreSQL and run queries. You can fix this by adding the **WITH** and **LOGIN** statements:  \n",
    "**CREATE ROLE userName WITH LOGIN;**"
   ]
  },
  {
   "cell_type": "markdown",
   "metadata": {},
   "source": [
    "You can create a password using the **WITH PASSWORD** statement like this:  \n",
    "**CREATE ROLE userName WITH LOGIN PASSWORD 'password';**"
   ]
  },
  {
   "cell_type": "markdown",
   "metadata": {},
   "source": [
    "If the user needs to be able to create databases, you can add that ability in with the **CREATEDB** statement:  \n",
    "**CREATE ROLE userName WITH CREATEDB LOGIN PASSWORD 'password';**"
   ]
  },
  {
   "cell_type": "markdown",
   "metadata": {},
   "source": [
    "As you may be able to tell from above, we can keep modifying how the user is created by adding statements after the WITH statement. Some other statements we can add are:\n",
    "* **CREATEROLE** -- allows the user to create other users.\n",
    "* **SUPERUSER** -- makes the user a superuser. We'll cover what a superuser is later on."
   ]
  },
  {
   "cell_type": "markdown",
   "metadata": {},
   "source": [
    "For a full list of statements that can be added, see [here](http://www.postgresql.org/docs/9.4/static/sql-createrole.html)."
   ]
  },
  {
   "cell_type": "markdown",
   "metadata": {},
   "source": [
    "*<font color=\"#666666\">Start psql.</font>*  \n",
    "$ **psql**  \n",
    "psql (9.6.5)  \n",
    "Type \"help\" for help."
   ]
  },
  {
   "cell_type": "markdown",
   "metadata": {},
   "source": [
    "*<font color=\"#666666\">Create a user called sec.</font>*  \n",
    "lijia=# **CREATE ROLE sec WITH LOGIN PASSWORD 'test' CREATEDB;**  \n",
    "CREATE ROLE"
   ]
  },
  {
   "cell_type": "markdown",
   "metadata": {},
   "source": [
    "*<font color=\"#666666\">List all the users using \\du.</font>*  \n",
    "lijia=# **\\du**  \n",
    "    \n",
    "                                       List of roles\n",
    "     Role name |                         Attributes                         | Member of \n",
    "    -----------+------------------------------------------------------------+-----------\n",
    "     lijia     | Superuser, Create role, Create DB                          | {}\n",
    "     postgres  | Superuser, Create role, Create DB, Replication, Bypass RLS | {}\n",
    "     sec       | Create DB                                                  | {}"
   ]
  },
  {
   "cell_type": "markdown",
   "metadata": {},
   "source": [
    "*<font color=\"#666666\">Exit psql.</font>*  \n",
    "lijia=# **\\q**"
   ]
  },
  {
   "cell_type": "markdown",
   "metadata": {},
   "source": [
    "When users are created, they don't have any ability, or permissions, to access tables in existing databases. This is done for security reasons, so that all permissions are issued explicitly instead of being unexpected."
   ]
  },
  {
   "cell_type": "markdown",
   "metadata": {},
   "source": [
    "You can issue permissions to a user using the **[GRANT](http://www.postgresql.org/docs/9.4/static/sql-grant.html)** statement. The **GRANT** statement will issue permissions to access certain tables in a database to a certain user. You can allow a user to perform **SELECT** queries on a given table like this:  \n",
    "**GRANT SELECT ON tableName TO userName;**"
   ]
  },
  {
   "cell_type": "markdown",
   "metadata": {},
   "source": [
    "If you want to grant different types of permissions, you can separate them with commas. The below query will allow a given user to query data from a table, update rows in the table, insert rows into the table, and delete rows from the table:  \n",
    "**GRANT SELECT, INSERT, UPDATE, DELETE ON tableName TO userName;**"
   ]
  },
  {
   "cell_type": "markdown",
   "metadata": {},
   "source": [
    "A shortcut for this is to use the **ALL PRIVILEGES** statement:  \n",
    "**GRANT ALL PRIVILEGES ON tableName TO userName;**"
   ]
  },
  {
   "cell_type": "markdown",
   "metadata": {},
   "source": [
    "You can use the psql **\\dp** command to find out what privileges have been granted to users for a specific table:  \n",
    "**\\dp tableName**"
   ]
  },
  {
   "cell_type": "markdown",
   "metadata": {},
   "source": [
    "*<font color=\"#666666\">Start psql and connect to the bank_accounts database.</font>*  \n",
    "$ **psql -d bank_accounts**  \n",
    "psql (9.6.5)  \n",
    "Type \"help\" for help."
   ]
  },
  {
   "cell_type": "markdown",
   "metadata": {},
   "source": [
    "*<font color=\"#666666\">Grant all privileges on the table deposits to the user sec.</font>*  \n",
    "bank_accounts=# **GRANT ALL PRIVILEGES ON deposits TO sec;**  \n",
    "GRANT"
   ]
  },
  {
   "cell_type": "markdown",
   "metadata": {},
   "source": [
    "*<font color=\"#666666\">List all the privileges for deposits using \\dp.</font>*  \n",
    "bank_accounts=# **\\dp**  \n",
    "    \n",
    "                                   Access privileges\n",
    "     Schema |   Name   | Type  |  Access privileges  | Column privileges | Policies \n",
    "    --------+----------+-------+---------------------+-------------------+----------\n",
    "     public | deposits | table | lijia=arwdDxt/lijia+|                   | \n",
    "            |          |       | sec=arwdDxt/lijia   |                   | \n",
    "    (1 row)"
   ]
  },
  {
   "cell_type": "markdown",
   "metadata": {},
   "source": [
    "*<font color=\"#666666\">Exit psql.</font>*  \n",
    "bank_accounts=# **\\q**"
   ]
  },
  {
   "cell_type": "markdown",
   "metadata": {},
   "source": [
    "There are times when you'll want to remove permissions that you granted to a user previously. Permissions can be removed using the **[REVOKE](http://www.postgresql.org/docs/9.4/static/sql-revoke.html)** statement."
   ]
  },
  {
   "cell_type": "markdown",
   "metadata": {},
   "source": [
    "The **REVOKE** statement enables you to take back any permissions given via the **GRANT** statement. You can revoke the ability for a user to run queries:  \n",
    "**REVOKE SELECT ON tableName FROM userName;**"
   ]
  },
  {
   "cell_type": "markdown",
   "metadata": {},
   "source": [
    "If you want to revoke different types of permissions, you can separate them with commas. The below query will revoke permissions for a given user to query data from a table, update rows in the table, insert rows into the table, and delete rows from the table:  \n",
    "**REVOKE SELECT, INSERT, UPDATE, DELETE ON tableName FROM userName;**"
   ]
  },
  {
   "cell_type": "markdown",
   "metadata": {},
   "source": [
    "A shortcut for this is to use the **ALL PRIVILEGES** statement:  \n",
    "**REVOKE ALL PRIVILEGES ON tableName FROM userName;**"
   ]
  },
  {
   "cell_type": "markdown",
   "metadata": {},
   "source": [
    "*<font color=\"#666666\">Start psql and connect to the bank_accounts database.</font>*  \n",
    "$ **psql -d bank_accounts**  \n",
    "psql (9.6.5)  \n",
    "Type \"help\" for help."
   ]
  },
  {
   "cell_type": "markdown",
   "metadata": {},
   "source": [
    "*<font color=\"#666666\">Revoke all privileges on the table deposits from the user sec.</font>*  \n",
    "bank_accounts=# **REVOKE ALL PRIVILEGES ON deposits FROM sec;**  \n",
    "REVOKE"
   ]
  },
  {
   "cell_type": "markdown",
   "metadata": {},
   "source": [
    "*<font color=\"#666666\">List all the privileges for deposits using \\dp.</font>*  \n",
    "bank_accounts=# **\\dp**  \n",
    "    \n",
    "                                   Access privileges\n",
    "     Schema |   Name   | Type  |  Access privileges  | Column privileges | Policies \n",
    "    --------+----------+-------+---------------------+-------------------+----------\n",
    "     public | deposits | table | lijia=arwdDxt/lijia |                   | \n",
    "    (1 row)"
   ]
  },
  {
   "cell_type": "markdown",
   "metadata": {},
   "source": [
    "*<font color=\"#666666\">Exit psql.</font>*  \n",
    "bank_accounts=# **\\q**"
   ]
  },
  {
   "cell_type": "markdown",
   "metadata": {},
   "source": [
    "A superuser is a special type of user that overrides all access restrictions. Superusers can perform any function in a database, and a user should only be made a superuser in special cases. Adding the **SUPERUSER** statement to a **CREATE ROLE** statement will make a user a superuser:  \n",
    "**CREATE ROLE userName WITH SUPERUSER;**"
   ]
  },
  {
   "cell_type": "markdown",
   "metadata": {},
   "source": [
    "You can also setup login and a password for the superuser:  \n",
    "**CREATE ROLE userName WITH LOGIN PASSWORD 'password' SUPERUSER;**"
   ]
  },
  {
   "cell_type": "markdown",
   "metadata": {},
   "source": [
    "*<font color=\"#666666\">Start psql.</font>*  \n",
    "$ **psql**  \n",
    "psql (9.6.5)  \n",
    "Type \"help\" for help."
   ]
  },
  {
   "cell_type": "markdown",
   "metadata": {},
   "source": [
    "*<font color=\"#666666\">Create a user called aig.</font>*  \n",
    "lijia=# **CREATE ROLE aig WITH LOGIN PASSWORD 'test' SUPERUSER;**  \n",
    "CREATE ROLE"
   ]
  },
  {
   "cell_type": "markdown",
   "metadata": {},
   "source": [
    "*<font color=\"#666666\">List all the users using \\du.</font>*  \n",
    "lijia=# **\\du**  \n",
    "    \n",
    "                                       List of roles\n",
    "     Role name |                         Attributes                         | Member of \n",
    "    -----------+------------------------------------------------------------+-----------\n",
    "     aig       | Superuser                                                  | {}\n",
    "     lijia     | Superuser, Create role, Create DB                          | {}\n",
    "     postgres  | Superuser, Create role, Create DB, Replication, Bypass RLS | {}\n",
    "     sec       | Create DB                                                  | {}"
   ]
  },
  {
   "cell_type": "markdown",
   "metadata": {},
   "source": [
    "*<font color=\"#666666\">Exit psql.</font>*  \n",
    "lijia=# **\\q**"
   ]
  },
  {
   "cell_type": "code",
   "execution_count": null,
   "metadata": {
    "collapsed": true
   },
   "outputs": [],
   "source": []
  }
 ],
 "metadata": {
  "kernelspec": {
   "display_name": "Python 3",
   "language": "python",
   "name": "python3"
  },
  "language_info": {
   "codemirror_mode": {
    "name": "ipython",
    "version": 3
   },
   "file_extension": ".py",
   "mimetype": "text/x-python",
   "name": "python",
   "nbconvert_exporter": "python",
   "pygments_lexer": "ipython3",
   "version": "3.6.1"
  }
 },
 "nbformat": 4,
 "nbformat_minor": 2
}
