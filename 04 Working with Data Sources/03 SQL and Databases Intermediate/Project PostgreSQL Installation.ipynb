{
 "cells": [
  {
   "cell_type": "markdown",
   "metadata": {},
   "source": [
    "First things first, let's install PostgreSQL. During the setup process, you'll be asked to specify a default username and password. Select a username and password combination you'll remember since you're only installing PostgreSQL locally and don't need a highly secure combination."
   ]
  },
  {
   "cell_type": "markdown",
   "metadata": {},
   "source": [
    "Also during installation, you may be asked to specify a port number. Even though PostgreSQL will be running on the same machine, other applications communciate with it through the port as if it were on a remote machine. Port number **5432** is the default for PostgreSQL."
   ]
  },
  {
   "cell_type": "markdown",
   "metadata": {},
   "source": [
    "Here are the installation instructions for each operating system:"
   ]
  },
  {
   "cell_type": "markdown",
   "metadata": {},
   "source": [
    "#### Mac:\n",
    "\n",
    "* Download Postgres.app [here](http://postgresapp.com/), move to the **Applications** folder, and double click to launch. This applications runs in the background and you'll need it to be running to connect to it from Python. By default, PostgreSQL will run on port **5432**.\n",
    "* Add the following line to the end of **~/.bash_profile**:  \n",
    "**export PATH=$PATH:/Applications/Postgres.app/Contents/Versions/latest/bin**"
   ]
  },
  {
   "cell_type": "markdown",
   "metadata": {},
   "source": [
    "#### Windows:\n",
    "\n",
    "* Download the latest Windows installer [here](http://www.bigsql.org/postgresql/installers.jsp), double click the installer, and go through the installation wizard.\n",
    "* When asked for a port number, use **5432**."
   ]
  },
  {
   "cell_type": "markdown",
   "metadata": {},
   "source": [
    "#### Linux:\n",
    "\n",
    "* Read the installation directions for your specific flavor of Linux from the [official documentation](https://www.postgresql.org/download/linux/).\n",
    "* If asked for a port number, use **5432**."
   ]
  },
  {
   "cell_type": "markdown",
   "metadata": {},
   "source": [
    "To test your installation, open your command line application, type **psql**, and you should be in the PostgreSQL shell."
   ]
  },
  {
   "cell_type": "markdown",
   "metadata": {},
   "source": [
    "You can install this library using Anaconda:  \n",
    "**conda install psycopg2**"
   ]
  },
  {
   "cell_type": "markdown",
   "metadata": {},
   "source": [
    "Launch your Python shell and import the psycopg2 library. Then, run the following code to connect to PostgreSQL and test that everything works as expected:"
   ]
  },
  {
   "cell_type": "code",
   "execution_count": null,
   "metadata": {
    "collapsed": true
   },
   "outputs": [],
   "source": []
  }
 ],
 "metadata": {
  "kernelspec": {
   "display_name": "Python 3",
   "language": "python",
   "name": "python3"
  },
  "language_info": {
   "codemirror_mode": {
    "name": "ipython",
    "version": 3
   },
   "file_extension": ".py",
   "mimetype": "text/x-python",
   "name": "python",
   "nbconvert_exporter": "python",
   "pygments_lexer": "ipython3",
   "version": "3.6.1"
  }
 },
 "nbformat": 4,
 "nbformat_minor": 2
}
