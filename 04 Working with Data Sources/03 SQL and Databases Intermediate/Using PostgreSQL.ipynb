{
 "cells": [
  {
   "cell_type": "markdown",
   "metadata": {},
   "source": [
    "**[SQLite](https://www.sqlite.org/)** is one of the most common database engines, and has many advantages:\n",
    "* The database is stored in a single file, making it portable.\n",
    "* You can use a SQLite database directly from Python, and don't need a separate program running.\n",
    "* It implements most SQL commands, enabling you to use most of the statements you're familiar with."
   ]
  },
  {
   "cell_type": "markdown",
   "metadata": {},
   "source": [
    "However, particularly when developing larger applications, **SQLite** has a few downsides that make other database engines more attractive:\n",
    "* Only one process at a time can write to the database. When you have a complex web application, you may have multiple processes updating information in the database at the same time. For example, on Facebook, one process might handle updating user information, and another might handle generating the news feed.\n",
    "* You can't take advantage of performance features, such as caching. Because a SQLite database is a single file, and it doesn't require a special program to run, it can't have performance optimizations like caching. When running a site like Facebook that has a ton of traffic, it's important to be able to lookup data quickly.\n",
    "* SQLite doesn't have any built-in security. With a production website, it's common to want some people to be able to modify tables in a database (write), and others to only be able to make SELECT queries to tables in the database (read). This is because giving someone write access to the database can be a security risk, in that they can update or overwrite data. SQLite doesn't allow for restricting access to a database in this way."
   ]
  },
  {
   "cell_type": "markdown",
   "metadata": {},
   "source": [
    "In general, **SQLite** is good in cases where having a small and simple database engine is important. **SQLite** is used extensively in embedded applications, such as Android and iOS applications."
   ]
  },
  {
   "cell_type": "markdown",
   "metadata": {},
   "source": [
    "In cases where there will be multiple users or performance is important, **[PostgreSQL](http://www.postgresql.org/)** is the most commonly used database engine."
   ]
  },
  {
   "cell_type": "markdown",
   "metadata": {},
   "source": [
    "At a high level, **PostgreSQL** consists of two pieces, a server and clients."
   ]
  },
  {
   "cell_type": "markdown",
   "metadata": {},
   "source": [
    "The server is a program that manages databases and handles queries. Clients communicate back and forth to the server. Only the server ever directly accesses the databases -- the clients can only make requests to the server."
   ]
  },
  {
   "cell_type": "markdown",
   "metadata": {},
   "source": [
    "One of the advantages of this model is that multiple clients can communicate with the server at the same time. This allows multiple processes to write to a database at the same time."
   ]
  },
  {
   "cell_type": "markdown",
   "metadata": {},
   "source": [
    "It's possible to run a **PostgreSQL server** either remotely or locally. If it's remote, you connect to it via the internet. If it's local, you connect to it on your own machine. In both cases, you'll be connecting to **PostgreSQL** via a system port."
   ]
  },
  {
   "cell_type": "markdown",
   "metadata": {},
   "source": [
    "By default, **PostgreSQL** uses **port 5432** to communicate with the outside world. If you start a PostgreSQL server, it will listen for incoming connections on **port 5432**. Clients will be able to connect to the server using this port. If you start a client, you'll have to specify which server to connect to, along with the port to connect to."
   ]
  },
  {
   "cell_type": "markdown",
   "metadata": {},
   "source": [
    "There are many clients for **[PostgreSQL](http://www.postgresql.org/)**, including [graphical clients](https://wiki.postgresql.org/wiki/Community_Guide_to_PostgreSQL_GUI_Tools)."
   ]
  },
  {
   "cell_type": "markdown",
   "metadata": {
    "collapsed": true
   },
   "source": [
    "The most common Python client for **PostgreSQL** is called [psycopg2](http://initd.org/psycopg/)."
   ]
  },
  {
   "cell_type": "markdown",
   "metadata": {},
   "source": [
    "$ **pip install psycopg2**  \n",
    "Collecting psycopg2  \n",
    "  Downloading psycopg2-2.7.3.1-cp36-cp36m-macosx_10_6_intel.macosx_10_9_intel.macosx_10_9_x86_64.macosx_10_10_intel.macosx_10_10_x86_64.whl (1.5MB)  \n",
    "    100% |████████████████████████████████| 1.5MB 6.6kB/s  \n",
    "Installing collected packages: psycopg2  \n",
    "Successfully installed psycopg2-2.7.3.1"
   ]
  },
  {
   "cell_type": "code",
   "execution_count": 1,
   "metadata": {
    "collapsed": true
   },
   "outputs": [],
   "source": [
    "# Import the psycopg2 library.\n",
    "import psycopg2"
   ]
  },
  {
   "cell_type": "markdown",
   "metadata": {},
   "source": [
    "When PostgreSQL is first installed, the default user account is called **postgres**, with an associated database called **postgres**."
   ]
  },
  {
   "cell_type": "markdown",
   "metadata": {},
   "source": [
    "**psycopg2** will default to connecting to **port 5432** on the current computer."
   ]
  },
  {
   "cell_type": "code",
   "execution_count": 2,
   "metadata": {
    "collapsed": true
   },
   "outputs": [],
   "source": [
    "# Connect to the postgres database with the user postgres.\n",
    "conn = psycopg2.connect(\"dbname=postgres user=postgres\")"
   ]
  },
  {
   "cell_type": "code",
   "execution_count": 3,
   "metadata": {
    "collapsed": true
   },
   "outputs": [],
   "source": [
    "# Initialize a Cursor object from the connection.\n",
    "cur = conn.cursor()"
   ]
  },
  {
   "cell_type": "code",
   "execution_count": 4,
   "metadata": {},
   "outputs": [
    {
     "name": "stdout",
     "output_type": "stream",
     "text": [
      "<cursor object at 0x1076d6428; closed: 0>\n"
     ]
    }
   ],
   "source": [
    "# Use the print function to display the Cursor object.\n",
    "print(cur)"
   ]
  },
  {
   "cell_type": "markdown",
   "metadata": {},
   "source": [
    "When you're done with a Connection object, you should close it to avoid issues where one connection prevents another from executing a query."
   ]
  },
  {
   "cell_type": "code",
   "execution_count": 5,
   "metadata": {
    "collapsed": true
   },
   "outputs": [],
   "source": [
    "# Close the Connection using the close method.\n",
    "conn.close()"
   ]
  },
  {
   "cell_type": "markdown",
   "metadata": {},
   "source": [
    "Once we've connected to a database, we can create a table inside that database."
   ]
  },
  {
   "cell_type": "code",
   "execution_count": 6,
   "metadata": {
    "collapsed": true
   },
   "outputs": [],
   "source": [
    "# Connect to the lijia database as the user lijia\n",
    "conn = psycopg2.connect(\"dbname=lijia user=lijia\")\n",
    "cur = conn.cursor()"
   ]
  },
  {
   "cell_type": "code",
   "execution_count": 7,
   "metadata": {
    "collapsed": true
   },
   "outputs": [],
   "source": [
    "# A SQL query that creates a table called notes in the lijia database.\n",
    "cur.execute('CREATE TABLE notes(\\\n",
    "id integer PRIMARY KEY,\\\n",
    "body text,\\\n",
    "title text\\\n",
    ");')"
   ]
  },
  {
   "cell_type": "code",
   "execution_count": 8,
   "metadata": {
    "collapsed": true
   },
   "outputs": [],
   "source": [
    "# Close the Connection using the close method.\n",
    "conn.close()"
   ]
  },
  {
   "cell_type": "markdown",
   "metadata": {
    "collapsed": true
   },
   "source": [
    "Whenever we open a Connection in **psycopg2**, a new transaction will automatically be created. All queries run up until the **[commit](http://initd.org/psycopg/docs/connection.html#connection.commit)** method is called will be placed into the same transaction block. When **commit** is called, the PostgreSQL engine will run all the queries at once."
   ]
  },
  {
   "cell_type": "markdown",
   "metadata": {},
   "source": [
    "If we don't want to apply the changes in the transaction block, we can call the **[rollback](http://initd.org/psycopg/docs/connection.html#connection.rollback)** method to remove the transaction. Not calling either **commit** or **rollback** will cause the transaction to stay in a pending state, and will result in the changes not being applied to the database."
   ]
  },
  {
   "cell_type": "code",
   "execution_count": 9,
   "metadata": {
    "collapsed": true
   },
   "outputs": [],
   "source": [
    "# Connect to the lijia database as the user lijia.\n",
    "conn = psycopg2.connect(\"dbname=lijia user=lijia\")\n",
    "\n",
    "cur = conn.cursor()\n",
    "\n",
    "# A SQL query that creates a table called notes in the lijia database.\n",
    "cur.execute('CREATE TABLE notes(\\\n",
    "id integer PRIMARY KEY,\\\n",
    "body text,\\\n",
    "title text\\\n",
    ");')\n",
    "\n",
    "# Use the commit method on the Connection object to apply the changes in the transaction to the database.\n",
    "conn.commit()\n",
    "\n",
    "# Close the Connection.\n",
    "conn.close()"
   ]
  },
  {
   "cell_type": "markdown",
   "metadata": {},
   "source": [
    "There are cases when you won't want to manage a transaction, and you'll instead want changes right away. This is most common when you're making changes to the database that you want to be guaranteed to happen immediately."
   ]
  },
  {
   "cell_type": "markdown",
   "metadata": {},
   "source": [
    "To activate autocommit mode, we'll need to set the **[autocommit](http://initd.org/psycopg/docs/connection.html#connection.autocommit)** property of the Connection object to **True**."
   ]
  },
  {
   "cell_type": "code",
   "execution_count": 10,
   "metadata": {
    "collapsed": true
   },
   "outputs": [],
   "source": [
    "# Connect to the lijia database as the user lijia.\n",
    "conn = psycopg2.connect(\"dbname=lijia user=lijia\")\n",
    "\n",
    "# Set the autocommit property of the Connection object to True.\n",
    "conn.autocommit = True\n",
    "\n",
    "cur = conn.cursor()\n",
    "\n",
    "# A SQL query that creates a table called facts in the lijia database.\n",
    "cur.execute('CREATE TABLE facts(\\\n",
    "id integer PRIMARY KEY,\\\n",
    "country text,\\\n",
    "value integer\\\n",
    ");')\n",
    "\n",
    "# Close the Connection.\n",
    "conn.close()"
   ]
  },
  {
   "cell_type": "markdown",
   "metadata": {},
   "source": [
    "We can issue SELECT queries against a database using the **execute** method, along with the **[fetchall](http://initd.org/psycopg/docs/cursor.html#cursor.fetchall)** and **[fetchone](http://initd.org/psycopg/docs/cursor.html#cursor.fetchone)** methods to retrieve results."
   ]
  },
  {
   "cell_type": "code",
   "execution_count": 11,
   "metadata": {},
   "outputs": [
    {
     "name": "stdout",
     "output_type": "stream",
     "text": [
      "[(1, 'Do more missions on Dataquest.', 'Dataquest reminder')]\n"
     ]
    }
   ],
   "source": [
    "# Connect to the lijia database as the user lijia.\n",
    "conn = psycopg2.connect(\"dbname=lijia user=lijia\")\n",
    "\n",
    "cur = conn.cursor()\n",
    "\n",
    "# Execute a SQL query that inserts a row into the notes table.\n",
    "cur.execute('''INSERT INTO notes(\\\n",
    "VALUES (1, 'Do more missions on Dataquest.', 'Dataquest reminder')\\\n",
    ");''')\n",
    "\n",
    "# Execute a SQL query that selects all of the rows from the notes table.\n",
    "cur.execute('SELECT * FROM notes;')\n",
    "\n",
    "# Fetch all of the results and print them out.\n",
    "rows = cur.fetchall()\n",
    "print(rows)\n",
    "\n",
    "# Close the Connection.\n",
    "conn.close()"
   ]
  },
  {
   "cell_type": "markdown",
   "metadata": {},
   "source": [
    "One of the most powerful aspects of PostgreSQL is that it enables you to create multiple databases. Different databases are generally used to hold information about different applications."
   ]
  },
  {
   "cell_type": "markdown",
   "metadata": {},
   "source": [
    "We can create a database using the **CREATE DATABASE** SQL statement. We can specify the user who will own the database when we create it as well, using the **OWNER** statement."
   ]
  },
  {
   "cell_type": "code",
   "execution_count": 12,
   "metadata": {
    "collapsed": true
   },
   "outputs": [],
   "source": [
    "# Connect to the lijia database with the user lijia.\n",
    "conn = psycopg2.connect(\"dbname=lijia user=lijia\")\n",
    "\n",
    "# Set the connection to autocommit mode.\n",
    "conn.autocommit = True\n",
    "\n",
    "cur = conn.cursor()\n",
    "\n",
    "# Create a database called income where the owner is the user lijia.\n",
    "cur.execute('CREATE DATABASE income OWNER lijia;')\n",
    "\n",
    "# Close the Connection.\n",
    "conn.close()"
   ]
  },
  {
   "cell_type": "markdown",
   "metadata": {},
   "source": [
    "We can delete a database using the **DROP DATABASE** statement. The **DROP DATABASE** statement will immediately remove a database, provided the user executing the query has the right permissions. It should be used with caution when working with real data."
   ]
  },
  {
   "cell_type": "code",
   "execution_count": 13,
   "metadata": {
    "collapsed": true
   },
   "outputs": [],
   "source": [
    "# Connect to the lijia database with the user lijia.\n",
    "conn = psycopg2.connect(\"dbname=lijia user=lijia\")\n",
    "\n",
    "# Set the connection to autocommit mode.\n",
    "conn.autocommit = True\n",
    "\n",
    "cur = conn.cursor()\n",
    "\n",
    "# Drop the income database.\n",
    "cur.execute('DROP DATABASE income;')\n",
    "\n",
    "# Close the Connection.\n",
    "conn.close()"
   ]
  },
  {
   "cell_type": "code",
   "execution_count": null,
   "metadata": {
    "collapsed": true
   },
   "outputs": [],
   "source": []
  }
 ],
 "metadata": {
  "kernelspec": {
   "display_name": "Python 3",
   "language": "python",
   "name": "python3"
  },
  "language_info": {
   "codemirror_mode": {
    "name": "ipython",
    "version": 3
   },
   "file_extension": ".py",
   "mimetype": "text/x-python",
   "name": "python",
   "nbconvert_exporter": "python",
   "pygments_lexer": "ipython3",
   "version": "3.6.1"
  }
 },
 "nbformat": 4,
 "nbformat_minor": 2
}
