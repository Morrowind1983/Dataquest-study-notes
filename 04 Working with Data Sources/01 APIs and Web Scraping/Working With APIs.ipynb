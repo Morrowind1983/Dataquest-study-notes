{
 "cells": [
  {
   "cell_type": "code",
   "execution_count": 1,
   "metadata": {
    "collapsed": true
   },
   "outputs": [],
   "source": [
    "import requests"
   ]
  },
  {
   "cell_type": "markdown",
   "metadata": {},
   "source": [
    "[Check out the complete list](http://open-notify.org/Open-Notify-API/) of OpenNotify endpoints."
   ]
  },
  {
   "cell_type": "markdown",
   "metadata": {},
   "source": [
    "The API usually returns this data in [JavaScript Object Notation](http://json.org/) (JSON) format."
   ]
  },
  {
   "cell_type": "code",
   "execution_count": 2,
   "metadata": {},
   "outputs": [
    {
     "name": "stdout",
     "output_type": "stream",
     "text": [
      "status_code = 200\n",
      "content = b'{\"timestamp\": 1505041130, \"message\": \"success\", \"iss_position\": {\"longitude\": \"-10.6247\", \"latitude\": \"11.7662\"}}'\n"
     ]
    }
   ],
   "source": [
    "# Make a get request to get the latest position of the ISS from the OpenNotify API.\n",
    "response = requests.get(\"http://api.open-notify.org/iss-now.json\")\n",
    "status_code = response.status_code\n",
    "\n",
    "print(\"status_code = %d\"%response.status_code)\n",
    "print(\"content = %s\"%response.content)"
   ]
  },
  {
   "cell_type": "markdown",
   "metadata": {},
   "source": [
    "Web servers return status codes every time they receive an API request. A status code provides information about what happened with a request. Here are some codes that are relevant to GET requests:\n",
    "\n",
    "* 200 - Everything went okay, and the server returned a result (if any).\n",
    "* 301 - The server is redirecting you to a different endpoint. This can happen when a company switches domain names, or an endpoint's name has changed.\n",
    "* 401 - The server thinks you're not authenticated. This happens when you don't send the right credentials to access an API (we'll talk about this in a later mission).\n",
    "* 400 - The server thinks you made a bad request. This can happen when you don't send the information the API requires to process your request, among other things.\n",
    "* 403 - The resource you're trying to access is forbidden; you don't have the right permissions to see it.\n",
    "* 404 - The server didn't find the resource you tried to access."
   ]
  },
  {
   "cell_type": "code",
   "execution_count": 3,
   "metadata": {},
   "outputs": [
    {
     "name": "stdout",
     "output_type": "stream",
     "text": [
      "status_code = 400\n",
      "content = b'{\\n  \"message\": \"failure\", \\n  \"reason\": \"Latitude must be specified\"\\n}\\n'\n"
     ]
    }
   ],
   "source": [
    "response = requests.get(\"http://api.open-notify.org/iss-pass.json\")\n",
    "\n",
    "print(\"status_code = %d\"%response.status_code)\n",
    "print(\"content = %s\"%response.content)"
   ]
  },
  {
   "cell_type": "markdown",
   "metadata": {},
   "source": [
    "We got a 400 status code, which indicates a bad request.\n",
    "The ISS Pass endpoint requires two parameters."
   ]
  },
  {
   "cell_type": "code",
   "execution_count": 4,
   "metadata": {},
   "outputs": [
    {
     "name": "stdout",
     "output_type": "stream",
     "text": [
      "status_code = 200\n",
      "content = b'{\\n  \"message\": \"success\", \\n  \"request\": {\\n    \"altitude\": 100, \\n    \"datetime\": 1505040155, \\n    \"latitude\": 37.78, \\n    \"longitude\": -122.41, \\n    \"passes\": 5\\n  }, \\n  \"response\": [\\n    {\\n      \"duration\": 502, \\n      \"risetime\": 1505045110\\n    }, \\n    {\\n      \"duration\": 495, \\n      \"risetime\": 1505050983\\n    }, \\n    {\\n      \"duration\": 608, \\n      \"risetime\": 1505056773\\n    }, \\n    {\\n      \"duration\": 625, \\n      \"risetime\": 1505062557\\n    }, \\n    {\\n      \"duration\": 190, \\n      \"risetime\": 1505068514\\n    }\\n  ]\\n}\\n'\n"
     ]
    }
   ],
   "source": [
    "# We can make a dictionary that contains these parameters, and then pass them into the function.\n",
    "# Set up the parameters we want to pass to the API.\n",
    "# This is the latitude and longitude of New York City.\n",
    "parameters = {\"lat\": 37.78, \"lon\": -122.41}\n",
    "\n",
    "# Make a get request with the parameters.\n",
    "response = requests.get(\"http://api.open-notify.org/iss-pass.json\", params=parameters)\n",
    "\n",
    "print(\"status_code = %d\"%response.status_code)\n",
    "print(\"content = %s\"%response.content)"
   ]
  },
  {
   "cell_type": "code",
   "execution_count": 5,
   "metadata": {},
   "outputs": [
    {
     "name": "stdout",
     "output_type": "stream",
     "text": [
      "status_code = 200\n",
      "content = b'{\\n  \"message\": \"success\", \\n  \"request\": {\\n    \"altitude\": 100, \\n    \"datetime\": 1505038797, \\n    \"latitude\": 40.71, \\n    \"longitude\": -74.0, \\n    \"passes\": 5\\n  }, \\n  \"response\": [\\n    {\\n      \"duration\": 564, \\n      \"risetime\": 1505039846\\n    }, \\n    {\\n      \"duration\": 634, \\n      \"risetime\": 1505045640\\n    }, \\n    {\\n      \"duration\": 598, \\n      \"risetime\": 1505051437\\n    }, \\n    {\\n      \"duration\": 544, \\n      \"risetime\": 1505105668\\n    }, \\n    {\\n      \"duration\": 643, \\n      \"risetime\": 1505111384\\n    }\\n  ]\\n}\\n'\n"
     ]
    }
   ],
   "source": [
    "# We can also do the same thing directly by adding the query parameters to the url.\n",
    "response = requests.get(\"http://api.open-notify.org/iss-pass.json?lat=40.71&lon=-74\")\n",
    "\n",
    "print(\"status_code = %d\"%response.status_code)\n",
    "print(\"content = %s\"%response.content)"
   ]
  },
  {
   "cell_type": "code",
   "execution_count": 6,
   "metadata": {},
   "outputs": [
    {
     "name": "stdout",
     "output_type": "stream",
     "text": [
      "type of json_data = <class 'dict'>\n",
      "json_data = {'message': 'success', 'request': {'altitude': 100, 'datetime': 1505040155, 'latitude': 37.78, 'longitude': -122.41, 'passes': 5}, 'response': [{'duration': 502, 'risetime': 1505045110}, {'duration': 495, 'risetime': 1505050983}, {'duration': 608, 'risetime': 1505056773}, {'duration': 625, 'risetime': 1505062557}, {'duration': 190, 'risetime': 1505068514}]}\n",
      "first_pass_duration = 502\n",
      "type of headers = <class 'requests.structures.CaseInsensitiveDict'>\n",
      "headers = {'Server': 'nginx/1.10.3', 'Date': 'Sun, 10 Sep 2017 10:58:52 GMT', 'Content-Type': 'application/json', 'Content-Length': '521', 'Connection': 'keep-alive', 'Via': '1.1 vegur'}\n",
      "content-type = application/json\n"
     ]
    }
   ],
   "source": [
    "parameters = {\"lat\": 37.78, \"lon\": -122.41}\n",
    "response = requests.get(\"http://api.open-notify.org/iss-pass.json\", params=parameters)\n",
    "\n",
    "# Get the response data as a Python object.  Verify that it's a dictionary.\n",
    "json_data = response.json()\n",
    "\n",
    "print(\"type of json_data = %s\"%type(json_data))\n",
    "print(\"json_data = %s\"%json_data)\n",
    "print(\"first_pass_duration = %s\"%json_data[\"response\"][0][\"duration\"])\n",
    "\n",
    "# Headers is a dictionary\n",
    "print(\"type of headers = %s\"%type(response.headers))\n",
    "print(\"headers = %s\"%response.headers)\n",
    "print(\"content-type = %s\"%response.headers[\"content-type\"])"
   ]
  },
  {
   "cell_type": "code",
   "execution_count": 7,
   "metadata": {
    "collapsed": true
   },
   "outputs": [],
   "source": [
    "# Import the JSON library.\n",
    "import json"
   ]
  },
  {
   "cell_type": "code",
   "execution_count": 8,
   "metadata": {},
   "outputs": [
    {
     "data": {
      "text/plain": [
       "{'message': 'success',\n",
       " 'request': {'altitude': 100,\n",
       "  'datetime': 1505040155,\n",
       "  'latitude': 37.78,\n",
       "  'longitude': -122.41,\n",
       "  'passes': 5},\n",
       " 'response': [{'duration': 502, 'risetime': 1505045110},\n",
       "  {'duration': 495, 'risetime': 1505050983},\n",
       "  {'duration': 608, 'risetime': 1505056773},\n",
       "  {'duration': 625, 'risetime': 1505062557},\n",
       "  {'duration': 190, 'risetime': 1505068514}]}"
      ]
     },
     "execution_count": 8,
     "metadata": {},
     "output_type": "execute_result"
    }
   ],
   "source": [
    "# loads -- Takes a JSON string, and converts it to a Python object\n",
    "content_json = json.loads(response.content)\n",
    "content_json"
   ]
  },
  {
   "cell_type": "code",
   "execution_count": 9,
   "metadata": {},
   "outputs": [
    {
     "data": {
      "text/plain": [
       "'{\"message\": \"success\", \"request\": {\"altitude\": 100, \"datetime\": 1505040155, \"latitude\": 37.78, \"longitude\": -122.41, \"passes\": 5}, \"response\": [{\"duration\": 502, \"risetime\": 1505045110}, {\"duration\": 495, \"risetime\": 1505050983}, {\"duration\": 608, \"risetime\": 1505056773}, {\"duration\": 625, \"risetime\": 1505062557}, {\"duration\": 190, \"risetime\": 1505068514}]}'"
      ]
     },
     "execution_count": 9,
     "metadata": {},
     "output_type": "execute_result"
    }
   ],
   "source": [
    "# dumps -- Takes in a Python object, and converts it to a string\n",
    "content_string = json.dumps(content_json)\n",
    "content_string"
   ]
  },
  {
   "cell_type": "code",
   "execution_count": 10,
   "metadata": {},
   "outputs": [
    {
     "name": "stdout",
     "output_type": "stream",
     "text": [
      "headers = {'Server': 'nginx/1.10.3', 'Date': 'Sun, 10 Sep 2017 10:58:53 GMT', 'Content-Type': 'application/json', 'Content-Length': '180', 'Connection': 'keep-alive', 'access-control-allow-origin': '*'}\n",
      "json_data = {'message': 'success', 'people': [{'name': 'Sergey Ryazanskiy', 'craft': 'ISS'}, {'name': 'Randy Bresnik', 'craft': 'ISS'}, {'name': 'Paolo Nespoli', 'craft': 'ISS'}], 'number': 3}\n",
      "How many people are currently in space: 3\n"
     ]
    }
   ],
   "source": [
    "# OpenNotify has one more API endpoint, astros.json. It tells us how many people are currently in space.\n",
    "response = requests.get(\"http://api.open-notify.org/astros.json\")\n",
    "json_data = response.json()\n",
    "\n",
    "print(\"headers = %s\"%response.headers)\n",
    "print(\"json_data = %s\"%json_data)\n",
    "print(\"How many people are currently in space: {0}\".format(json_data['number']))"
   ]
  },
  {
   "cell_type": "code",
   "execution_count": null,
   "metadata": {
    "collapsed": true
   },
   "outputs": [],
   "source": []
  }
 ],
 "metadata": {
  "kernelspec": {
   "display_name": "Python 3",
   "language": "python",
   "name": "python3"
  },
  "language_info": {
   "codemirror_mode": {
    "name": "ipython",
    "version": 3
   },
   "file_extension": ".py",
   "mimetype": "text/x-python",
   "name": "python",
   "nbconvert_exporter": "python",
   "pygments_lexer": "ipython3",
   "version": "3.6.1"
  }
 },
 "nbformat": 4,
 "nbformat_minor": 2
}
