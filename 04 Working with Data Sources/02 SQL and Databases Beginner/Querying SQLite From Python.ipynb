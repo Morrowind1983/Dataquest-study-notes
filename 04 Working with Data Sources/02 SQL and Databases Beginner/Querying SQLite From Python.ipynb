{
 "cells": [
  {
   "cell_type": "markdown",
   "metadata": {},
   "source": [
    "We can interact with a SQLite database in two main ways:\n",
    "* Through the SQLite Python module\n",
    "* Through the SQLite shell"
   ]
  },
  {
   "cell_type": "markdown",
   "metadata": {},
   "source": [
    "In this mission, we'll focus on learning how to use the [SQLite Python module](https://docs.python.org/3/library/sqlite3.html) to interact with the database."
   ]
  },
  {
   "cell_type": "markdown",
   "metadata": {},
   "source": [
    "Python 2.5 and up come with the sqlite module, which means we don't need to install any separate libraries to get started. "
   ]
  },
  {
   "cell_type": "markdown",
   "metadata": {},
   "source": [
    "Specifically, we'll be working with the sqlite3 Python module, which was developed to work with [SQLite version 3](https://www.sqlite.org/version3.html)."
   ]
  },
  {
   "cell_type": "code",
   "execution_count": 1,
   "metadata": {
    "collapsed": true
   },
   "outputs": [],
   "source": [
    "# Import the sqlite3 library into the environment.\n",
    "import sqlite3"
   ]
  },
  {
   "cell_type": "markdown",
   "metadata": {},
   "source": [
    "The connect() function returns a [Connection instance](https://docs.python.org/3/library/sqlite3.html#sqlite3.Connection), which maintains the connection to the database we want to work with."
   ]
  },
  {
   "cell_type": "markdown",
   "metadata": {},
   "source": [
    "When we're connected to a database, SQLite locks the database file and prevents any other processes from connecting to the database simultaneously."
   ]
  },
  {
   "cell_type": "code",
   "execution_count": 2,
   "metadata": {
    "collapsed": true
   },
   "outputs": [],
   "source": [
    "# Use the sqlite3.connect() function to connect to jobs.db\n",
    "conn = sqlite3.connect(\"jobs.db\")"
   ]
  },
  {
   "cell_type": "markdown",
   "metadata": {},
   "source": [
    "While we use the Connection class to represent the database we're working with, we use the [Cursor class](https://docs.python.org/3/library/sqlite3.html#cursor-objects) to:\n",
    "* Run a query against the database\n",
    "* Parse the results from the database\n",
    "* Convert the results to native Python objects\n",
    "* Store the results within the Cursor instance as a local variable"
   ]
  },
  {
   "cell_type": "markdown",
   "metadata": {},
   "source": [
    "After running a query and converting the results to a list of **tuples**, the Cursor instance stores the list as a local variable."
   ]
  },
  {
   "cell_type": "markdown",
   "metadata": {},
   "source": [
    "A [tuple](https://docs.python.org/3/tutorial/datastructures.html#tuples-and-sequences) is a core data structure that Python uses to represent a sequence of values, similar to a list. Unlike lists, tuples are immutable, which means we can't modify existing ones."
   ]
  },
  {
   "cell_type": "markdown",
   "metadata": {},
   "source": [
    "Python represents each row in the results set as a tuple."
   ]
  },
  {
   "cell_type": "markdown",
   "metadata": {},
   "source": [
    "t = ('Apple', 'Banana')  \n",
    "apple = t[0]  \n",
    "banana = t[1]  "
   ]
  },
  {
   "cell_type": "markdown",
   "metadata": {},
   "source": [
    "**Tuples** are faster than lists, so they're helpful with larger databases and larger results sets."
   ]
  },
  {
   "cell_type": "code",
   "execution_count": 3,
   "metadata": {
    "collapsed": true
   },
   "outputs": [],
   "source": [
    "# A Cursor instance corresponding to the database we want to query.\n",
    "cursor = conn.cursor()"
   ]
  },
  {
   "cell_type": "code",
   "execution_count": 4,
   "metadata": {},
   "outputs": [
    {
     "name": "stdout",
     "output_type": "stream",
     "text": [
      "[(0, 1, 2419, 'PETROLEUM ENGINEERING', 'Engineering', 2339, 36, 2057, 282, 0.120564344, 1976, 1849, 270, 1207, 37, 0.018380527, 110000, 95000, 125000, 1534, 364, 193), (1, 2, 2416, 'MINING AND MINERAL ENGINEERING', 'Engineering', 756, 7, 679, 77, 0.10185185199999999, 640, 556, 170, 388, 85, 0.117241379, 75000, 55000, 90000, 350, 257, 50), (2, 3, 2415, 'METALLURGICAL ENGINEERING', 'Engineering', 856, 3, 725, 131, 0.153037383, 648, 558, 133, 340, 16, 0.024096386, 73000, 50000, 105000, 456, 176, 0)]\n"
     ]
    }
   ],
   "source": [
    "# SQL Query as a string\n",
    "query = \"select * from recent_grads;\"\n",
    "\n",
    "# Execute the query, convert the results to tuples, and store as a local variable\n",
    "cursor.execute(query)\n",
    "\n",
    "# Fetch the full results set as a list of tuples\n",
    "results = cursor.fetchall()\n",
    "\n",
    "# Display the first three results\n",
    "print(results[0:3])"
   ]
  },
  {
   "cell_type": "code",
   "execution_count": 5,
   "metadata": {},
   "outputs": [
    {
     "name": "stdout",
     "output_type": "stream",
     "text": [
      "<class 'list'>\n",
      "<class 'tuple'>\n",
      "[('PETROLEUM ENGINEERING',), ('MINING AND MINERAL ENGINEERING',), ('METALLURGICAL ENGINEERING',)]\n"
     ]
    }
   ],
   "source": [
    "# A query that returns all of the values in the Major column from the recent_grads table.\n",
    "query = \"SELECT Major FROM recent_grads;\"\n",
    "cursor.execute(query)\n",
    "\n",
    "# Store the full results set (a list of tuples) in majors.\n",
    "majors = cursor.fetchall()\n",
    "\n",
    "print(type(majors))\n",
    "print(type(majors[0]))\n",
    "\n",
    "# Print the first three tuples in majors.\n",
    "print(majors[0:3])"
   ]
  },
  {
   "cell_type": "markdown",
   "metadata": {},
   "source": [
    "The SQLite library actually allows us to skip creating a Cursor altogether by using the execute method within the Connection object itself."
   ]
  },
  {
   "cell_type": "code",
   "execution_count": 6,
   "metadata": {
    "scrolled": true
   },
   "outputs": [
    {
     "name": "stdout",
     "output_type": "stream",
     "text": [
      "[(0, 1, 2419, 'PETROLEUM ENGINEERING', 'Engineering', 2339, 36, 2057, 282, 0.120564344, 1976, 1849, 270, 1207, 37, 0.018380527, 110000, 95000, 125000, 1534, 364, 193), (1, 2, 2416, 'MINING AND MINERAL ENGINEERING', 'Engineering', 756, 7, 679, 77, 0.10185185199999999, 640, 556, 170, 388, 85, 0.117241379, 75000, 55000, 90000, 350, 257, 50), (2, 3, 2415, 'METALLURGICAL ENGINEERING', 'Engineering', 856, 3, 725, 131, 0.153037383, 648, 558, 133, 340, 16, 0.024096386, 73000, 50000, 105000, 456, 176, 0)]\n"
     ]
    }
   ],
   "source": [
    "query = \"select * from recent_grads;\"\n",
    "results = conn.execute(query).fetchall()\n",
    "\n",
    "print(results[0:3])"
   ]
  },
  {
   "cell_type": "code",
   "execution_count": 7,
   "metadata": {},
   "outputs": [
    {
     "name": "stdout",
     "output_type": "stream",
     "text": [
      "('PETROLEUM ENGINEERING', 'Engineering')\n",
      "('MINING AND MINERAL ENGINEERING', 'Engineering')\n",
      "[('METALLURGICAL ENGINEERING', 'Engineering'), ('NAVAL ARCHITECTURE AND MARINE ENGINEERING', 'Engineering'), ('CHEMICAL ENGINEERING', 'Engineering'), ('NUCLEAR ENGINEERING', 'Engineering'), ('ACTUARIAL SCIENCE', 'Business')]\n"
     ]
    }
   ],
   "source": [
    "query = \"SELECT Major,Major_category FROM recent_grads;\"\n",
    "cursor.execute(query)\n",
    "\n",
    "first_result = cursor.fetchone()\n",
    "second_result = cursor.fetchone()\n",
    "next_five_results = cursor.fetchmany(5)\n",
    "\n",
    "print(first_result)\n",
    "print(second_result)\n",
    "print(next_five_results)"
   ]
  },
  {
   "cell_type": "code",
   "execution_count": 8,
   "metadata": {
    "collapsed": true
   },
   "outputs": [],
   "source": [
    "# Close the connection to the database\n",
    "conn.close()"
   ]
  },
  {
   "cell_type": "code",
   "execution_count": 9,
   "metadata": {},
   "outputs": [
    {
     "data": {
      "text/plain": [
       "[('ZOOLOGY',),\n",
       " ('VISUAL AND PERFORMING ARTS',),\n",
       " ('UNITED STATES HISTORY',),\n",
       " ('TREATMENT THERAPY PROFESSIONS',),\n",
       " ('TRANSPORTATION SCIENCES AND TECHNOLOGIES',),\n",
       " ('THEOLOGY AND RELIGIOUS VOCATIONS',),\n",
       " ('TEACHER EDUCATION: MULTIPLE LEVELS',),\n",
       " ('STUDIO ARTS',),\n",
       " ('STATISTICS AND DECISION SCIENCE',),\n",
       " ('SPECIAL NEEDS EDUCATION',),\n",
       " ('SOIL SCIENCE',),\n",
       " ('SOCIOLOGY',),\n",
       " ('SOCIAL WORK',),\n",
       " ('SOCIAL SCIENCE OR HISTORY TEACHER EDUCATION',),\n",
       " ('SOCIAL PSYCHOLOGY',),\n",
       " ('SECONDARY TEACHER EDUCATION',),\n",
       " ('SCIENCE AND COMPUTER TEACHER EDUCATION',),\n",
       " ('SCHOOL STUDENT COUNSELING',),\n",
       " ('PUBLIC POLICY',),\n",
       " ('PUBLIC ADMINISTRATION',),\n",
       " ('PSYCHOLOGY',),\n",
       " ('PRE-LAW AND LEGAL STUDIES',),\n",
       " ('POLITICAL SCIENCE AND GOVERNMENT',),\n",
       " ('PLANT SCIENCE AND AGRONOMY',),\n",
       " ('PHYSIOLOGY',),\n",
       " ('PHYSICS',),\n",
       " ('PHYSICAL SCIENCES',),\n",
       " ('PHYSICAL FITNESS PARKS RECREATION AND LEISURE',),\n",
       " ('PHYSICAL AND HEALTH EDUCATION TEACHING',),\n",
       " ('PHILOSOPHY AND RELIGIOUS STUDIES',),\n",
       " ('PHARMACY PHARMACEUTICAL SCIENCES AND ADMINISTRATION',),\n",
       " ('PHARMACOLOGY',),\n",
       " ('PETROLEUM ENGINEERING',),\n",
       " ('OTHER FOREIGN LANGUAGES',),\n",
       " ('OPERATIONS LOGISTICS AND E-COMMERCE',),\n",
       " ('OCEANOGRAPHY',),\n",
       " ('NUTRITION SCIENCES',),\n",
       " ('NURSING',),\n",
       " ('NUCLEAR, INDUSTRIAL RADIOLOGY, AND BIOLOGICAL TECHNOLOGIES',),\n",
       " ('NUCLEAR ENGINEERING',),\n",
       " ('NEUROSCIENCE',),\n",
       " ('NAVAL ARCHITECTURE AND MARINE ENGINEERING',),\n",
       " ('NATURAL RESOURCES MANAGEMENT',),\n",
       " ('MUSIC',),\n",
       " ('MULTI/INTERDISCIPLINARY STUDIES',),\n",
       " ('MULTI-DISCIPLINARY OR GENERAL SCIENCE',),\n",
       " ('MOLECULAR BIOLOGY',),\n",
       " ('MISCELLANEOUS SOCIAL SCIENCES',),\n",
       " ('MISCELLANEOUS PSYCHOLOGY',),\n",
       " ('MISCELLANEOUS HEALTH MEDICAL PROFESSIONS',),\n",
       " ('MISCELLANEOUS FINE ARTS',),\n",
       " ('MISCELLANEOUS ENGINEERING TECHNOLOGIES',),\n",
       " ('MISCELLANEOUS ENGINEERING',),\n",
       " ('MISCELLANEOUS EDUCATION',),\n",
       " ('MISCELLANEOUS BUSINESS & MEDICAL ADMINISTRATION',),\n",
       " ('MISCELLANEOUS BIOLOGY',),\n",
       " ('MISCELLANEOUS AGRICULTURE',),\n",
       " ('MINING AND MINERAL ENGINEERING',),\n",
       " ('MILITARY TECHNOLOGIES',),\n",
       " ('MICROBIOLOGY',),\n",
       " ('METALLURGICAL ENGINEERING',),\n",
       " ('MEDICAL TECHNOLOGIES TECHNICIANS',),\n",
       " ('MEDICAL ASSISTING SERVICES',),\n",
       " ('MECHANICAL ENGINEERING RELATED TECHNOLOGIES',),\n",
       " ('MECHANICAL ENGINEERING',),\n",
       " ('MATHEMATICS TEACHER EDUCATION',),\n",
       " ('MATHEMATICS AND COMPUTER SCIENCE',),\n",
       " ('MATHEMATICS',),\n",
       " ('MATERIALS SCIENCE',),\n",
       " ('MATERIALS ENGINEERING AND MATERIALS SCIENCE',),\n",
       " ('MASS MEDIA',),\n",
       " ('MARKETING AND MARKETING RESEARCH',),\n",
       " ('MANAGEMENT INFORMATION SYSTEMS AND STATISTICS',),\n",
       " ('LINGUISTICS AND COMPARATIVE LANGUAGE AND LITERATURE',),\n",
       " ('LIBRARY SCIENCE',),\n",
       " ('LIBERAL ARTS',),\n",
       " ('LANGUAGE AND DRAMA EDUCATION',),\n",
       " ('JOURNALISM',),\n",
       " ('INTERNATIONAL RELATIONS',),\n",
       " ('INTERNATIONAL BUSINESS',),\n",
       " ('INTERDISCIPLINARY SOCIAL SCIENCES',),\n",
       " ('INTERCULTURAL AND INTERNATIONAL STUDIES',),\n",
       " ('INFORMATION SCIENCES',),\n",
       " ('INDUSTRIAL PRODUCTION TECHNOLOGIES',),\n",
       " ('INDUSTRIAL AND ORGANIZATIONAL PSYCHOLOGY',),\n",
       " ('INDUSTRIAL AND MANUFACTURING ENGINEERING',),\n",
       " ('HUMANITIES',),\n",
       " ('HUMAN SERVICES AND COMMUNITY ORGANIZATION',),\n",
       " ('HUMAN RESOURCES AND PERSONNEL MANAGEMENT',),\n",
       " ('HOSPITALITY MANAGEMENT',),\n",
       " ('HISTORY',),\n",
       " ('HEALTH AND MEDICAL PREPARATORY PROGRAMS',),\n",
       " ('HEALTH AND MEDICAL ADMINISTRATIVE SERVICES',),\n",
       " ('GEOSCIENCES',),\n",
       " ('GEOLOGY AND EARTH SCIENCE',),\n",
       " ('GEOLOGICAL AND GEOPHYSICAL ENGINEERING',),\n",
       " ('GEOGRAPHY',),\n",
       " ('GENETICS',),\n",
       " ('GENERAL SOCIAL SCIENCES',),\n",
       " ('GENERAL MEDICAL AND HEALTH SERVICES',),\n",
       " ('GENERAL ENGINEERING',),\n",
       " ('GENERAL EDUCATION',),\n",
       " ('GENERAL BUSINESS',),\n",
       " ('GENERAL AGRICULTURE',),\n",
       " ('FRENCH GERMAN LATIN AND OTHER COMMON FOREIGN LANGUAGE STUDIES',),\n",
       " ('FORESTRY',),\n",
       " ('FOOD SCIENCE',),\n",
       " ('FINE ARTS',),\n",
       " ('FINANCE',),\n",
       " ('FILM VIDEO AND PHOTOGRAPHIC ARTS',),\n",
       " ('FAMILY AND CONSUMER SCIENCES',),\n",
       " ('ENVIRONMENTAL SCIENCE',),\n",
       " ('ENVIRONMENTAL ENGINEERING',),\n",
       " ('ENGLISH LANGUAGE AND LITERATURE',),\n",
       " ('ENGINEERING TECHNOLOGIES',),\n",
       " ('ENGINEERING MECHANICS PHYSICS AND SCIENCE',),\n",
       " ('ENGINEERING AND INDUSTRIAL MANAGEMENT',),\n",
       " ('ELEMENTARY EDUCATION',),\n",
       " ('ELECTRICAL, MECHANICAL, AND PRECISION TECHNOLOGIES AND PRODUCTION',),\n",
       " ('ELECTRICAL ENGINEERING TECHNOLOGY',),\n",
       " ('ELECTRICAL ENGINEERING',),\n",
       " ('EDUCATIONAL PSYCHOLOGY',),\n",
       " ('EDUCATIONAL ADMINISTRATION AND SUPERVISION',),\n",
       " ('ECONOMICS',),\n",
       " ('ECOLOGY',),\n",
       " ('EARLY CHILDHOOD EDUCATION',),\n",
       " ('DRAMA AND THEATER ARTS',),\n",
       " ('CRIMINOLOGY',),\n",
       " ('CRIMINAL JUSTICE AND FIRE PROTECTION',),\n",
       " ('COURT REPORTING',),\n",
       " ('COUNSELING PSYCHOLOGY',),\n",
       " ('COSMETOLOGY SERVICES AND CULINARY ARTS',),\n",
       " ('CONSTRUCTION SERVICES',),\n",
       " ('COMPUTER SCIENCE',),\n",
       " ('COMPUTER PROGRAMMING AND DATA PROCESSING',),\n",
       " ('COMPUTER NETWORKING AND TELECOMMUNICATIONS',),\n",
       " ('COMPUTER ENGINEERING',),\n",
       " ('COMPUTER AND INFORMATION SYSTEMS',),\n",
       " ('COMPUTER ADMINISTRATION MANAGEMENT AND SECURITY',),\n",
       " ('COMPOSITION AND RHETORIC',),\n",
       " ('COMMUNITY AND PUBLIC HEALTH',),\n",
       " ('COMMUNICATIONS',),\n",
       " ('COMMUNICATION TECHNOLOGIES',),\n",
       " ('COMMUNICATION DISORDERS SCIENCES AND SERVICES',),\n",
       " ('COMMERCIAL ART AND GRAPHIC DESIGN',),\n",
       " ('COGNITIVE SCIENCE AND BIOPSYCHOLOGY',),\n",
       " ('CLINICAL PSYCHOLOGY',),\n",
       " ('CIVIL ENGINEERING',),\n",
       " ('CHEMISTRY',),\n",
       " ('CHEMICAL ENGINEERING',),\n",
       " ('BUSINESS MANAGEMENT AND ADMINISTRATION',),\n",
       " ('BUSINESS ECONOMICS',),\n",
       " ('BOTANY',),\n",
       " ('BIOMEDICAL ENGINEERING',),\n",
       " ('BIOLOGY',),\n",
       " ('BIOLOGICAL ENGINEERING',),\n",
       " ('BIOCHEMICAL SCIENCES',),\n",
       " ('ATMOSPHERIC SCIENCES AND METEOROLOGY',),\n",
       " ('ASTRONOMY AND ASTROPHYSICS',),\n",
       " ('ART HISTORY AND CRITICISM',),\n",
       " ('ART AND MUSIC EDUCATION',),\n",
       " ('AREA ETHNIC AND CIVILIZATION STUDIES',),\n",
       " ('ARCHITECTURE',),\n",
       " ('ARCHITECTURAL ENGINEERING',),\n",
       " ('APPLIED MATHEMATICS',),\n",
       " ('ANTHROPOLOGY AND ARCHEOLOGY',),\n",
       " ('ANIMAL SCIENCES',),\n",
       " ('AGRICULTURE PRODUCTION AND MANAGEMENT',),\n",
       " ('AGRICULTURAL ECONOMICS',),\n",
       " ('AEROSPACE ENGINEERING',),\n",
       " ('ADVERTISING AND PUBLIC RELATIONS',),\n",
       " ('ACTUARIAL SCIENCE',),\n",
       " ('ACCOUNTING',)]"
      ]
     },
     "execution_count": 9,
     "metadata": {},
     "output_type": "execute_result"
    }
   ],
   "source": [
    "# Connect to the database jobs2.db, which contains the same data as jobs.db.\n",
    "conn = sqlite3.connect(\"jobs2.db\")\n",
    "cursor = conn.cursor()\n",
    "\n",
    "# A query that returns all of the majors (Major) in reverse alphabetical order (Z to A).\n",
    "query = \"SELECT Major FROM recent_grads ORDER BY Major DESC;\"\n",
    "cursor.execute(query)\n",
    "\n",
    "# Assign the full result set to reverse_alphabetical.\n",
    "reverse_alphabetical = cursor.fetchall()\n",
    "\n",
    "# Finally, close the connection to the database.\n",
    "conn.close()\n",
    "\n",
    "reverse_alphabetical"
   ]
  },
  {
   "cell_type": "code",
   "execution_count": null,
   "metadata": {
    "collapsed": true
   },
   "outputs": [],
   "source": []
  }
 ],
 "metadata": {
  "kernelspec": {
   "display_name": "Python 3",
   "language": "python",
   "name": "python3"
  },
  "language_info": {
   "codemirror_mode": {
    "name": "ipython",
    "version": 3
   },
   "file_extension": ".py",
   "mimetype": "text/x-python",
   "name": "python",
   "nbconvert_exporter": "python",
   "pygments_lexer": "ipython3",
   "version": "3.6.1"
  }
 },
 "nbformat": 4,
 "nbformat_minor": 2
}
