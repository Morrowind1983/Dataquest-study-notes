{
 "cells": [
  {
   "cell_type": "markdown",
   "metadata": {},
   "source": [
    "Use the SQLite Command Shell to explore factbook.db."
   ]
  },
  {
   "cell_type": "markdown",
   "metadata": {},
   "source": [
    "*<font color=\"#666666\">Connect to factbook.db using the SQLite Command Shell.</font>*  \n",
    "$ **sqlite3 factbook.db**  \n",
    "SQLite version 3.13.0 2016-05-18 10:57:30  \n",
    "Enter \".help\" for usage hints."
   ]
  },
  {
   "cell_type": "markdown",
   "metadata": {},
   "source": [
    "*<font color=\"#666666\">to see a list of the tables in the database.</font>*  \n",
    "sqlite> **.tables**  \n",
    "facts"
   ]
  },
  {
   "cell_type": "markdown",
   "metadata": {},
   "source": [
    "*<font color=\"#666666\">If you type .header on, you'll see the column headers when you run queries.</font>*  \n",
    "sqlite> **.header on**"
   ]
  },
  {
   "cell_type": "code",
   "execution_count": null,
   "metadata": {
    "collapsed": true
   },
   "outputs": [],
   "source": []
  }
 ],
 "metadata": {
  "kernelspec": {
   "display_name": "Python 3",
   "language": "python",
   "name": "python3"
  },
  "language_info": {
   "codemirror_mode": {
    "name": "ipython",
    "version": 3
   },
   "file_extension": ".py",
   "mimetype": "text/x-python",
   "name": "python",
   "nbconvert_exporter": "python",
   "pygments_lexer": "ipython3",
   "version": "3.6.1"
  }
 },
 "nbformat": 4,
 "nbformat_minor": 2
}
