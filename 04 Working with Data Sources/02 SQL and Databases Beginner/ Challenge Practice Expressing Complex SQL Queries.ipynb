{
 "cells": [
  {
   "cell_type": "code",
   "execution_count": 1,
   "metadata": {
    "collapsed": true
   },
   "outputs": [],
   "source": [
    "import sqlite3"
   ]
  },
  {
   "cell_type": "code",
   "execution_count": 2,
   "metadata": {
    "collapsed": true
   },
   "outputs": [],
   "source": [
    "conn = sqlite3.connect(\"jobs.db\")\n",
    "cursor = conn.cursor()"
   ]
  },
  {
   "cell_type": "code",
   "execution_count": 3,
   "metadata": {},
   "outputs": [
    {
     "data": {
      "text/plain": [
       "[(1534, 110000, 0.018380527),\n",
       " (350, 75000, 0.117241379),\n",
       " (456, 73000, 0.024096386),\n",
       " (529, 70000, 0.050125313),\n",
       " (18314, 65000, 0.061097712),\n",
       " (1142, 65000, 0.177226407),\n",
       " (1768, 62000, 0.095652174),\n",
       " (972, 62000, 0.021167415),\n",
       " (52844, 60000, 0.057342277999999997),\n",
       " (45829, 60000, 0.059173845),\n",
       " (23694, 60000, 0.065409275),\n",
       " (8184, 60000, 0.065162085),\n",
       " (6439, 60000, 0.09208386),\n",
       " (2626, 60000, 0.023042836),\n",
       " (2439, 58000, 0.006334343),\n",
       " (3603, 57100, 0.087143069),\n",
       " (8306, 57000, 0.042875544),\n",
       " (26898, 56000, 0.059824231),\n",
       " (1665, 54000, 0.061930782999999996),\n",
       " (402, 54000, 0.011689692)]"
      ]
     },
     "execution_count": 3,
     "metadata": {},
     "output_type": "execute_result"
    }
   ],
   "source": [
    "# A query that retrieves the first 20 rows in the table.\n",
    "query = \"SELECT College_jobs,Median,Unemployment_rate FROM recent_grads LIMIT 20;\"\n",
    "cursor.execute(query)\n",
    "results = cursor.fetchall()\n",
    "\n",
    "results"
   ]
  },
  {
   "cell_type": "code",
   "execution_count": 4,
   "metadata": {},
   "outputs": [
    {
     "data": {
      "text/plain": [
       "[('MISCELLANEOUS FINE ARTS',),\n",
       " ('COMMERCIAL ART AND GRAPHIC DESIGN',),\n",
       " ('FILM VIDEO AND PHOTOGRAPHIC ARTS',),\n",
       " ('MUSIC',),\n",
       " ('FINE ARTS',)]"
      ]
     },
     "execution_count": 4,
     "metadata": {},
     "output_type": "execute_result"
    }
   ],
   "source": [
    "# A query that returns the first five Arts majors. Only include the Major column.\n",
    "query = \"SELECT Major FROM recent_grads WHERE Major_category='Arts' LIMIT 5;\"\n",
    "cursor.execute(query)\n",
    "results = cursor.fetchall()\n",
    "\n",
    "results"
   ]
  },
  {
   "cell_type": "code",
   "execution_count": 5,
   "metadata": {},
   "outputs": [
    {
     "data": {
      "text/plain": [
       "[('ACTUARIAL SCIENCE', 3777, 62000, 0.095652174),\n",
       " ('FOOD SCIENCE', 4361, 53000, 0.09693146),\n",
       " ('CONSTRUCTION SERVICES', 18498, 50000, 0.060023041),\n",
       " ('OPERATIONS LOGISTICS AND E-COMMERCE', 11732, 50000, 0.047858702999999995),\n",
       " ('PUBLIC POLICY', 5978, 50000, 0.128426299),\n",
       " ('MISCELLANEOUS FINE ARTS', 3340, 50000, 0.089375),\n",
       " ('NURSING', 209394, 48000, 0.04486272400000001),\n",
       " ('FINANCE', 174506, 47000, 0.060686356),\n",
       " ('ECONOMICS', 139247, 47000, 0.099092317),\n",
       " ('BUSINESS ECONOMICS', 13302, 46000, 0.096448381),\n",
       " ('NUCLEAR, INDUSTRIAL RADIOLOGY, AND BIOLOGICAL TECHNOLOGIES',\n",
       "  2116,\n",
       "  46000,\n",
       "  0.07154047),\n",
       " ('ACCOUNTING', 198633, 45000, 0.069749014),\n",
       " ('MATHEMATICS', 72397, 45000, 0.047277137999999996),\n",
       " ('COMPUTER AND INFORMATION SYSTEMS', 36698, 45000, 0.093460326),\n",
       " ('PHYSICS', 32142, 45000, 0.048224496),\n",
       " ('MEDICAL TECHNOLOGIES TECHNICIANS', 15914, 45000, 0.03698279),\n",
       " ('INFORMATION SCIENCES', 11913, 45000, 0.060741445),\n",
       " ('STATISTICS AND DECISION SCIENCE', 6251, 45000, 0.086273666),\n",
       " ('APPLIED MATHEMATICS', 4939, 45000, 0.09082330699999999),\n",
       " ('PHARMACOLOGY', 1762, 45000, 0.085531575),\n",
       " ('OCEANOGRAPHY', 2418, 44700, 0.056994819),\n",
       " ('MEDICAL ASSISTING SERVICES', 11123, 42000, 0.042506527),\n",
       " ('MATHEMATICS AND COMPUTER SCIENCE', 609, 42000, 0.0),\n",
       " ('COMPUTER PROGRAMMING AND DATA PROCESSING', 4168, 41300, 0.11398259),\n",
       " ('COGNITIVE SCIENCE AND BIOPSYCHOLOGY', 3831, 41000, 0.075236167),\n",
       " ('SCHOOL STUDENT COUNSELING', 818, 41000, 0.10757946199999999),\n",
       " ('INTERNATIONAL RELATIONS', 28187, 40100, 0.09679894300000001),\n",
       " ('GENERAL BUSINESS', 234590, 40000, 0.072861468),\n",
       " ('INTERNATIONAL BUSINESS', 25894, 40000, 0.096175064),\n",
       " ('PHARMACY PHARMACEUTICAL SCIENCES AND ADMINISTRATION',\n",
       "  23551,\n",
       "  40000,\n",
       "  0.055520827),\n",
       " ('MOLECULAR BIOLOGY', 18300, 40000, 0.084361164),\n",
       " ('MISCELLANEOUS BUSINESS & MEDICAL ADMINISTRATION',\n",
       "  17947,\n",
       "  40000,\n",
       "  0.071982974),\n",
       " ('AGRICULTURE PRODUCTION AND MANAGEMENT', 14240, 40000, 0.050030835999999995),\n",
       " ('GENERAL AGRICULTURE', 10399, 40000, 0.019642463),\n",
       " ('GENETICS', 3635, 40000, 0.034117647),\n",
       " ('MISCELLANEOUS SOCIAL SCIENCES', 3283, 40000, 0.073079538),\n",
       " ('UNITED STATES HISTORY', 3079, 40000, 0.047179487),\n",
       " ('INDUSTRIAL AND ORGANIZATIONAL PSYCHOLOGY',\n",
       "  3014,\n",
       "  40000,\n",
       "  0.10878661099999999),\n",
       " ('AGRICULTURAL ECONOMICS', 2439, 40000, 0.077249576),\n",
       " ('PHYSICAL SCIENCES', 1436, 40000, 0.035353535),\n",
       " ('MILITARY TECHNOLOGIES', 124, 40000, None),\n",
       " ('CHEMISTRY', 66530, 39000, 0.053972400000000004),\n",
       " ('ELECTRICAL, MECHANICAL, AND PRECISION TECHNOLOGIES AND PRODUCTION',\n",
       "  2435,\n",
       "  38400,\n",
       "  0.029479502999999997),\n",
       " ('BUSINESS MANAGEMENT AND ADMINISTRATION',\n",
       "  329927,\n",
       "  38000,\n",
       "  0.07221834099999999),\n",
       " ('MARKETING AND MARKETING RESEARCH', 205211, 38000, 0.061215064000000007),\n",
       " ('POLITICAL SCIENCE AND GOVERNMENT', 182621, 38000, 0.101174601),\n",
       " ('GEOGRAPHY', 18480, 38000, 0.113458628),\n",
       " ('MICROBIOLOGY', 15232, 38000, 0.066775872),\n",
       " ('COMPUTER ADMINISTRATION MANAGEMENT AND SECURITY', 8066, 37500, 0.099723375),\n",
       " ('BIOCHEMICAL SCIENCES', 39107, 37400, 0.080531385),\n",
       " ('BOTANY', 1329, 37000, 0.0),\n",
       " ('COMPUTER NETWORKING AND TELECOMMUNICATIONS', 7613, 36400, 0.151849807),\n",
       " ('GEOLOGY AND EARTH SCIENCE', 10972, 36200, 0.075448568),\n",
       " ('HUMAN RESOURCES AND PERSONNEL MANAGEMENT', 24497, 36000, 0.059569649),\n",
       " ('PRE-LAW AND LEGAL STUDIES', 13528, 36000, 0.07196501599999999),\n",
       " ('MISCELLANEOUS HEALTH MEDICAL PROFESSIONS', 13386, 36000, 0.08141125),\n",
       " ('PUBLIC ADMINISTRATION', 5629, 36000, 0.15949059999999998),\n",
       " ('GEOSCIENCES', 1978, 36000, 0.024373731000000003),\n",
       " ('SOCIAL PSYCHOLOGY', 1386, 36000, 0.029649596),\n",
       " ('ENVIRONMENTAL SCIENCE', 25965, 35600, 0.07858468099999999),\n",
       " ('COMMUNICATIONS', 213996, 35000, 0.07517697599999999),\n",
       " ('CRIMINAL JUSTICE AND FIRE PROTECTION', 152824, 35000, 0.082452199),\n",
       " ('COMMERCIAL ART AND GRAPHIC DESIGN', 103480, 35000, 0.096797577),\n",
       " ('JOURNALISM', 72619, 35000, 0.069176442),\n",
       " ('MULTI-DISCIPLINARY OR GENERAL SCIENCE', 62052, 35000, 0.055806815),\n",
       " ('ADVERTISING AND PUBLIC RELATIONS', 53162, 35000, 0.06796076599999999),\n",
       " ('AREA ETHNIC AND CIVILIZATION STUDIES', 31195, 35000, 0.063429289),\n",
       " ('SPECIAL NEEDS EDUCATION', 28739, 35000, 0.041507819),\n",
       " ('PHYSIOLOGY', 22060, 35000, 0.06916280000000001),\n",
       " ('CRIMINOLOGY', 19879, 35000, 0.097243919),\n",
       " ('NUTRITION SCIENCES', 18909, 35000, 0.068700676),\n",
       " ('HEALTH AND MEDICAL ADMINISTRATIVE SERVICES', 18109, 35000, 0.089626262),\n",
       " ('COMMUNICATION TECHNOLOGIES', 18035, 35000, 0.11951146900000001),\n",
       " ('TRANSPORTATION SCIENCES AND TECHNOLOGIES', 15150, 35000, 0.072724524),\n",
       " ('NATURAL RESOURCES MANAGEMENT', 13773, 35000, 0.066619195),\n",
       " ('NEUROSCIENCE', 13663, 35000, 0.048481675),\n",
       " ('MULTI/INTERDISCIPLINARY STUDIES', 12296, 35000, 0.070860927),\n",
       " ('ATMOSPHERIC SCIENCES AND METEOROLOGY', 4043, 35000, 0.022228555),\n",
       " ('FORESTRY', 3607, 35000, 0.096725743),\n",
       " ('SOIL SCIENCE', 685, 35000, 0.0),\n",
       " ('GENERAL EDUCATION', 143718, 34000, 0.057359929000000004),\n",
       " ('HISTORY', 141951, 34000, 0.09566691199999999),\n",
       " ('FRENCH GERMAN LATIN AND OTHER COMMON FOREIGN LANGUAGE STUDIES',\n",
       "  48246,\n",
       "  34000,\n",
       "  0.075566386),\n",
       " ('INTERCULTURAL AND INTERNATIONAL STUDIES', 24650, 34000, 0.083633531),\n",
       " ('SOCIAL SCIENCE OR HISTORY TEACHER EDUCATION',\n",
       "  20198,\n",
       "  34000,\n",
       "  0.054082940999999995),\n",
       " ('COMMUNITY AND PUBLIC HEALTH', 19735, 34000, 0.112144387),\n",
       " ('MATHEMATICS TEACHER EDUCATION', 14237, 34000, 0.016202835),\n",
       " ('EDUCATIONAL ADMINISTRATION AND SUPERVISION', 804, 34000, 0.0),\n",
       " ('HEALTH AND MEDICAL PREPARATORY PROGRAMS',\n",
       "  12740,\n",
       "  33500,\n",
       "  0.06977971200000001),\n",
       " ('MISCELLANEOUS BIOLOGY', 10706, 33500, 0.058545455),\n",
       " ('BIOLOGY', 280709, 33400, 0.070724732),\n",
       " ('SOCIOLOGY', 115433, 33000, 0.084951001),\n",
       " ('MASS MEDIA', 52824, 33000, 0.089836827),\n",
       " ('TREATMENT THERAPY PROFESSIONS', 48491, 33000, 0.059821207),\n",
       " ('HOSPITALITY MANAGEMENT', 43647, 33000, 0.061169193),\n",
       " ('LANGUAGE AND DRAMA EDUCATION', 30471, 33000, 0.050306435),\n",
       " ('LINGUISTICS AND COMPARATIVE LANGUAGE AND LITERATURE',\n",
       "  16601,\n",
       "  33000,\n",
       "  0.10443571),\n",
       " ('MISCELLANEOUS EDUCATION', 10150, 33000, 0.059211951),\n",
       " ('INTERDISCIPLINARY SOCIAL SCIENCES', 9916, 33000, 0.092305816),\n",
       " ('ECOLOGY', 9154, 33000, 0.054475193),\n",
       " ('SECONDARY TEACHER EDUCATION', 17125, 32500, 0.05222898),\n",
       " ('GENERAL MEDICAL AND HEALTH SERVICES', 33599, 32400, 0.082101621),\n",
       " ('PHILOSOPHY AND RELIGIOUS STUDIES', 54814, 32200, 0.096051684),\n",
       " ('ART AND MUSIC EDUCATION', 34181, 32100, 0.038637747),\n",
       " ('ENGLISH LANGUAGE AND LITERATURE', 194673, 32000, 0.08772359),\n",
       " ('ELEMENTARY EDUCATION', 170862, 32000, 0.046585715),\n",
       " ('PHYSICAL FITNESS PARKS RECREATION AND LEISURE', 125074, 32000, 0.051467273),\n",
       " ('LIBERAL ARTS', 71369, 32000, 0.078267592),\n",
       " ('FILM VIDEO AND PHOTOGRAPHIC ARTS', 38761, 32000, 0.10577224),\n",
       " ('GENERAL SOCIAL SCIENCES', 12920, 32000, 0.103454715),\n",
       " ('PLANT SCIENCE AND AGRONOMY', 7416, 32000, 0.045454545),\n",
       " ('SCIENCE AND COMPUTER TEACHER EDUCATION', 6483, 32000, 0.047263682),\n",
       " ('PSYCHOLOGY', 393735, 31500, 0.083810867),\n",
       " ('MUSIC', 60633, 31000, 0.075959674),\n",
       " ('PHYSICAL AND HEALTH EDUCATION TEACHING', 28213, 31000, 0.074667496),\n",
       " ('ART HISTORY AND CRITICISM', 21030, 31000, 0.060298284),\n",
       " ('FINE ARTS', 74440, 30500, 0.084186296),\n",
       " ('FAMILY AND CONSUMER SCIENCES', 58001, 30000, 0.067128194),\n",
       " ('SOCIAL WORK', 53552, 30000, 0.06882792),\n",
       " ('ANIMAL SCIENCES', 21573, 30000, 0.050862499000000005),\n",
       " ('VISUAL AND PERFORMING ARTS', 16250, 30000, 0.102197419),\n",
       " ('TEACHER EDUCATION: MULTIPLE LEVELS', 14443, 30000, 0.03654583),\n",
       " ('MISCELLANEOUS PSYCHOLOGY', 9628, 30000, 0.05190783),\n",
       " ('HUMAN SERVICES AND COMMUNITY ORGANIZATION', 9374, 30000, 0.037819026),\n",
       " ('HUMANITIES', 6652, 30000, 0.068584071),\n",
       " ('THEOLOGY AND RELIGIOUS VOCATIONS', 30207, 29000, 0.062628297),\n",
       " ('STUDIO ARTS', 16977, 29000, 0.089552239),\n",
       " ('COSMETOLOGY SERVICES AND CULINARY ARTS', 10510, 29000, 0.055676856),\n",
       " ('MISCELLANEOUS AGRICULTURE', 1488, 29000, 0.05976676400000001),\n",
       " ('ANTHROPOLOGY AND ARCHEOLOGY', 38844, 28000, 0.102791571),\n",
       " ('COMMUNICATION DISORDERS SCIENCES AND SERVICES',\n",
       "  38279,\n",
       "  28000,\n",
       "  0.047583999999999994),\n",
       " ('EARLY CHILDHOOD EDUCATION', 37589, 28000, 0.040104981),\n",
       " ('OTHER FOREIGN LANGUAGES', 11204, 27500, 0.107115726),\n",
       " ('DRAMA AND THEATER ARTS', 43249, 27000, 0.07754113),\n",
       " ('COMPOSITION AND RHETORIC', 18953, 27000, 0.081742207),\n",
       " ('ZOOLOGY', 8409, 26000, 0.04632028),\n",
       " ('EDUCATIONAL PSYCHOLOGY', 2854, 25000, 0.065112187),\n",
       " ('CLINICAL PSYCHOLOGY', 2838, 25000, 0.14904819800000002),\n",
       " ('COUNSELING PSYCHOLOGY', 4626, 23400, 0.053620645999999994),\n",
       " ('LIBRARY SCIENCE', 1098, 22000, 0.10494571800000001)]"
      ]
     },
     "execution_count": 5,
     "metadata": {},
     "output_type": "execute_result"
    }
   ],
   "source": [
    "# Return all non-engineering majors:\n",
    "# With a median salary less than or equal to 50,000\n",
    "# Or an unemployment rate higher than 6.5%\n",
    "query = \"SELECT Major,Total,Median,Unemployment_rate \\\n",
    "FROM recent_grads \\\n",
    "WHERE Major_category!='Engineering' AND (Median<=50000 OR Unemployment_rate>0.065);\"\n",
    "cursor.execute(query)\n",
    "results = cursor.fetchall()\n",
    "\n",
    "results"
   ]
  },
  {
   "cell_type": "code",
   "execution_count": 6,
   "metadata": {},
   "outputs": [
    {
     "data": {
      "text/plain": [
       "[('ZOOLOGY',),\n",
       " ('VISUAL AND PERFORMING ARTS',),\n",
       " ('UNITED STATES HISTORY',),\n",
       " ('TREATMENT THERAPY PROFESSIONS',),\n",
       " ('TRANSPORTATION SCIENCES AND TECHNOLOGIES',),\n",
       " ('THEOLOGY AND RELIGIOUS VOCATIONS',),\n",
       " ('TEACHER EDUCATION: MULTIPLE LEVELS',),\n",
       " ('STUDIO ARTS',),\n",
       " ('STATISTICS AND DECISION SCIENCE',),\n",
       " ('SPECIAL NEEDS EDUCATION',),\n",
       " ('SOIL SCIENCE',),\n",
       " ('SOCIOLOGY',),\n",
       " ('SOCIAL WORK',),\n",
       " ('SOCIAL SCIENCE OR HISTORY TEACHER EDUCATION',),\n",
       " ('SOCIAL PSYCHOLOGY',),\n",
       " ('SECONDARY TEACHER EDUCATION',),\n",
       " ('SCIENCE AND COMPUTER TEACHER EDUCATION',),\n",
       " ('SCHOOL STUDENT COUNSELING',),\n",
       " ('PUBLIC POLICY',),\n",
       " ('PUBLIC ADMINISTRATION',)]"
      ]
     },
     "execution_count": 6,
     "metadata": {},
     "output_type": "execute_result"
    }
   ],
   "source": [
    "# Return the first 20 non-engineering majors in reverse alphabetical order.\n",
    "query = \"SELECT Major \\\n",
    "FROM recent_grads \\\n",
    "WHERE Major_category!='Engineering' \\\n",
    "ORDER BY Major DESC \\\n",
    "LIMIT 20;\"\n",
    "cursor.execute(query)\n",
    "results = cursor.fetchall()\n",
    "\n",
    "results"
   ]
  },
  {
   "cell_type": "code",
   "execution_count": null,
   "metadata": {
    "collapsed": true
   },
   "outputs": [],
   "source": []
  }
 ],
 "metadata": {
  "kernelspec": {
   "display_name": "Python 3",
   "language": "python",
   "name": "python3"
  },
  "language_info": {
   "codemirror_mode": {
    "name": "ipython",
    "version": 3
   },
   "file_extension": ".py",
   "mimetype": "text/x-python",
   "name": "python",
   "nbconvert_exporter": "python",
   "pygments_lexer": "ipython3",
   "version": "3.6.1"
  }
 },
 "nbformat": 4,
 "nbformat_minor": 2
}
