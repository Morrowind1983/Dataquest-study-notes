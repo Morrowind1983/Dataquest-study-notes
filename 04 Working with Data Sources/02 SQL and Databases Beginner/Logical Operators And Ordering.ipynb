{
 "cells": [
  {
   "cell_type": "code",
   "execution_count": 1,
   "metadata": {
    "collapsed": true
   },
   "outputs": [],
   "source": [
    "import sqlite3"
   ]
  },
  {
   "cell_type": "code",
   "execution_count": 2,
   "metadata": {
    "collapsed": true
   },
   "outputs": [],
   "source": [
    "conn = sqlite3.connect(\"jobs.db\")\n",
    "cursor = conn.cursor()"
   ]
  },
  {
   "cell_type": "code",
   "execution_count": 3,
   "metadata": {},
   "outputs": [
    {
     "data": {
      "text/plain": [
       "[('COMPUTER SCIENCE', 0.578766338, 102087),\n",
       " ('NURSING', 0.896018988, 180903),\n",
       " ('COMPUTER AND INFORMATION SYSTEMS', 0.7077185020000001, 28459),\n",
       " ('INTERNATIONAL RELATIONS', 0.632986838, 21190),\n",
       " ('AGRICULTURE PRODUCTION AND MANAGEMENT', 0.59420765, 12323),\n",
       " ('CHEMISTRY', 0.5051405379999999, 48535),\n",
       " ('BUSINESS MANAGEMENT AND ADMINISTRATION', 0.580948004, 276234),\n",
       " ('BIOCHEMICAL SCIENCES', 0.515406449, 25678),\n",
       " ('HUMAN RESOURCES AND PERSONNEL MANAGEMENT', 0.672161443, 20760),\n",
       " ('MISCELLANEOUS HEALTH MEDICAL PROFESSIONS', 0.702020202, 10076)]"
      ]
     },
     "execution_count": 3,
     "metadata": {},
     "output_type": "execute_result"
    }
   ],
   "source": [
    "# The query returns all of the female-majority majors with more than 10000 employed graduates.\n",
    "query = \"SELECT Major,ShareWomen,Employed FROM recent_grads WHERE ShareWomen>0.5 AND Employed>10000 LIMIT 10;\"\n",
    "cursor.execute(query)\n",
    "results = cursor.fetchall()\n",
    "\n",
    "results"
   ]
  },
  {
   "cell_type": "code",
   "execution_count": 4,
   "metadata": {},
   "outputs": [
    {
     "data": {
      "text/plain": [
       "[('PETROLEUM ENGINEERING', 110000, 37),\n",
       " ('MINING AND MINERAL ENGINEERING', 75000, 85),\n",
       " ('METALLURGICAL ENGINEERING', 73000, 16),\n",
       " ('NAVAL ARCHITECTURE AND MARINE ENGINEERING', 70000, 40),\n",
       " ('CHEMICAL ENGINEERING', 65000, 1672),\n",
       " ('NUCLEAR ENGINEERING', 65000, 400),\n",
       " ('ACTUARIAL SCIENCE', 62000, 308),\n",
       " ('ASTRONOMY AND ASTROPHYSICS', 62000, 33),\n",
       " ('MECHANICAL ENGINEERING', 60000, 4650),\n",
       " ('ELECTRICAL ENGINEERING', 60000, 3895),\n",
       " ('COMPUTER ENGINEERING', 60000, 2275),\n",
       " ('AEROSPACE ENGINEERING', 60000, 794),\n",
       " ('BIOMEDICAL ENGINEERING', 60000, 1019),\n",
       " ('MATERIALS SCIENCE', 60000, 78),\n",
       " ('ENGINEERING MECHANICS PHYSICS AND SCIENCE', 58000, 23),\n",
       " ('BIOLOGICAL ENGINEERING', 57100, 589),\n",
       " ('INDUSTRIAL AND MANUFACTURING ENGINEERING', 57000, 699),\n",
       " ('GENERAL ENGINEERING', 56000, 2859),\n",
       " ('ARCHITECTURAL ENGINEERING', 54000, 170),\n",
       " ('COURT REPORTING', 54000, 11)]"
      ]
     },
     "execution_count": 4,
     "metadata": {},
     "output_type": "execute_result"
    }
   ],
   "source": [
    "# A SQL query that returns the first 20 majors that either:\n",
    "# have a Median salary greater than or equal to 10,000, or\n",
    "# have less than or equal to 1,000 Unemployed people\n",
    "query = \"SELECT Major,Median,Unemployed FROM recent_grads WHERE Median>=10000 OR Unemployed<=1000 LIMIT 20;\"\n",
    "cursor.execute(query)\n",
    "results = cursor.fetchall()\n",
    "\n",
    "results"
   ]
  },
  {
   "cell_type": "code",
   "execution_count": 5,
   "metadata": {},
   "outputs": [
    {
     "data": {
      "text/plain": [
       "[('PETROLEUM ENGINEERING', 'Engineering', 0.120564344, 0.018380527),\n",
       " ('METALLURGICAL ENGINEERING', 'Engineering', 0.153037383, 0.024096386),\n",
       " ('NAVAL ARCHITECTURE AND MARINE ENGINEERING',\n",
       "  'Engineering',\n",
       "  0.107313196,\n",
       "  0.050125313),\n",
       " ('MATERIALS SCIENCE', 'Engineering', 0.310820285, 0.023042836),\n",
       " ('ENGINEERING MECHANICS PHYSICS AND SCIENCE',\n",
       "  'Engineering',\n",
       "  0.183985189,\n",
       "  0.006334343),\n",
       " ('INDUSTRIAL AND MANUFACTURING ENGINEERING',\n",
       "  'Engineering',\n",
       "  0.34347321799999997,\n",
       "  0.042875544),\n",
       " ('MATERIALS ENGINEERING AND MATERIALS SCIENCE',\n",
       "  'Engineering',\n",
       "  0.292607004,\n",
       "  0.027788805),\n",
       " ('ENVIRONMENTAL ENGINEERING', 'Engineering', 0.558548009, 0.093588575),\n",
       " ('INDUSTRIAL PRODUCTION TECHNOLOGIES',\n",
       "  'Engineering',\n",
       "  0.75047259,\n",
       "  0.028308097),\n",
       " ('ENGINEERING AND INDUSTRIAL MANAGEMENT',\n",
       "  'Engineering',\n",
       "  0.174122505,\n",
       "  0.03365166)]"
      ]
     },
     "execution_count": 5,
     "metadata": {},
     "output_type": "execute_result"
    }
   ],
   "source": [
    "# Run the query returns all Engineering majors that:\n",
    "# either had mostly women graduates\n",
    "# or had an unemployment rate below 5.1%, which was the rate in August 2015\n",
    "query = \"SELECT Major,Major_category,ShareWomen,Unemployment_rate \\\n",
    "FROM recent_grads \\\n",
    "WHERE Major_category='Engineering' AND (ShareWomen>0.5 OR Unemployment_rate<=0.051);\"\n",
    "cursor.execute(query)\n",
    "results = cursor.fetchall()\n",
    "\n",
    "results"
   ]
  },
  {
   "cell_type": "code",
   "execution_count": 6,
   "metadata": {},
   "outputs": [
    {
     "data": {
      "text/plain": [
       "[('OPERATIONS LOGISTICS AND E-COMMERCE',\n",
       "  'Business',\n",
       "  10027,\n",
       "  0.047858702999999995),\n",
       " ('NURSING', 'Health', 180903, 0.04486272400000001),\n",
       " ('FINANCE', 'Business', 145696, 0.060686356),\n",
       " ('ACCOUNTING', 'Business', 165527, 0.069749014),\n",
       " ('MEDICAL TECHNOLOGIES TECHNICIANS', 'Health', 13150, 0.03698279),\n",
       " ('MEDICAL ASSISTING SERVICES', 'Health', 9168, 0.042506527),\n",
       " ('GENERAL BUSINESS', 'Business', 190183, 0.072861468),\n",
       " ('BUSINESS MANAGEMENT AND ADMINISTRATION',\n",
       "  'Business',\n",
       "  276234,\n",
       "  0.07221834099999999),\n",
       " ('MARKETING AND MARKETING RESEARCH',\n",
       "  'Business',\n",
       "  178862,\n",
       "  0.061215064000000007),\n",
       " ('HUMAN RESOURCES AND PERSONNEL MANAGEMENT', 'Business', 20760, 0.059569649),\n",
       " ('COMMERCIAL ART AND GRAPHIC DESIGN', 'Arts', 83483, 0.096797577),\n",
       " ('TREATMENT THERAPY PROFESSIONS', 'Health', 37861, 0.059821207),\n",
       " ('HOSPITALITY MANAGEMENT', 'Business', 36728, 0.061169193),\n",
       " ('GENERAL MEDICAL AND HEALTH SERVICES', 'Health', 24406, 0.082101621),\n",
       " ('FILM VIDEO AND PHOTOGRAPHIC ARTS', 'Arts', 31433, 0.10577224),\n",
       " ('MUSIC', 'Arts', 47662, 0.075959674),\n",
       " ('FINE ARTS', 'Arts', 59679, 0.084186296),\n",
       " ('COMMUNICATION DISORDERS SCIENCES AND SERVICES',\n",
       "  'Health',\n",
       "  29763,\n",
       "  0.047583999999999994),\n",
       " ('DRAMA AND THEATER ARTS', 'Arts', 36165, 0.07754113)]"
      ]
     },
     "execution_count": 6,
     "metadata": {},
     "output_type": "execute_result"
    }
   ],
   "source": [
    "# Find all majors that meet all of the following criteria:\n",
    "# Major_category of Business or Arts or Health\n",
    "# Employed students greater than 20,000 or Unemployment_rate below 5.1%\n",
    "query = \"SELECT Major,Major_category,Employed,Unemployment_rate \\\n",
    "FROM recent_grads \\\n",
    "WHERE (Major_category='Business' OR Major_category='Arts' OR Major_category='Health') \\\n",
    "AND (Employed>20000 OR Unemployment_rate<=0.051);\"\n",
    "cursor.execute(query)\n",
    "results = cursor.fetchall()\n",
    "\n",
    "results"
   ]
  },
  {
   "cell_type": "code",
   "execution_count": 7,
   "metadata": {},
   "outputs": [
    {
     "data": {
      "text/plain": [
       "[('ZOOLOGY',),\n",
       " ('VISUAL AND PERFORMING ARTS',),\n",
       " ('UNITED STATES HISTORY',),\n",
       " ('TREATMENT THERAPY PROFESSIONS',),\n",
       " ('TRANSPORTATION SCIENCES AND TECHNOLOGIES',),\n",
       " ('THEOLOGY AND RELIGIOUS VOCATIONS',),\n",
       " ('TEACHER EDUCATION: MULTIPLE LEVELS',),\n",
       " ('STUDIO ARTS',),\n",
       " ('STATISTICS AND DECISION SCIENCE',),\n",
       " ('SPECIAL NEEDS EDUCATION',)]"
      ]
     },
     "execution_count": 7,
     "metadata": {},
     "output_type": "execute_result"
    }
   ],
   "source": [
    "# Return the first 10 values in the Major column in reverse alphabetical order.\n",
    "query = \"SELECT Major FROM recent_grads ORDER BY Major DESC LIMIT 10;\"\n",
    "cursor.execute(query)\n",
    "results = cursor.fetchall()\n",
    "\n",
    "results"
   ]
  },
  {
   "cell_type": "code",
   "execution_count": 8,
   "metadata": {},
   "outputs": [
    {
     "data": {
      "text/plain": [
       "[('Business', 45000, 'ACCOUNTING'),\n",
       " ('Business', 62000, 'ACTUARIAL SCIENCE'),\n",
       " ('Communications & Journalism', 35000, 'ADVERTISING AND PUBLIC RELATIONS'),\n",
       " ('Engineering', 60000, 'AEROSPACE ENGINEERING'),\n",
       " ('Agriculture & Natural Resources', 40000, 'AGRICULTURAL ECONOMICS'),\n",
       " ('Agriculture & Natural Resources',\n",
       "  40000,\n",
       "  'AGRICULTURE PRODUCTION AND MANAGEMENT'),\n",
       " ('Agriculture & Natural Resources', 30000, 'ANIMAL SCIENCES'),\n",
       " ('Humanities & Liberal Arts', 28000, 'ANTHROPOLOGY AND ARCHEOLOGY'),\n",
       " ('Computers & Mathematics', 45000, 'APPLIED MATHEMATICS'),\n",
       " ('Engineering', 54000, 'ARCHITECTURAL ENGINEERING'),\n",
       " ('Engineering', 40000, 'ARCHITECTURE'),\n",
       " ('Humanities & Liberal Arts', 35000, 'AREA ETHNIC AND CIVILIZATION STUDIES'),\n",
       " ('Education', 32100, 'ART AND MUSIC EDUCATION'),\n",
       " ('Humanities & Liberal Arts', 31000, 'ART HISTORY AND CRITICISM'),\n",
       " ('Physical Sciences', 62000, 'ASTRONOMY AND ASTROPHYSICS'),\n",
       " ('Physical Sciences', 35000, 'ATMOSPHERIC SCIENCES AND METEOROLOGY'),\n",
       " ('Biology & Life Science', 37400, 'BIOCHEMICAL SCIENCES'),\n",
       " ('Engineering', 57100, 'BIOLOGICAL ENGINEERING'),\n",
       " ('Biology & Life Science', 33400, 'BIOLOGY'),\n",
       " ('Engineering', 60000, 'BIOMEDICAL ENGINEERING')]"
      ]
     },
     "execution_count": 8,
     "metadata": {},
     "output_type": "execute_result"
    }
   ],
   "source": [
    "# A query that orders the majors by Major in ascending order, then by Median salary in descending order.\n",
    "query = \"SELECT Major_category,Median,Major FROM recent_grads ORDER BY Major ASC,Median DESC LIMIT 20;\"\n",
    "cursor.execute(query)\n",
    "results = cursor.fetchall()\n",
    "\n",
    "results"
   ]
  },
  {
   "cell_type": "code",
   "execution_count": null,
   "metadata": {
    "collapsed": true
   },
   "outputs": [],
   "source": []
  }
 ],
 "metadata": {
  "kernelspec": {
   "display_name": "Python 3",
   "language": "python",
   "name": "python3"
  },
  "language_info": {
   "codemirror_mode": {
    "name": "ipython",
    "version": 3
   },
   "file_extension": ".py",
   "mimetype": "text/x-python",
   "name": "python",
   "nbconvert_exporter": "python",
   "pygments_lexer": "ipython3",
   "version": "3.6.1"
  }
 },
 "nbformat": 4,
 "nbformat_minor": 2
}
